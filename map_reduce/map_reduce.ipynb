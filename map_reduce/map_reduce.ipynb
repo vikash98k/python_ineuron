{
 "cells": [
  {
   "cell_type": "code",
   "execution_count": 13,
   "metadata": {},
   "outputs": [
    {
     "name": "stdout",
     "output_type": "stream",
     "text": [
      "This: 1\n",
      "is: 1\n",
      "an: 1\n",
      "example: 1\n",
      "input: 1\n",
      "file.: 1\n",
      "It: 1\n",
      "contains: 1\n",
      "some: 1\n",
      "sample: 1\n",
      "text: 1\n",
      "for: 1\n",
      "testing: 1\n",
      "purposes.: 1\n",
      "Each: 1\n",
      "line: 1\n",
      "will: 1\n",
      "be: 1\n",
      "processed: 1\n",
      "independently.: 1\n",
      "You: 1\n",
      "can: 1\n",
      "modify: 1\n",
      "this: 1\n",
      "file: 1\n",
      "as: 1\n",
      "needed.: 1\n"
     ]
    }
   ],
   "source": [
    "from collections import defaultdict\n",
    "from functools import reduce\n",
    "\n",
    "\n",
    "def mapper(line):\n",
    "    words = line.strip().split()\n",
    "    return [(word, 1) for word in words]\n",
    "\n",
    "def reducer(word, counts):\n",
    "    return (word, sum(counts))\n",
    "\n",
    "def word_count(input_file):\n",
    "    with open(input_file, 'r') as file:\n",
    "        lines = file.readlines()\n",
    "    \n",
    "    # Map phase\n",
    "    mapped_data = [mapper(line) for line in lines]\n",
    "    flattened_data = reduce(lambda x, y: x + y, mapped_data)\n",
    "    \n",
    "    # Shuffle and sort\n",
    "    grouped_data = defaultdict(list)\n",
    "    for word, count in flattened_data:\n",
    "        grouped_data[word].append(count)\n",
    "    \n",
    "    # Reduce phase\n",
    "    result = [reducer(word, counts) for word, counts in grouped_data.items()]\n",
    "    \n",
    "    return result\n",
    "\n",
    "\n",
    "input_file = r\"C:\\Users\\V\\Desktop\\python_ineuron\\map_reduce\\input.txt\"\n",
    "output = word_count(input_file)\n",
    "\n",
    "# Print word count results\n",
    "for word, count in output:\n",
    "    print(f\"{word}: {count}\")\n"
   ]
  }
 ],
 "metadata": {
  "kernelspec": {
   "display_name": "Python 3",
   "language": "python",
   "name": "python3"
  },
  "language_info": {
   "codemirror_mode": {
    "name": "ipython",
    "version": 3
   },
   "file_extension": ".py",
   "mimetype": "text/x-python",
   "name": "python",
   "nbconvert_exporter": "python",
   "pygments_lexer": "ipython3",
   "version": "3.11.3"
  },
  "orig_nbformat": 4
 },
 "nbformat": 4,
 "nbformat_minor": 2
}
