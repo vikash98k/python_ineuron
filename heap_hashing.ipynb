{
 "cells": [
  {
   "attachments": {},
   "cell_type": "markdown",
   "metadata": {},
   "source": [
    "Q.1) Given preorder of a binary tree, calculate its **[depth(or height)](https://www.geeksforgeeks.org/write-a-c-program-to-find-the-maximum-depth-or-height-of-a-tree/)** [starting from depth 0]. The preorder is given as a string with two possible characters.\n",
    "\n",
    "1. ‘l’ denotes the leaf\n",
    "2. ‘n’ denotes internal node\n",
    "\n",
    "The given tree can be seen as a full binary tree where every node has 0 or two children. The two children of a node can ‘n’ or ‘l’ or mix of both."
   ]
  },
  {
   "cell_type": "code",
   "execution_count": 12,
   "metadata": {},
   "outputs": [
    {
     "name": "stdout",
     "output_type": "stream",
     "text": [
      "3\n"
     ]
    }
   ],
   "source": [
    "def findDepthRec(tree, n, index) :\n",
    "\n",
    "\tif (index[0] >= n or tree[index[0]] == 'l'):\n",
    "\t\treturn 0\n",
    "\tindex[0] += 1\n",
    "\tleft = findDepthRec(tree, n, index)\n",
    "\tindex[0] += 1\n",
    "\tright = findDepthRec(tree, n, index)\n",
    "\treturn (max(left, right) + 1)\n",
    "\n",
    "\n",
    "def findDepth(tree, n) :\n",
    "\n",
    "\tindex = [0]\n",
    "\treturn findDepthRec(tree, n, index)\n",
    "\n",
    "\t\t\n",
    "if __name__ == '__main__':\n",
    "\ttree= \"nlnnlll\"\n",
    "\tn = len(tree)\n",
    "\n",
    "\tprint(findDepth(tree, n))\n",
    "\n"
   ]
  },
  {
   "attachments": {},
   "cell_type": "markdown",
   "metadata": {},
   "source": [
    "Q.2) Given a Binary tree, the task is to print the left view of the Binary Tree. The left view of a Binary Tree is a set of leftmost nodes for every level."
   ]
  },
  {
   "cell_type": "code",
   "execution_count": 13,
   "metadata": {},
   "outputs": [
    {
     "name": "stdout",
     "output_type": "stream",
     "text": [
      "4 5 3 6 "
     ]
    }
   ],
   "source": [
    "class Node:\n",
    "\tdef __init__(self, data):\n",
    "\t\tself.data = data\n",
    "\t\tself.left = None\n",
    "\t\tself.right = None\n",
    "\n",
    "def leftViewUtil(root, level, max_level):\n",
    "\n",
    "\tif root is None:\n",
    "\t\treturn\n",
    "\n",
    "\tif (max_level[0] < level):\n",
    "\t\tprint (root.data, end = \" \")\n",
    "\t\tmax_level[0] = level\n",
    "\tleftViewUtil(root.left, level + 1, max_level)\n",
    "\tleftViewUtil(root.right, level + 1, max_level)\n",
    "\n",
    "\n",
    "def leftView(root):\n",
    "\tmax_level = [0]\n",
    "\tleftViewUtil(root, 1, max_level)\n",
    "\n",
    "\n",
    "\n",
    "if __name__ == '__main__':\n",
    "\troot = Node(4)\n",
    "\troot.left = Node(5)\n",
    "\troot.right = Node(2)\n",
    "\troot.right.left = Node(3)\n",
    "\troot.right.right = Node(1)\n",
    "\troot.right.right.left = Node(6)\n",
    "\troot.right.right.right = Node(7)\n",
    "\t\n",
    "\tleftView(root)\n",
    "\n"
   ]
  },
  {
   "attachments": {},
   "cell_type": "markdown",
   "metadata": {},
   "source": [
    "Q.3) Given a Binary Tree, print the Right view of it.\n",
    "\n",
    "The right view of a Binary Tree is a set of nodes visible when the tree is visited from the Right side."
   ]
  },
  {
   "cell_type": "code",
   "execution_count": 14,
   "metadata": {},
   "outputs": [
    {
     "name": "stdout",
     "output_type": "stream",
     "text": [
      "1 3 7 8 "
     ]
    }
   ],
   "source": [
    "class Node:\n",
    "\n",
    "\tdef __init__(self, item):\n",
    "\t\tself.data = item\n",
    "\t\tself.left = None\n",
    "\t\tself.right = None\n",
    "\n",
    "\n",
    "def rightViewUtil(root, level, max_level):\n",
    "\n",
    "\n",
    "\tif root is None:\n",
    "\t\treturn\n",
    "\n",
    "\tif (max_level[0] < level):\n",
    "\t\tprint(root.data,end=\" \")\n",
    "\t\tmax_level[0] = level\n",
    "\n",
    "\n",
    "\trightViewUtil(root.right, level+1, max_level)\n",
    "\trightViewUtil(root.left, level+1, max_level)\n",
    "\n",
    "\n",
    "def rightView(root):\n",
    "\tmax_level = [0]\n",
    "\trightViewUtil(root, 1, max_level)\n",
    "\n",
    "\n",
    "root = Node(1)\n",
    "root.left = Node(2)\n",
    "root.right = Node(3)\n",
    "root.left.left = Node(4)\n",
    "root.left.right = Node(5)\n",
    "root.right.left = Node(6)\n",
    "root.right.right = Node(7)\n",
    "root.right.left.right = Node(8)\n",
    "\n",
    "rightView(root)\n"
   ]
  },
  {
   "attachments": {},
   "cell_type": "markdown",
   "metadata": {},
   "source": [
    "Q.4) Given a Binary Tree, The task is to print the bottom view from left to right. A node x is there in output if x is the bottommost node at its horizontal distance. The horizontal distance of the left child of a node x is equal to a horizontal distance of x minus 1, and that of a right child is the horizontal distance of x plus 1."
   ]
  },
  {
   "cell_type": "code",
   "execution_count": 15,
   "metadata": {},
   "outputs": [
    {
     "name": "stdout",
     "output_type": "stream",
     "text": [
      "5 10 4 14 25 "
     ]
    }
   ],
   "source": [
    "from collections import deque\n",
    "class Node:\n",
    "\t\n",
    "\tdef __init__(self, key):\n",
    "\t\t\n",
    "\t\tself.data = key\n",
    "\t\tself.hd = float('inf')\n",
    "\t\tself.left = None\n",
    "\t\tself.right = None\n",
    "\n",
    "\n",
    "def bottomView(root):\n",
    "\n",
    "\tif (root == None):\n",
    "\t\treturn\n",
    "\thd = 0\n",
    "\tmin_hd, max_hd = 0, 0\n",
    "\t\n",
    "\thd_dict = dict()\n",
    "\tq = deque()\n",
    "\troot.hd = hd\n",
    "\tq.append(root)\n",
    "\twhile q:\n",
    "\t\tcurr_node = q.popleft()\n",
    "\t\thd = curr_node.hd\n",
    "\t\tmin_hd = min(min_hd, hd)\n",
    "\t\tmax_hd = max(max_hd, hd)\n",
    "\n",
    "\t\t\n",
    "\t\thd_dict[hd] = curr_node.data\n",
    "\n",
    "\t\tif curr_node.left:\n",
    "\t\t\tcurr_node.left.hd = hd - 1\n",
    "\t\t\tq.append(curr_node.left)\n",
    "\t\tif curr_node.right:\n",
    "\t\t\tcurr_node.right.hd = hd + 1\n",
    "\t\t\tq.append(curr_node.right)\n",
    "\n",
    "\tfor i in range(min_hd, max_hd+1):\n",
    "\t\tprint(hd_dict[i], end = ' ')\n",
    "\t\t\n",
    "\n",
    "if __name__=='__main__':\n",
    "\t\n",
    "\troot = Node(20)\n",
    "\troot.left = Node(8)\n",
    "\troot.right = Node(22)\n",
    "\troot.left.left = Node(5)\n",
    "\troot.left.right = Node(3)\n",
    "\troot.right.left = Node(4)\n",
    "\troot.right.right = Node(25)\n",
    "\troot.left.right.left = Node(10)\n",
    "\troot.left.right.right = Node(14)\n",
    "\t\n",
    "\tbottomView(root)\n"
   ]
  }
 ],
 "metadata": {
  "kernelspec": {
   "display_name": "Python 3",
   "language": "python",
   "name": "python3"
  },
  "language_info": {
   "codemirror_mode": {
    "name": "ipython",
    "version": 3
   },
   "file_extension": ".py",
   "mimetype": "text/x-python",
   "name": "python",
   "nbconvert_exporter": "python",
   "pygments_lexer": "ipython3",
   "version": "3.11.3"
  },
  "orig_nbformat": 4
 },
 "nbformat": 4,
 "nbformat_minor": 2
}
