{
 "cells": [
  {
   "attachments": {},
   "cell_type": "markdown",
   "metadata": {},
   "source": [
    "Q.1) Given an array, for each element find the value of the nearest element to the right which is having a frequency greater than that of the current element. If there does not exist an answer for a position, then make the value ‘-1’."
   ]
  },
  {
   "cell_type": "code",
   "execution_count": 19,
   "metadata": {},
   "outputs": [
    {
     "name": "stdout",
     "output_type": "stream",
     "text": [
      "-1 -1 1 2 2 1 -1 "
     ]
    }
   ],
   "source": [
    "from collections import Counter\n",
    "arr = [1, 1, 2, 3, 4, 2, 1]\n",
    "new_arr = Counter(arr)\n",
    "n = len(arr)\n",
    "s = []\n",
    "for i in range(n-1, -1, -1):\n",
    "    s.append(arr[i])\n",
    "\n",
    "for i in range(n):\n",
    "    temp = new_arr[arr[i]]\n",
    "    res = list(s)\n",
    "    flag = True\n",
    "    while(res):\n",
    "        if new_arr[res[-1]]>temp:\n",
    "            print(res[-1],end=\" \")\n",
    "            flag = False\n",
    "            break\n",
    "        res.pop()\n",
    "    if flag:\n",
    "        print(-1,end=\" \")\n",
    "    s.pop()"
   ]
  },
  {
   "attachments": {},
   "cell_type": "markdown",
   "metadata": {},
   "source": [
    "Q.2) Given a stack of integers, sort it in ascending order using another temporary stack."
   ]
  },
  {
   "cell_type": "code",
   "execution_count": 27,
   "metadata": {},
   "outputs": [
    {
     "name": "stdout",
     "output_type": "stream",
     "text": [
      "[3, 23, 31, 34, 92, 98]\n"
     ]
    }
   ],
   "source": [
    "stack = [34, 3, 31, 98, 92, 23]\n",
    "temp_stack = []\n",
    "while(stack):\n",
    "    top_stack_element = stack.pop()\n",
    "    while temp_stack and temp_stack[-1]>top_stack_element:\n",
    "        top_stack = temp_stack.pop()\n",
    "        stack.append(top_stack)\n",
    "    temp_stack.append(top_stack_element)\n",
    "print(temp_stack)"
   ]
  },
  {
   "attachments": {},
   "cell_type": "markdown",
   "metadata": {},
   "source": [
    "Q.3) Given a stack with push(), pop(), and empty() operations, The task is to delete the middle element of it without using any additional data structure."
   ]
  },
  {
   "cell_type": "code",
   "execution_count": 3,
   "metadata": {},
   "outputs": [
    {
     "name": "stdout",
     "output_type": "stream",
     "text": [
      "7 6 5 3 2 1 "
     ]
    }
   ],
   "source": [
    "class Stack:\n",
    "\tdef __init__(self):\n",
    "\t\tself.items = []\n",
    "\t\n",
    "\tdef isEmpty(self):\n",
    "\t\treturn self.items == []\n",
    "\t\n",
    "\tdef push(self, item):\n",
    "\t\tself.items.append(item)\n",
    "\t\n",
    "\tdef pop(self):\n",
    "\t\treturn self.items.pop()\n",
    "\t\n",
    "\tdef peek(self):\n",
    "\t\treturn self.items[len(self.items)-1]\n",
    "\t\n",
    "\tdef size(self):\n",
    "\t\treturn len(self.items)\n",
    "\t\t\n",
    "def deleteMid(st, n, curr) :\n",
    "\tif (st.isEmpty() or curr == n) :\n",
    "\t\treturn\n",
    "\tx = st.peek()\n",
    "\tst.pop()\n",
    "\tdeleteMid(st, n, curr+1)\n",
    "\tif (curr != int(n/2)) :\n",
    "\t\tst.push(x)\n",
    "\n",
    "st = Stack()\n",
    "\n",
    "\n",
    "st.push('1')\n",
    "st.push('2')\n",
    "st.push('3')\n",
    "st.push('4')\n",
    "st.push('5')\n",
    "st.push('6')\n",
    "st.push('7')\n",
    "\n",
    "deleteMid(st, st.size(), 0)\n",
    "\n",
    "while (st.isEmpty() == False) :\n",
    "\tp = st.peek()\n",
    "\tst.pop()\n",
    "\tprint (str(p) + \" \", end=\"\")\n",
    "\n"
   ]
  },
  {
   "attachments": {},
   "cell_type": "markdown",
   "metadata": {},
   "source": [
    "Q.4) Given a Queue consisting of first **n** natural numbers (in random order). The task is to check whether the given Queue elements can be arranged in increasing order in another Queue using a stack. The operation allowed are:\n",
    "\n",
    "1. Push and pop elements from the stack\n",
    "2. Pop (Or Dequeue) from the given Queue.\n",
    "3. Push (Or Enqueue) in the another Queue."
   ]
  },
  {
   "cell_type": "code",
   "execution_count": 29,
   "metadata": {},
   "outputs": [
    {
     "name": "stdout",
     "output_type": "stream",
     "text": [
      "Yes\n"
     ]
    }
   ],
   "source": [
    "from queue import Queue\n",
    "\n",
    "def checkSorted(n, q):\n",
    "\tst = []\n",
    "\texpected = 1\n",
    "\tfnt = None\n",
    "\n",
    "\twhile (not q.empty()):\n",
    "\t\tfnt = q.queue[0]\n",
    "\t\tq.get()\n",
    "\n",
    "\t\tif (fnt == expected):\n",
    "\t\t\texpected += 1\n",
    "\n",
    "\t\telse:\n",
    "\t\t\t\n",
    "\t\t\tif (len(st) == 0):\n",
    "\t\t\t\tst.append(fnt)\n",
    "\n",
    "\t\t\telif (len(st) != 0 and st[-1] < fnt):\n",
    "\t\t\t\treturn False\n",
    "\n",
    "\t\t\telse:\n",
    "\t\t\t\tst.append(fnt)\n",
    "\n",
    "\t\twhile (len(st) != 0 and\n",
    "\t\t\t\tst[-1] == expected):\n",
    "\t\t\tst.pop()\n",
    "\t\t\texpected += 1\n",
    "\n",
    "\tif (expected - 1 == n and len(st) == 0):\n",
    "\t\treturn True\n",
    "\n",
    "\treturn False\n",
    "\n",
    "if __name__ == '__main__':\n",
    "\tq = Queue()\n",
    "\tq.put(5)\n",
    "\tq.put(1)\n",
    "\tq.put(2)\n",
    "\tq.put(3)\n",
    "\tq.put(4)\n",
    "\n",
    "\tn = q.qsize()\n",
    "\n",
    "\tif checkSorted(n, q):\n",
    "\t\tprint(\"Yes\")\n",
    "\telse:\n",
    "\t\tprint(\"No\")"
   ]
  },
  {
   "attachments": {},
   "cell_type": "markdown",
   "metadata": {},
   "source": [
    "Q.5) Given a number , write a program to reverse this number using stack."
   ]
  },
  {
   "cell_type": "code",
   "execution_count": 4,
   "metadata": {},
   "outputs": [
    {
     "name": "stdout",
     "output_type": "stream",
     "text": [
      "563\n"
     ]
    }
   ],
   "source": [
    "st = []\n",
    "def push_digits(number):\n",
    "\n",
    "\twhile (number != 0):\n",
    "\t\tst.append(number % 10)\n",
    "\t\tnumber = int(number / 10)\n",
    "def reverse_number(number):\n",
    "\n",
    "\tpush_digits(number)\n",
    "\t\n",
    "\treverse = 0\n",
    "\ti = 1\n",
    "\twhile (len(st) > 0):\n",
    "\t\treverse = reverse + (st[len(st) - 1] * i)\n",
    "\t\tst.pop()\n",
    "\t\ti = i * 10\n",
    "\treturn reverse\n",
    "\n",
    "\n",
    "number = 365\n",
    "print(reverse_number(number))"
   ]
  },
  {
   "attachments": {},
   "cell_type": "markdown",
   "metadata": {},
   "source": [
    "Q.6) Given an integer k and a **[queue](https://www.geeksforgeeks.org/queue-data-structure/)** of integers, The task is to reverse the order of the first **k** elements of the queue, leaving the other elements in the same relative order.\n",
    "\n",
    "Only following standard operations are allowed on queue.\n",
    "\n",
    "- **enqueue(x) :** Add an item x to rear of queue\n",
    "- **dequeue() :** Remove an item from front of queue\n",
    "- **size() :** Returns number of elements in queue.\n",
    "- **front() :** Finds front item."
   ]
  },
  {
   "cell_type": "code",
   "execution_count": 34,
   "metadata": {},
   "outputs": [
    {
     "name": "stdout",
     "output_type": "stream",
     "text": [
      "50 40 30 20 10 60 70 80 90 100 "
     ]
    }
   ],
   "source": [
    "from collections import deque\n",
    "\n",
    "def reverse_first_k(q, k):\n",
    "\tsolve(q, k)\n",
    "\ts = len(q) - k\n",
    "\tfor _ in range(s):\n",
    "\t\tx = q.popleft()\n",
    "\t\tq.append(x)\n",
    "\treturn q\n",
    "\n",
    "def solve(q, k):\n",
    "\tif k == 0:\n",
    "\t\treturn\n",
    "\te = q.popleft()\n",
    "\tsolve(q, k - 1)\n",
    "\tq.append(e)\n",
    "\n",
    "\n",
    "queue = deque([10, 20, 30, 40, 50, 60, 70, 80, 90, 100])\n",
    "k = 5\n",
    "queue = reverse_first_k(queue, k)\n",
    "\n",
    "while queue:\n",
    "\tprint(queue.popleft(), end=' ')\n"
   ]
  },
  {
   "attachments": {},
   "cell_type": "markdown",
   "metadata": {},
   "source": [
    "Q.7) Given a sequence of n strings, the task is to check if any two similar words come together and then destroy each other then print the number of words left in the sequence after this pairwise destruction."
   ]
  },
  {
   "cell_type": "code",
   "execution_count": 38,
   "metadata": {},
   "outputs": [
    {
     "name": "stdout",
     "output_type": "stream",
     "text": [
      "['ab', 'bcd', 'ab']\n"
     ]
    }
   ],
   "source": [
    "string = [\"ab\",\"aa\",\"aa\",\"bcd\",\"ab\"]\n",
    "stack = []\n",
    "n = len(string)\n",
    "for i in range(n):\n",
    "    if len(stack)==0:\n",
    "        stack.append(string[i])\n",
    "\n",
    "    else:\n",
    "        ele = stack[-1]\n",
    "        if ele == string[i]:\n",
    "            stack.pop()\n",
    "        else:\n",
    "            stack.append(string[i])\n",
    "print(stack)\n"
   ]
  },
  {
   "attachments": {},
   "cell_type": "markdown",
   "metadata": {},
   "source": [
    "Q.8) Given an array of integers, the task is to find the maximum absolute difference between the nearest left and the right smaller element of every element in the array.\n",
    "\n",
    "**Note:** If there is no smaller element on right side or left side of any element then we take zero as the smaller element. For example for the leftmost element, the nearest smaller element on the left side is considered as 0. Similarly, for rightmost elements, the smaller element on the right side is considered as 0."
   ]
  },
  {
   "cell_type": "code",
   "execution_count": 1,
   "metadata": {},
   "outputs": [
    {
     "name": "stdout",
     "output_type": "stream",
     "text": [
      "4\n"
     ]
    }
   ],
   "source": [
    "def leftsmaller(arr, n, SE):\n",
    "\tsta = []\n",
    "\tfor i in range(n):\n",
    "\t\n",
    "\t\twhile(sta != [] and sta[len(sta)-1] >= arr[i]):\n",
    "\t\t\tsta.pop()\n",
    "\n",
    "\n",
    "\t\tif(sta != []):\n",
    "\t\t\tSE[i]=sta[len(sta)-1]\n",
    "\t\telse:\n",
    "\t\t\tSE[i]=0\n",
    "\n",
    "\t\tsta.append(arr[i])\n",
    "def findMaxDiff(arr, n):\n",
    "\tls=[0]*n \n",
    "\trs=[0]*n \n",
    "\n",
    "\n",
    "\tleftsmaller(arr, n, ls)\n",
    "\tleftsmaller(arr[::-1], n, rs)\n",
    "\tres = -1\n",
    "\tfor i in range(n):\n",
    "\t\tres = max(res, abs(ls[i] - rs[n-1-i]))\n",
    "\treturn res\n",
    "if __name__=='__main__':\n",
    "\tarr = [2, 4, 8, 7, 7, 9, 3]\n",
    "\tprint(findMaxDiff(arr, len(arr)))\n",
    "\t\n"
   ]
  }
 ],
 "metadata": {
  "kernelspec": {
   "display_name": "Python 3",
   "language": "python",
   "name": "python3"
  },
  "language_info": {
   "codemirror_mode": {
    "name": "ipython",
    "version": 3
   },
   "file_extension": ".py",
   "mimetype": "text/x-python",
   "name": "python",
   "nbconvert_exporter": "python",
   "pygments_lexer": "ipython3",
   "version": "3.11.3"
  },
  "orig_nbformat": 4
 },
 "nbformat": 4,
 "nbformat_minor": 2
}
