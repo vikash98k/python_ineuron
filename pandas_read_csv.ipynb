{
 "cells": [
  {
   "cell_type": "code",
   "execution_count": 118,
   "metadata": {},
   "outputs": [
    {
     "name": "stdout",
     "output_type": "stream",
     "text": [
      "{'Firstname': 'CHARLES', 'MiddleName': 'R', 'LastName': 'RICHARDS', 'Address': '4521 PATTERSON DR', 'City': 'DIAMOND SPRINGS', 'State': 'CA', 'Country': 'El Dorado', 'PostalNumber': 9316.0, 'Age': 68.0, 'BirthMonth': 9.0, 'EST.Income': '$65,000 - $74,999'}\n",
      "{}\n",
      "{'Firstname': 'TIM', 'MiddleName': 'J', 'LastName': 'HEANER', 'Address': '2300 E COLLEGE AVE', 'City': 'VISALIA', 'State': 'CA', 'Country': 'Tulare', 'PostalNumber': 1534.0, 'Age': 59.0, 'BirthMonth': 1.0, 'EST.Income': '$75,000 - $99,999'}\n",
      "{}\n",
      "{}\n",
      "{}\n",
      "{}\n",
      "{}\n",
      "{'Firstname': 'TABITHA', 'LastName': 'RAMEY', 'Address': 'PO BOX 992592', 'City': 'REDDING', 'State': 'CA', 'Country': 'Shasta', 'PostalNumber': 2592.0, 'Age': 60.0, 'BirthMonth': 8.0, 'EST.Income': '$100,000 - $149,999'}\n",
      "{'Firstname': 'JOHN', 'MiddleName': 'T', 'LastName': 'COELHO', 'Address': '4240 CHERRY ACRES CIR', 'City': 'COOL', 'State': 'CA', 'Country': 'El Dorado', 'PostalNumber': 9546.0, 'Age': 50.0, 'BirthMonth': 11.0, 'EST.Income': '$75,000 - $99,999'}\n",
      "{'Firstname': 'KATHY', 'MiddleName': 'M', 'LastName': 'THOMPSON', 'Address': '6471 OXBOW ST', 'City': 'REDDING', 'State': 'CA', 'Country': 'Shasta', 'PostalNumber': 5078.0, 'Age': 56.0, 'BirthMonth': 1.0, 'EST.Income': '$100,000 - $149,999'}\n",
      "{'Firstname': 'PAULETTE', 'LastName': 'LEE', 'Address': '39 TRINITY AVE', 'City': 'CHOWCHILLA', 'State': 'CA', 'Country': 'Madera', 'PostalNumber': 2948.0, 'Age': 57.0, 'BirthMonth': 6.0, 'EST.Income': '$75,000 - $99,999'}\n"
     ]
    }
   ],
   "source": [
    "import pandas as pd\n",
    "import json\n",
    "\n",
    "df =  pd.read_csv(r\"C:\\Users\\V\\Downloads\\new testing 5k.csv\")\n",
    "number = []\n",
    "for i,j in df.iterrows():\n",
    "    if df[\"phoneNumber\"][i] not in number:\n",
    "        number.append(df[\"phoneNumber\"][i])\n",
    "        extra_detail=dict()\n",
    "        for key,value in list(j.items())[2:]:\n",
    "            key=str(\"\".join(key.split()))\n",
    "            na_value=str(value)\n",
    "            if na_value!=\"nan\":\n",
    "                extra_detail[key]=value\n",
    "            else:\n",
    "                pass\n",
    "        cursor = connection.cursor()\n",
    "        sql = f\"insert into customer_data (list_id,phone_code,phone_number,extra_data) VALUES (%s,%s,%s,%s)\n",
    "    else:\n",
    "        pass"
   ]
  }
 ],
 "metadata": {
  "kernelspec": {
   "display_name": "Python 3",
   "language": "python",
   "name": "python3"
  },
  "language_info": {
   "codemirror_mode": {
    "name": "ipython",
    "version": 3
   },
   "file_extension": ".py",
   "mimetype": "text/x-python",
   "name": "python",
   "nbconvert_exporter": "python",
   "pygments_lexer": "ipython3",
   "version": "3.11.3"
  },
  "orig_nbformat": 4
 },
 "nbformat": 4,
 "nbformat_minor": 2
}
