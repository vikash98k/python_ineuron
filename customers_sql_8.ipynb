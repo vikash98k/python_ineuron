{
 "cells": [
  {
   "cell_type": "code",
   "execution_count": 4,
   "metadata": {},
   "outputs": [
    {
     "name": "stdout",
     "output_type": "stream",
     "text": [
      "('Product B',)\n"
     ]
    }
   ],
   "source": [
    "import pymysql\n",
    "\n",
    "# Establish a connection to the database\n",
    "connection = pymysql.connect(\n",
    "    host='localhost',\n",
    "    user='root',\n",
    "    password='admin@123',\n",
    "    database='mysql'\n",
    ")\n",
    "# CREATE TABLE Products (\n",
    "#     product_id INT PRIMARY KEY,\n",
    "#     name VARCHAR(255),\n",
    "#     stock_quantity INT\n",
    "# );\n",
    "\n",
    "# sql_command = \"INSERT INTO Products (product_id, name, stock_quantity) VALUES (%s, %s, %s)\"\n",
    "# data =[\n",
    "#     (1, 'Product A', 10),\n",
    "#     (2, 'Product B', 0),\n",
    "#     (3, 'Product C', 5),\n",
    "# ]\n",
    "\n",
    "sql_command = \"SELECT name FROM Products WHERE stock_quantity = 0;\"\n",
    "cursor = connection.cursor()\n",
    "cursor.execute(sql_command)\n",
    "results = cursor.fetchall()\n",
    "for row in results:\n",
    "    print(row)\n",
    "\n"
   ]
  }
 ],
 "metadata": {
  "kernelspec": {
   "display_name": "Python 3",
   "language": "python",
   "name": "python3"
  },
  "language_info": {
   "codemirror_mode": {
    "name": "ipython",
    "version": 3
   },
   "file_extension": ".py",
   "mimetype": "text/x-python",
   "name": "python",
   "nbconvert_exporter": "python",
   "pygments_lexer": "ipython3",
   "version": "3.11.3"
  },
  "orig_nbformat": 4
 },
 "nbformat": 4,
 "nbformat_minor": 2
}
