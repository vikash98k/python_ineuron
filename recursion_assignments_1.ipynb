{
 "cells": [
  {
   "attachments": {},
   "cell_type": "markdown",
   "metadata": {},
   "source": [
    "Q.1) Given an integer `n`, return *`true` if it is a power of two. Otherwise, return `false`*.\n",
    "\n",
    "An integer `n` is a power of two, if there exists an integer `x` such that `n == 2x`."
   ]
  },
  {
   "cell_type": "code",
   "execution_count": 38,
   "metadata": {},
   "outputs": [
    {
     "name": "stdout",
     "output_type": "stream",
     "text": [
      "False\n"
     ]
    }
   ],
   "source": [
    "def solution(n):\n",
    "    if (n == 0):\n",
    "        return False\n",
    "    while (n != 1):\n",
    "        if (n % 2 != 0):\n",
    "            return False\n",
    "        n = n // 2\n",
    " \n",
    "    return True\n",
    "\n",
    "n = 3\n",
    "print(solution(n))"
   ]
  },
  {
   "attachments": {},
   "cell_type": "markdown",
   "metadata": {},
   "source": [
    "Q.2) Given a number n, find the sum of the first natural numbers.\n"
   ]
  },
  {
   "cell_type": "code",
   "execution_count": 4,
   "metadata": {},
   "outputs": [
    {
     "name": "stdout",
     "output_type": "stream",
     "text": [
      "15\n"
     ]
    }
   ],
   "source": [
    "def solution(num):\n",
    "    if num<=1:\n",
    "        return num\n",
    "    else:\n",
    "        return num + solution(num-1)\n",
    "num = 5\n",
    "print(solution(num))"
   ]
  },
  {
   "attachments": {},
   "cell_type": "markdown",
   "metadata": {},
   "source": [
    "Q.3) Given a positive integer, N. Find the factorial of N. "
   ]
  },
  {
   "cell_type": "code",
   "execution_count": 9,
   "metadata": {},
   "outputs": [
    {
     "name": "stdout",
     "output_type": "stream",
     "text": [
      "24\n"
     ]
    }
   ],
   "source": [
    "def solution(num):\n",
    "    if num==0 or num ==1:\n",
    "        return 1\n",
    "    else:\n",
    "        return num*solution(num-1)\n",
    "num = 4\n",
    "print(solution(num))"
   ]
  },
  {
   "attachments": {},
   "cell_type": "markdown",
   "metadata": {},
   "source": [
    "Q.4) Given a number N and a power P, the task is to find the exponent of this number raised to the given power, i.e. N^P."
   ]
  },
  {
   "cell_type": "code",
   "execution_count": 14,
   "metadata": {},
   "outputs": [
    {
     "name": "stdout",
     "output_type": "stream",
     "text": [
      "32\n"
     ]
    }
   ],
   "source": [
    "def solution(N,P):\n",
    "    if P ==0:\n",
    "        return 1\n",
    "    else:\n",
    "        return N*solution(N,P-1)\n",
    "\n",
    "N = 2\n",
    "P =5\n",
    "print(solution(N,P))"
   ]
  },
  {
   "attachments": {},
   "cell_type": "markdown",
   "metadata": {},
   "source": [
    "Q.5) Given an array of integers arr, the task is to find maximum element of that array using recursion."
   ]
  },
  {
   "cell_type": "code",
   "execution_count": 21,
   "metadata": {},
   "outputs": [
    {
     "name": "stdout",
     "output_type": "stream",
     "text": [
      "8\n"
     ]
    }
   ],
   "source": [
    "def solution(arr,n):\n",
    "    if n == 1:\n",
    "        return arr[0]\n",
    "    else:\n",
    "        return max(arr[n-1],solution(arr,n-1))\n",
    "\n",
    "arr = [1, 4, 3, -5, -4, 8, 6]\n",
    "n = len(arr)\n",
    "print(solution(arr,n))"
   ]
  },
  {
   "attachments": {},
   "cell_type": "markdown",
   "metadata": {},
   "source": [
    "Q.6) Given first term (a), common difference (d) and a integer N of the Arithmetic Progression series, the task is to find Nth term of the series."
   ]
  },
  {
   "cell_type": "code",
   "execution_count": 24,
   "metadata": {},
   "outputs": [
    {
     "name": "stdout",
     "output_type": "stream",
     "text": [
      "23\n"
     ]
    }
   ],
   "source": [
    "def solution(a,d,n):\n",
    "    return a+(n-1)*d\n",
    "\n",
    "a,d,n = map(int,input().split())\n",
    "print(solution(a,d,n))"
   ]
  },
  {
   "attachments": {},
   "cell_type": "markdown",
   "metadata": {},
   "source": [
    "Q.7) Given a string S, the task is to write a program to print all permutations of a given string."
   ]
  },
  {
   "cell_type": "code",
   "execution_count": 36,
   "metadata": {},
   "outputs": [
    {
     "name": "stdout",
     "output_type": "stream",
     "text": [
      "ABC ACB BAC BCA CAB CBA "
     ]
    }
   ],
   "source": [
    "def solution(string,new_string):\n",
    "    if len(string) ==0:\n",
    "        print(new_string,end=\" \")\n",
    "        return \n",
    "    \n",
    "    for i in range(len(string)):\n",
    "        character = string[i]\n",
    "        left_substring = string[0:i]\n",
    "        right_substring = string[i+1:]\n",
    "        result  = left_substring + right_substring\n",
    "        solution(result,new_string+character)\n",
    "    \n",
    "new_string = \"\"\n",
    "string = \"ABC\"\n",
    "solution(string,new_string)"
   ]
  },
  {
   "attachments": {},
   "cell_type": "markdown",
   "metadata": {},
   "source": [
    "Q.8) Given an array, find a product of all array elements."
   ]
  },
  {
   "cell_type": "code",
   "execution_count": 32,
   "metadata": {},
   "outputs": [
    {
     "name": "stdout",
     "output_type": "stream",
     "text": [
      "120\n"
     ]
    }
   ],
   "source": [
    "def solution(arr,n):\n",
    "    if n==0:\n",
    "        return arr[n]\n",
    "    else:\n",
    "        return (arr[n]*solution(arr,n-1))  \n",
    "        \n",
    "arr = [1,2, 3, 4, 5]\n",
    "n = len(arr)\n",
    "print(solution(arr,n-1))"
   ]
  }
 ],
 "metadata": {
  "kernelspec": {
   "display_name": "Python 3",
   "language": "python",
   "name": "python3"
  },
  "language_info": {
   "codemirror_mode": {
    "name": "ipython",
    "version": 3
   },
   "file_extension": ".py",
   "mimetype": "text/x-python",
   "name": "python",
   "nbconvert_exporter": "python",
   "pygments_lexer": "ipython3",
   "version": "3.11.3"
  },
  "orig_nbformat": 4
 },
 "nbformat": 4,
 "nbformat_minor": 2
}
