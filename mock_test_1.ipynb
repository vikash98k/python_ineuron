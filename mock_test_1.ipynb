{
 "cells": [
  {
   "cell_type": "code",
   "execution_count": 2,
   "metadata": {},
   "outputs": [
    {
     "name": "stdout",
     "output_type": "stream",
     "text": [
      "(Decimal('58000.00'),)\n"
     ]
    }
   ],
   "source": [
    "import mysql.connector\n",
    "\n",
    "connection = mysql.connector.connect(\n",
    "    host='localhost',\n",
    "    user='root',\n",
    "    password='admin@123',\n",
    "    database='mysql'\n",
    ")\n",
    "# create employee table\n",
    "cursor = connection.cursor()\n",
    "sql_command = \"\"\"CREATE TABLE Employees_Mock_Test (\n",
    "    EmployeeID INT,\n",
    "    FirstName VARCHAR(50),\n",
    "    LastName VARCHAR(50),\n",
    "    Salary DECIMAL(10, 2),\n",
    "    PRIMARY KEY (EmployeeID)\n",
    ")\n",
    "\"\"\"\n",
    "cursor.execute(sql_command)\n",
    "connection.commit()\n",
    "\n",
    "sql_command = \"INSERT INTO Employees_Mock_Test (EmployeeID, FirstName, LastName, Salary) VALUES(%s,%s,%s,%s)\"\n",
    "data = [\n",
    "    (1, 'John', 'Doe', 50000),\n",
    "       (2, 'Jane', 'Smith', 60000),\n",
    "       (3, 'Michael', 'Johnson', 55000),\n",
    "       (4, 'Emily', 'Williams', 52000),\n",
    "       (5, 'Daniel', 'Brown', 58000)\n",
    "]\n",
    "cursor = connection.cursor()\n",
    "\n",
    "for row in data:\n",
    "    cursor.execute(sql_command, row)\n",
    "connection.commit()\n",
    "\n",
    "sql_command =\"SELECT MAX(Salary) AS SecondHighestSalary FROM Employees_Mock_Test WHERE Salary < (SELECT MAX(Salary) FROM Employees_Mock_Test)\"\n",
    "cursor = connection.cursor()\n",
    "cursor.execute(sql_command)\n",
    "results = cursor.fetchall()\n",
    "for row in results:\n",
    "    print(row)\n",
    "\n"
   ]
  },
  {
   "cell_type": "markdown",
   "metadata": {},
   "source": [
    "Q.2)  Write a MapReduce program to calculate the word count of a given input text file"
   ]
  }
 ],
 "metadata": {
  "kernelspec": {
   "display_name": "Python 3",
   "language": "python",
   "name": "python3"
  },
  "language_info": {
   "codemirror_mode": {
    "name": "ipython",
    "version": 3
   },
   "file_extension": ".py",
   "mimetype": "text/x-python",
   "name": "python",
   "nbconvert_exporter": "python",
   "pygments_lexer": "ipython3",
   "version": "3.11.3"
  },
  "orig_nbformat": 4
 },
 "nbformat": 4,
 "nbformat_minor": 2
}
