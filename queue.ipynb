{
 "cells": [
  {
   "attachments": {},
   "cell_type": "markdown",
   "metadata": {},
   "source": [
    "Q.1) Given a string s, find the first non-repeating character in it and return its index. If it does not exist, return -1."
   ]
  },
  {
   "cell_type": "code",
   "execution_count": 8,
   "metadata": {},
   "outputs": [
    {
     "data": {
      "text/plain": [
       "0"
      ]
     },
     "execution_count": 8,
     "metadata": {},
     "output_type": "execute_result"
    }
   ],
   "source": [
    "from collections import Counter\n",
    "def nonrepeating(s):    \n",
    "    ans = Counter(s)\n",
    "    for key,value in ans.items():\n",
    "        if value == 1:\n",
    "            return s.index(key)\n",
    "            break\n",
    "    return -1\n",
    "\n",
    "s = \"leetcode\"\n",
    "nonrepeating(s)"
   ]
  },
  {
   "attachments": {},
   "cell_type": "markdown",
   "metadata": {},
   "source": [
    "Q.2) Given a **circular integer array** `nums` of length `n`, return *the maximum possible sum of a non-empty **subarray** of* `nums`.\n",
    "\n",
    "A **circular array** means the end of the array connects to the beginning of the array. Formally, the next element of `nums[i]` is `nums[(i + 1) % n]` and the previous element of `nums[i]` is `nums[(i - 1 + n) % n]`.\n",
    "\n",
    "A **subarray** may only include each element of the fixed buffer `nums` at most once. Formally, for a subarray `nums[i], nums[i + 1], ..., nums[j]`, there does not exist `i <= k1`, `k2 <= j` with `k1 % n == k2 % n`."
   ]
  },
  {
   "cell_type": "code",
   "execution_count": 9,
   "metadata": {},
   "outputs": [
    {
     "data": {
      "text/plain": [
       "3"
      ]
     },
     "execution_count": 9,
     "metadata": {},
     "output_type": "execute_result"
    }
   ],
   "source": [
    "import math\n",
    "def maxSubarraySumCircular(nums):\n",
    "    totalSum = 0\n",
    "    currMaxSum = 0\n",
    "    currMinSum = 0\n",
    "    maxSum = -math.inf\n",
    "    minSum = math.inf\n",
    "\n",
    "    for a in nums:\n",
    "      totalSum += a\n",
    "      currMaxSum = max(currMaxSum + a, a)\n",
    "      currMinSum = min(currMinSum + a, a)\n",
    "      maxSum = max(maxSum, currMaxSum)\n",
    "      minSum = min(minSum, currMinSum)\n",
    "    \n",
    "\n",
    "    return maxSum if maxSum < 0 else max(maxSum, totalSum - minSum)\n",
    "\n",
    "nums = [1,-2,3,-2]\n",
    "maxSubarraySumCircular(nums)"
   ]
  },
  {
   "attachments": {},
   "cell_type": "markdown",
   "metadata": {},
   "source": [
    "Q.3) The school cafeteria offers circular and square sandwiches at lunch break, referred to by numbers `0` and `1` respectively. All students stand in a queue. Each student either prefers square or circular sandwiches.\n",
    "\n",
    "The number of sandwiches in the cafeteria is equal to the number of students. The sandwiches are placed in a **stack**. At each step:\n",
    "\n",
    "- If the student at the front of the queue **prefers** the sandwich on the top of the stack, they will **take it** and leave the queue.\n",
    "- Otherwise, they will **leave it** and go to the queue's end.\n",
    "\n",
    "This continues until none of the queue students want to take the top sandwich and are thus unable to eat.\n",
    "\n",
    "You are given two integer arrays `students` and `sandwiches` where `sandwiches[i]` is the type of the `ith` sandwich in the stack (`i = 0` is the top of the stack) and `students[j]` is the preference of the `jth` student in the initial queue (`j = 0` is the front of the queue). Return *the number of students that are unable to eat.*"
   ]
  },
  {
   "cell_type": "code",
   "execution_count": 10,
   "metadata": {},
   "outputs": [
    {
     "data": {
      "text/plain": [
       "0"
      ]
     },
     "execution_count": 10,
     "metadata": {},
     "output_type": "execute_result"
    }
   ],
   "source": [
    "def countStudents(students,sandwiches):\n",
    "    while(len(students)!=0):\n",
    "        if(sandwiches[0] not in students):\n",
    "            return(len(students))\n",
    "        if(students[0]==sandwiches[0]):\n",
    "            students.pop(0)\n",
    "            sandwiches.pop(0)\n",
    "        else:\n",
    "            a=students.pop(0)\n",
    "            students.append(a)\n",
    "    return(len(students))\n",
    "\n",
    "students = [1,1,0,0]\n",
    "sandwiches = [0,1,0,1]\n",
    "countStudents(students,sandwiches)"
   ]
  },
  {
   "attachments": {},
   "cell_type": "markdown",
   "metadata": {},
   "source": [
    "Q.4) You have a `RecentCounter` class which counts the number of recent requests within a certain time frame.\n",
    "\n",
    "Implement the `RecentCounter` class:\n",
    "\n",
    "- `RecentCounter()` Initializes the counter with zero recent requests.\n",
    "- `int ping(int t)` Adds a new request at time `t`, where `t` represents some time in milliseconds, and returns the number of requests that has happened in the past `3000` milliseconds (including the new request). Specifically, return the number of requests that have happened in the inclusive range `[t - 3000, t]`.\n",
    "\n",
    "It is **guaranteed** that every call to `ping` uses a strictly larger value of `t` than the previous call."
   ]
  },
  {
   "cell_type": "code",
   "execution_count": 17,
   "metadata": {},
   "outputs": [
    {
     "data": {
      "text/plain": [
       "[None, 1, 2, 3, 3]"
      ]
     },
     "execution_count": 17,
     "metadata": {},
     "output_type": "execute_result"
    }
   ],
   "source": [
    "class RecentCounter:\n",
    "    def __init__(self):\n",
    "        self.queue =[]\n",
    "        self.ans = [None]\n",
    "    def ping(self, t):\n",
    "        \n",
    "        while self.queue and t - self.queue[0]>3000:\n",
    "            self.queue.pop(0)\n",
    "        self.queue.append(t)\n",
    "        self.ans.append(len(self.queue))\n",
    "        return self.ans\n",
    "obj = RecentCounter()\n",
    "obj.ping(1)\n",
    "obj.ping(100)\n",
    "obj.ping(3001)\n",
    "obj.ping(3002)\n"
   ]
  },
  {
   "attachments": {},
   "cell_type": "markdown",
   "metadata": {},
   "source": [
    "Q.5) There are `n` friends that are playing a game. The friends are sitting in a circle and are numbered from `1` to `n` in **clockwise order**. More formally, moving clockwise from the `ith` friend brings you to the `(i+1)th` friend for `1 <= i < n`, and moving clockwise from the `nth` friend brings you to the `1st` friend.\n",
    "\n",
    "The rules of the game are as follows:\n",
    "\n",
    "1. **Start** at the `1st` friend.\n",
    "2. Count the next `k` friends in the clockwise direction **including** the friend you started at. The counting wraps around the circle and may count some friends more than once.\n",
    "3. The last friend you counted leaves the circle and loses the game.\n",
    "4. If there is still more than one friend in the circle, go back to step `2` **starting** from the friend **immediately clockwise** of the friend who just lost and repeat.\n",
    "5. Else, the last friend in the circle wins the game.\n",
    "\n",
    "Given the number of friends, `n`, and an integer `k`, return *the winner of the game*."
   ]
  },
  {
   "cell_type": "code",
   "execution_count": 18,
   "metadata": {},
   "outputs": [
    {
     "data": {
      "text/plain": [
       "3"
      ]
     },
     "execution_count": 18,
     "metadata": {},
     "output_type": "execute_result"
    }
   ],
   "source": [
    "def findTheWinner(n,k):\n",
    "    nums=[]\n",
    "    for i in range(1,n+1):\n",
    "        nums.append(i)\n",
    "    j=0\n",
    "    while len(nums)!=1:\n",
    "        j=(j+k-1)%len(nums)\n",
    "        nums.remove(nums[j])\n",
    "    return nums[0]\n",
    "n=5\n",
    "k=2\n",
    "findTheWinner(n,k)"
   ]
  },
  {
   "attachments": {},
   "cell_type": "markdown",
   "metadata": {},
   "source": [
    "Q.6) You are given an integer array `deck`. There is a deck of cards where every card has a unique integer. The integer on the `ith` card is `deck[i]`.\n",
    "\n",
    "You can order the deck in any order you want. Initially, all the cards start face down (unrevealed) in one deck.\n",
    "\n",
    "You will do the following steps repeatedly until all cards are revealed:\n",
    "\n",
    "1. Take the top card of the deck, reveal it, and take it out of the deck.\n",
    "2. If there are still cards in the deck then put the next top card of the deck at the bottom of the deck.\n",
    "3. If there are still unrevealed cards, go back to step 1. Otherwise, stop.\n",
    "\n",
    "Return *an ordering of the deck that would reveal the cards in increasing order*.\n",
    "\n",
    "**Note** that the first entry in the answer is considered to be the top of the deck."
   ]
  },
  {
   "cell_type": "code",
   "execution_count": 19,
   "metadata": {},
   "outputs": [
    {
     "name": "stdout",
     "output_type": "stream",
     "text": [
      "[2, 13, 3, 11, 5, 17, 7]\n"
     ]
    }
   ],
   "source": [
    "from collections import deque\n",
    "def deckRevealedIncreasing(deck):\n",
    "    N = len(deck)\n",
    "    index = deque(range(N))\n",
    "    ans = [None] * N\n",
    "\n",
    "    for card in sorted(deck):\n",
    "        ans[index.popleft()] = card\n",
    "        if index:\n",
    "            index.append(index.popleft())\n",
    "    return ans\n",
    "deck = [17,13,11,2,3,5,7]\n",
    "print(deckRevealedIncreasing(deck))"
   ]
  },
  {
   "attachments": {},
   "cell_type": "markdown",
   "metadata": {},
   "source": [
    "Q.7) Design a queue that supports `push` and `pop` operations in the front, middle, and back.\n",
    "\n",
    "Implement the `FrontMiddleBack` class:\n",
    "\n",
    "- `FrontMiddleBack()` Initializes the queue.\n",
    "- `void pushFront(int val)` Adds `val` to the **front** of the queue.\n",
    "- `void pushMiddle(int val)` Adds `val` to the **middle** of the queue.\n",
    "- `void pushBack(int val)` Adds `val` to the **back** of the queue.\n",
    "- `int popFront()` Removes the **front** element of the queue and returns it. If the queue is empty, return `1`.\n",
    "- `int popMiddle()` Removes the **middle** element of the queue and returns it. If the queue is empty, return `1`.\n",
    "- `int popBack()` Removes the **back** element of the queue and returns it. If the queue is empty, return `1`.\n",
    "\n",
    "**Notice** that when there are **two** middle position choices, the operation is performed on the **frontmost** middle position choice. For example:\n",
    "\n",
    "- Pushing `6` into the middle of `[1, 2, 3, 4, 5]` results in `[1, 2, 6, 3, 4, 5]`.\n",
    "- Popping the middle from `[1, 2, 3, 4, 5, 6]` returns `3` and results in `[1, 2, 4, 5, 6]`."
   ]
  },
  {
   "cell_type": "code",
   "execution_count": 17,
   "metadata": {},
   "outputs": [
    {
     "data": {
      "text/plain": [
       "[None, None, None, None, None, 1, 3, 4, 2, -1]"
      ]
     },
     "execution_count": 17,
     "metadata": {},
     "output_type": "execute_result"
    }
   ],
   "source": [
    "class FrontMiddleBackQueue:\n",
    "\n",
    "    def __init__(self):\n",
    "        self.q=[]\n",
    "        self.res = [None]\n",
    "        \n",
    "\n",
    "    def pushFront(self, val: int) -> None:\n",
    "        self.q.insert(0,val)\n",
    "        self.res.append(None)\n",
    "\n",
    "    def pushMiddle(self, val: int) -> None:\n",
    "        n=len(self.q)\n",
    "        if n%2==0:\n",
    "            n=(n/2)\n",
    "        else:\n",
    "            n=int(n//2)\n",
    "        i=0\n",
    "        self.q.insert(int(n),val)\n",
    "        self.res.append(None)\n",
    "        \n",
    "\n",
    "    def pushBack(self, val: int) -> None:\n",
    "        self.q.append(val)\n",
    "        self.res.append(None)\n",
    "        \n",
    "\n",
    "    def popFront(self) -> int:\n",
    "        if len(self.q)==0:\n",
    "            self.res.append(-1)\n",
    "        else:\n",
    "            l=self.q[0]\n",
    "            del self.q[0]\n",
    "            self.res.append(l)\n",
    "\n",
    "        \n",
    "\n",
    "    def popMiddle(self) -> int:\n",
    "        if len(self.q)==0:\n",
    "            self.res.append(-1)\n",
    "        n=len(self.q)\n",
    "        if n%2==0:\n",
    "            n=(n/2)-1\n",
    "        else:\n",
    "            n=n//2\n",
    "        p=self.q[int(n)]\n",
    "        del self.q[int(n)]\n",
    "        self.res.append(p)\n",
    "        \n",
    "\n",
    "    def popBack(self) -> int:\n",
    "        if len(self.q)==0:\n",
    "            self.res.append(-1)\n",
    "        else:\n",
    "            p=self.q[len(self.q)-1]\n",
    "            self.res.append(p)\n",
    "            del self.q[len(self.q)-1]\n",
    "            \n",
    "        \n",
    "\n",
    "    def printfunc(self):\n",
    "        return self.res        \n",
    "\n",
    "\n",
    "\n",
    "obj = FrontMiddleBackQueue()\n",
    "obj.pushFront(1)\n",
    "obj.pushBack(2)\n",
    "obj.pushMiddle(3)\n",
    "obj.pushMiddle(4)\n",
    "obj.popFront()\n",
    "obj.popMiddle()\n",
    "obj.popMiddle()\n",
    "obj.popBack()\n",
    "obj.popFront()\n",
    "obj.printfunc()\n"
   ]
  },
  {
   "attachments": {},
   "cell_type": "markdown",
   "metadata": {},
   "source": [
    "Q.8) For a stream of integers, implement a data structure that checks if the last `k` integers parsed in the stream are **equal** to `value`.\n",
    "\n",
    "Implement the **DataStream** class:\n",
    "\n",
    "- `DataStream(int value, int k)` Initializes the object with an empty integer stream and the two integers `value` and `k`.\n",
    "- `boolean consec(int num)` Adds `num` to the stream of integers. Returns `true` if the last `k` integers are equal to `value`, and `false` otherwise. If there are less than `k` integers, the condition does not hold true, so returns `false`."
   ]
  },
  {
   "cell_type": "code",
   "execution_count": 9,
   "metadata": {},
   "outputs": [
    {
     "data": {
      "text/plain": [
       "[None, 'false', 'false', 'true', 'false']"
      ]
     },
     "execution_count": 9,
     "metadata": {},
     "output_type": "execute_result"
    }
   ],
   "source": [
    "class DataStream:\n",
    "\n",
    "    def __init__(self, value: int, k: int):\n",
    "        self.count = 0 \n",
    "        self.value = value\n",
    "        self.k = k\n",
    "        self.ans = [None]\n",
    "\n",
    "    def consec(self, num: int) -> bool:\n",
    "        if num == self.value:\n",
    "            self.count += 1\n",
    "        else: \n",
    "            self.count = 0 \n",
    "        \n",
    "        if self.count >= self.k:\n",
    "            self.ans.append('true')\n",
    "        else:\n",
    "            self.ans.append('false')\n",
    "        return self.ans\n",
    "obj = DataStream(4,3)\n",
    "obj.consec(4)\n",
    "obj.consec(4)\n",
    "obj.consec(4)\n",
    "obj.consec(3)"
   ]
  }
 ],
 "metadata": {
  "kernelspec": {
   "display_name": "Python 3",
   "language": "python",
   "name": "python3"
  },
  "language_info": {
   "codemirror_mode": {
    "name": "ipython",
    "version": 3
   },
   "file_extension": ".py",
   "mimetype": "text/x-python",
   "name": "python",
   "nbconvert_exporter": "python",
   "pygments_lexer": "ipython3",
   "version": "3.11.3"
  },
  "orig_nbformat": 4
 },
 "nbformat": 4,
 "nbformat_minor": 2
}
