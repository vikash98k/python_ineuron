{
 "cells": [
  {
   "attachments": {},
   "cell_type": "markdown",
   "metadata": {},
   "source": [
    "Q.1)You are given an array of `k` linked-lists `lists`, each linked-list is sorted in ascending order.\n",
    "\n",
    "*Merge all the linked-lists into one sorted linked-list and return it.*"
   ]
  },
  {
   "cell_type": "code",
   "execution_count": 3,
   "metadata": {},
   "outputs": [
    {
     "name": "stdout",
     "output_type": "stream",
     "text": [
      "1 1 2 3 4 4 5 6 "
     ]
    }
   ],
   "source": [
    "class Node:\n",
    "\n",
    "\tdef __init__(self):\n",
    "\n",
    "\t\tself.data = 0\n",
    "\t\tself.next = None\n",
    "\n",
    "def printList(node):\n",
    "\n",
    "\twhile (node != None):\n",
    "\t\tprint(node.data, end=' ')\n",
    "\t\tnode = node.next\n",
    "def SortedMerge(a, b):\n",
    "\n",
    "\tresult = None\n",
    "\n",
    "\t# Base cases\n",
    "\tif (a == None):\n",
    "\t\treturn(b)\n",
    "\telif (b == None):\n",
    "\t\treturn(a)\n",
    "\n",
    "\n",
    "\tif (a.data <= b.data):\n",
    "\t\tresult = a\n",
    "\t\tresult.next = SortedMerge(a.next, b)\n",
    "\telse:\n",
    "\t\tresult = b\n",
    "\t\tresult.next = SortedMerge(a, b.next)\n",
    "\n",
    "\treturn result\n",
    "def mergeKLists(arr, last):\n",
    "\twhile (last != 0):\n",
    "\t\ti = 0\n",
    "\t\tj = last\n",
    "\n",
    "\t\twhile (i < j):\n",
    "\t\t\tarr[i] = SortedMerge(arr[i], arr[j])\n",
    "\t\t\ti += 1\n",
    "\t\t\tj -= 1\n",
    "\n",
    "\t\t\tif (i >= j):\n",
    "\t\t\t\tlast = j\n",
    "\n",
    "\treturn arr[0]\n",
    "\n",
    "\n",
    "def newNode(data):\n",
    "\n",
    "\ttemp = Node()\n",
    "\ttemp.data = data\n",
    "\ttemp.next = None\n",
    "\treturn temp\n",
    "\n",
    "\n",
    "\n",
    "if __name__ == '__main__':\n",
    "\n",
    "\n",
    "\tk = 3\n",
    "\tn = 4\n",
    "\n",
    "\tarr = [0 for i in range(k)]\n",
    "\n",
    "\tarr[0] = newNode(1)\n",
    "\tarr[0].next = newNode(4)\n",
    "\tarr[0].next.next = newNode(5)\n",
    "\n",
    "\tarr[1] = newNode(1)\n",
    "\tarr[1].next = newNode(3)\n",
    "\tarr[1].next.next = newNode(4)\n",
    "\tarr[2] = newNode(2)\n",
    "\tarr[2].next = newNode(6)\n",
    "\thead = mergeKLists(arr, k - 1)\n",
    "\n",
    "\tprintList(head)\n",
    "\n"
   ]
  },
  {
   "attachments": {},
   "cell_type": "markdown",
   "metadata": {},
   "source": [
    "Q.2) Given an integer array nums, return an integer array counts where counts[i] is the number of smaller elements to the right of nums[i]."
   ]
  },
  {
   "cell_type": "code",
   "execution_count": 7,
   "metadata": {},
   "outputs": [
    {
     "name": "stdout",
     "output_type": "stream",
     "text": [
      "2 1 1 0 \n"
     ]
    }
   ],
   "source": [
    "def constructLowerArray(nums, countSmaller, n):\n",
    "\n",
    "\tfor i in range(n):\n",
    "\t\tcountSmaller[i] = 0\n",
    "\n",
    "\tfor i in range(n):\n",
    "\t\tfor j in range(i + 1, n):\n",
    "\t\t\tif (nums[j] < nums[i]):\n",
    "\t\t\t\tcountSmaller[i] += 1\n",
    "\n",
    "\n",
    "def printArray(nums, size):\n",
    "\tfor i in range(size):\n",
    "\t\tprint(nums[i], end=\" \")\n",
    "\tprint()\n",
    "\n",
    "\n",
    "nums = [5,2,6,1]\n",
    "n = len(nums)\n",
    "low = [0]*n\n",
    "constructLowerArray(nums, low, n)\n",
    "printArray(low, n)\n"
   ]
  },
  {
   "attachments": {},
   "cell_type": "markdown",
   "metadata": {},
   "source": [
    "Q.3) Given an array of integers `nums`, sort the array in ascending order and return it.\n",
    "\n",
    "You must solve the problem **without using any built-in** functions in `O(nlog(n))` time complexity and with the smallest space complexity possible."
   ]
  },
  {
   "cell_type": "code",
   "execution_count": 13,
   "metadata": {},
   "outputs": [
    {
     "data": {
      "text/plain": [
       "[1, 2, 3, 5]"
      ]
     },
     "execution_count": 13,
     "metadata": {},
     "output_type": "execute_result"
    }
   ],
   "source": [
    "import random\n",
    "def sortArray(nums):\n",
    "    def quick_sort(l, r):\n",
    "        if l >= r:\n",
    "            return\n",
    "        x = nums[random.randint(l,r)]\n",
    "        i, j, k = l - 1, r + 1, l\n",
    "        while k < j:\n",
    "            if nums[k] < x:\n",
    "                nums[i + 1], nums[k] = nums[k], nums[i + 1]\n",
    "                i, k = i + 1, k + 1\n",
    "            elif nums[k] > x:\n",
    "                j -= 1\n",
    "                nums[j], nums[k] = nums[k], nums[j]\n",
    "            else:\n",
    "                k = k + 1\n",
    "        quick_sort(l, i)\n",
    "        quick_sort(j, r)\n",
    "\n",
    "    quick_sort(0, len(nums) - 1)\n",
    "    return nums\n",
    "nums = [5,2,3,1]\n",
    "sortArray(nums)"
   ]
  },
  {
   "attachments": {},
   "cell_type": "markdown",
   "metadata": {},
   "source": [
    "Q.4) Given an array of random numbers, Push all the zero’s of a given array to the end of the array. For example, if the given arrays is {1, 9, 8, 4, 0, 0, 2, 7, 0, 6, 0}, it should be changed to {1, 9, 8, 4, 2, 7, 6, 0, 0, 0, 0}. The order of all other elements should be same. Expected time complexity is O(n) and extra space is O(1)."
   ]
  },
  {
   "cell_type": "code",
   "execution_count": 14,
   "metadata": {},
   "outputs": [
    {
     "data": {
      "text/plain": [
       "[1, 2, 4, 3, 5, 0, 0, 0]"
      ]
     },
     "execution_count": 14,
     "metadata": {},
     "output_type": "execute_result"
    }
   ],
   "source": [
    "def func(nums):\n",
    "    for i in range(len(nums)):\n",
    "        if nums[i] ==0:\n",
    "            nums.remove(nums[i])\n",
    "            nums.append(0)\n",
    "    return nums\n",
    "nums = [1, 2, 0, 4, 3, 0, 5, 0]\n",
    "func(nums)\n"
   ]
  },
  {
   "attachments": {},
   "cell_type": "markdown",
   "metadata": {},
   "source": [
    "Q.5) Rearrange array in alternating positive & negative items with O(1) extra space"
   ]
  },
  {
   "cell_type": "code",
   "execution_count": 18,
   "metadata": {},
   "outputs": [
    {
     "name": "stdout",
     "output_type": "stream",
     "text": [
      "[3, -1, 1, -4, 2, 4]\n"
     ]
    }
   ],
   "source": [
    "def partition(A):\n",
    " \n",
    "    j = 0\n",
    "    pivot = 0\n",
    " \n",
    "    for i in range(len(A)):\n",
    "        if A[i] < pivot:\n",
    "            temp = A[i]\n",
    "            A[i] = A[j]\n",
    "            A[j] = temp\n",
    " \n",
    "            j = j + 1\n",
    "\n",
    "    return j\n",
    " \n",
    "def rearrange(A):\n",
    "  \n",
    "    p = partition(A)\n",
    "\n",
    "    n = 0\n",
    "    while len(A) > p > n:\n",
    "        temp = A[n]\n",
    "        A[n] = A[p]\n",
    "        A[p] = temp\n",
    " \n",
    "        p = p + 1\n",
    "        n = n + 2\n",
    " \n",
    " \n",
    "\n",
    "A = [1, 2, 3, -4, -1, 4]\n",
    "\n",
    "rearrange(A)\n",
    "print(A)    "
   ]
  },
  {
   "attachments": {},
   "cell_type": "markdown",
   "metadata": {},
   "source": [
    "Q.6) Given two sorted arrays, the task is to merge them in a sorted manner."
   ]
  },
  {
   "cell_type": "code",
   "execution_count": 19,
   "metadata": {},
   "outputs": [
    {
     "name": "stdout",
     "output_type": "stream",
     "text": [
      "1 2 3 4 4 5 6 8 "
     ]
    }
   ],
   "source": [
    "def mergeArrays(arr1, arr2, n1, n2, arr3):\n",
    "\ti = 0\n",
    "\tj = 0\n",
    "\tk = 0\n",
    "\n",
    "\twhile(i < n1):\n",
    "\t\tarr3[k] = arr1[i]\n",
    "\t\tk += 1\n",
    "\t\ti += 1\n",
    "\twhile(j < n2):\n",
    "\t\tarr3[k] = arr2[j]\n",
    "\t\tk += 1\n",
    "\t\tj += 1\n",
    "\n",
    "\tarr3.sort()\n",
    "\n",
    "\n",
    "\n",
    "arr1 = [1, 3, 4, 5]\n",
    "n1 = len(arr1)\n",
    "\n",
    "arr2 = [2, 4, 6, 8]\n",
    "n2 = len(arr2)\n",
    "\n",
    "arr3 = [0 for i in range(n1+n2)]\n",
    "mergeArrays(arr1, arr2, n1, n2, arr3)\n",
    "\n",
    "for i in range(n1 + n2):\n",
    "    print(arr3[i], end=\" \")\n"
   ]
  },
  {
   "attachments": {},
   "cell_type": "markdown",
   "metadata": {},
   "source": [
    "Q.7) Intersection of Two Arrays"
   ]
  },
  {
   "cell_type": "code",
   "execution_count": 21,
   "metadata": {},
   "outputs": [
    {
     "name": "stdout",
     "output_type": "stream",
     "text": [
      "{2}\n"
     ]
    }
   ],
   "source": [
    "nums1 = [1, 2,2,1]\n",
    "nums2 = [2,2]\n",
    "print(set(nums1) and set(nums2))\n"
   ]
  },
  {
   "attachments": {},
   "cell_type": "markdown",
   "metadata": {},
   "source": [
    "Q.8)Given two integer arrays nums1 and nums2, return an array of their intersection. Each element in the result must appear as many times as it shows in both arrays and you may return the result in any order."
   ]
  },
  {
   "cell_type": "code",
   "execution_count": 24,
   "metadata": {},
   "outputs": [
    {
     "data": {
      "text/plain": [
       "[2, 2]"
      ]
     },
     "execution_count": 24,
     "metadata": {},
     "output_type": "execute_result"
    }
   ],
   "source": [
    "def intersect(nums1, nums2):\n",
    "    sortedArr1 = sorted(nums1)\n",
    "    sortedArr2 = sorted(nums2)\n",
    "\n",
    "    i = 0\n",
    "    j = 0\n",
    "\n",
    "    output = []\n",
    "    while i < len(sortedArr1) and j < len(sortedArr2):\n",
    "\n",
    "        if sortedArr1[i] < sortedArr2[j]:\n",
    "            i += 1\n",
    "\n",
    "        elif sortedArr2[j] < sortedArr1[i]:\n",
    "            j += 1\n",
    "\n",
    "        else:\n",
    "            output.append(sortedArr1[i])\n",
    "            i += 1\n",
    "            j += 1\n",
    "    return output\n",
    "nums1 = [1,2,2,1]\n",
    "nums2 = [2,2]\n",
    "intersect(nums1,nums2)"
   ]
  }
 ],
 "metadata": {
  "kernelspec": {
   "display_name": "Python 3",
   "language": "python",
   "name": "python3"
  },
  "language_info": {
   "codemirror_mode": {
    "name": "ipython",
    "version": 3
   },
   "file_extension": ".py",
   "mimetype": "text/x-python",
   "name": "python",
   "nbconvert_exporter": "python",
   "pygments_lexer": "ipython3",
   "version": "3.11.3"
  },
  "orig_nbformat": 4
 },
 "nbformat": 4,
 "nbformat_minor": 2
}
