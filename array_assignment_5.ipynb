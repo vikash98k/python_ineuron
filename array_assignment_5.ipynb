{
 "cells": [
  {
   "attachments": {},
   "cell_type": "markdown",
   "metadata": {},
   "source": [
    "Q.1) Convert 1D Array Into 2D Array"
   ]
  },
  {
   "cell_type": "code",
   "execution_count": 9,
   "metadata": {},
   "outputs": [
    {
     "name": "stdout",
     "output_type": "stream",
     "text": [
      "[[1, 2], [3, 4]]\n"
     ]
    }
   ],
   "source": [
    "def solution(original,m,n):\n",
    "    new_array = []\n",
    "    if len(original) == m*n:\n",
    "        for i in range(0,len(original),n):\n",
    "            new_array.append(original[i:i+n])\n",
    "    return new_array\n",
    "\n",
    "original = [1,2,3,4]\n",
    "m =2\n",
    "n =2\n",
    "print(solution(original,m,n))"
   ]
  },
  {
   "attachments": {},
   "cell_type": "markdown",
   "metadata": {},
   "source": [
    "Q.2) You have n coins and you want to build a staircase with these coins. The staircase consists of k rows where the ith row has exactly i coins. The last row of the staircase **may be** incomplete.\n",
    "\n",
    "Given the integer n, return *the number of **complete rows** of the staircase you will build*.\n",
    "\n",
    "sol."
   ]
  },
  {
   "cell_type": "code",
   "execution_count": 10,
   "metadata": {},
   "outputs": [
    {
     "name": "stdout",
     "output_type": "stream",
     "text": [
      "2\n"
     ]
    }
   ],
   "source": [
    "n = 5\n",
    "count = 0\n",
    "i=0\n",
    "while n>=0:\n",
    "    i+=1\n",
    "    n=n-i\n",
    "print(i-1)"
   ]
  },
  {
   "attachments": {},
   "cell_type": "markdown",
   "metadata": {},
   "source": [
    "Q.3) Given an integer array nums sorted in non-decreasing order, return an array of the squares of each number sorted in non-decreasing order\n",
    "\n",
    "sol."
   ]
  },
  {
   "cell_type": "code",
   "execution_count": 11,
   "metadata": {},
   "outputs": [
    {
     "name": "stdout",
     "output_type": "stream",
     "text": [
      "[0, 1, 9, 16, 100]\n"
     ]
    }
   ],
   "source": [
    "nums = [-4,-1,0,3,10]\n",
    "nums = [-4,-1,0,3,10]\n",
    "for i in range(len(nums)):\n",
    "    nums[i] = nums[i]**2\n",
    "nums.sort()\n",
    "print(nums)"
   ]
  },
  {
   "attachments": {},
   "cell_type": "markdown",
   "metadata": {},
   "source": [
    "Q.4) Given two **0-indexed** integer arrays nums1 and nums2, return *a list* answer *of size* 2 *where:*\n",
    "\n",
    "- answer[0] *is a list of all **distinct** integers in* nums1 *which are **not** present in* nums2*.*\n",
    "- answer[1] *is a list of all **distinct** integers in* nums2 *which are **not** present in* nums1.\n",
    "\n",
    "**Note** that the integers in the lists may be returned in **any** order.\n",
    "\n",
    "sol."
   ]
  },
  {
   "cell_type": "code",
   "execution_count": 12,
   "metadata": {},
   "outputs": [
    {
     "name": "stdout",
     "output_type": "stream",
     "text": [
      "[[1, 3], [4, 6]]\n"
     ]
    }
   ],
   "source": [
    "nums1 = [1,2,3]\n",
    "nums2 = [2,4,6]\n",
    "number1 = []\n",
    "number2 = []\n",
    "for i in nums1:\n",
    "    if i not in nums2:\n",
    "        number1.append(i)\n",
    "for j in nums2:\n",
    "    if j not in nums1:\n",
    "        number2.append(j)\n",
    "print([number1,number2])"
   ]
  },
  {
   "attachments": {},
   "cell_type": "markdown",
   "metadata": {},
   "source": [
    "Q.5) Given two integer arrays arr1 and arr2, and the integer d, *return the distance value between the two arrays*.\n",
    "\n",
    "The distance value is defined as the number of elements arr1[i] such that there is not any element arr2[j] where |arr1[i]-arr2[j]| <= d.\n",
    "\n",
    "sol."
   ]
  },
  {
   "cell_type": "code",
   "execution_count": 16,
   "metadata": {},
   "outputs": [
    {
     "name": "stdout",
     "output_type": "stream",
     "text": [
      "2\n"
     ]
    }
   ],
   "source": [
    "\n",
    "def solution(arr1,arr2,d):\n",
    "    count=0\n",
    "    for i in arr1:\n",
    "        for j in arr2:\n",
    "            if abs(i-j)<=d:\n",
    "                count+=1\n",
    "                break\n",
    "    return len(arr1)-count\n",
    "\n",
    "arr1 = [4,5,8]\n",
    "arr2 = [10,9,1,8]\n",
    "d = 2\n",
    "print(solution(arr1,arr2,d))"
   ]
  },
  {
   "attachments": {},
   "cell_type": "markdown",
   "metadata": {},
   "source": [
    "Q.6) Given an integer array nums of length n where all the integers of nums are in the range [1, n] and each integer appears **once** or **twice**, return *an array of all the integers that appears **twice***.\n",
    "\n",
    "You must write an algorithm that runs in O(n) time and uses only constant extra space.\n",
    "\n",
    "sol."
   ]
  },
  {
   "cell_type": "code",
   "execution_count": 19,
   "metadata": {},
   "outputs": [
    {
     "name": "stdout",
     "output_type": "stream",
     "text": [
      "[3, 2]\n"
     ]
    }
   ],
   "source": [
    "from collections import Counter\n",
    "\n",
    "def solution(number):\n",
    "    count = Counter(number)\n",
    "    return [key for key,value in count.items() if value ==2]\n",
    "\n",
    "number = [4,3,2,7,8,2,3,1]\n",
    "print(solution(number))"
   ]
  },
  {
   "attachments": {},
   "cell_type": "markdown",
   "metadata": {},
   "source": [
    "Q.7) Suppose an array of length n sorted in ascending order is rotated between 1 and n times. Given the sorted rotated array nums of **unique** elements, return *the minimum element of this array*.\n",
    "\n",
    "You must write an algorithm that runs in O(log n) time.\n",
    "\n",
    "sol."
   ]
  },
  {
   "cell_type": "code",
   "execution_count": 20,
   "metadata": {},
   "outputs": [
    {
     "name": "stdout",
     "output_type": "stream",
     "text": [
      "1\n"
     ]
    }
   ],
   "source": [
    "def solution(nums):\n",
    "    l = 0\n",
    "    h = len(nums)-1\n",
    "    while(l<h):\n",
    "        mid = l+(h-1)\n",
    "        if nums[mid]>nums[h]:\n",
    "            l = mid+1\n",
    "        else:\n",
    "            h = mid\n",
    "    return nums[l]\n",
    "nums = [3,4,5,1,2]\n",
    "print(solution(nums))\n"
   ]
  },
  {
   "attachments": {},
   "cell_type": "markdown",
   "metadata": {},
   "source": [
    "Q.8) An integer array original is transformed into a **doubled** array changed by appending **twice the value** of every element in original, and then randomly **shuffling** the resulting array.\n",
    "\n",
    "Given an array changed, return original *if* changed *is a **doubled** array. If* changed *is not a **doubled** array, return an empty array. The elements in* original *may be returned in **any** order*.\n",
    "\n",
    "sol."
   ]
  },
  {
   "cell_type": "code",
   "execution_count": 21,
   "metadata": {},
   "outputs": [
    {
     "name": "stdout",
     "output_type": "stream",
     "text": [
      "[1, 3, 4]\n"
     ]
    }
   ],
   "source": [
    "\n",
    "def solution(changed):\n",
    "    if len(changed)%2!=0:\n",
    "        return []\n",
    "    changed.sort()\n",
    "    c=Counter(changed)\n",
    "    ans=[]\n",
    "    if c[0]%2==0:\n",
    "        ans+=[0]*(c[0]//2)\n",
    "        \n",
    "    for i in c:\n",
    "        if i==0 or c[i]==0:\n",
    "            continue\n",
    "        elif (i*2 not in c) or c[i]>c[i*2]:\n",
    "            return []\n",
    "        c[i*2]-=c[i]\n",
    "        ans+=[i]*c[i]\n",
    "            \n",
    "    return ans\n",
    "changed = [1,3,4,2,6,8]\n",
    "print(solution(changed))"
   ]
  }
 ],
 "metadata": {
  "kernelspec": {
   "display_name": "Python 3",
   "language": "python",
   "name": "python3"
  },
  "language_info": {
   "codemirror_mode": {
    "name": "ipython",
    "version": 3
   },
   "file_extension": ".py",
   "mimetype": "text/x-python",
   "name": "python",
   "nbconvert_exporter": "python",
   "pygments_lexer": "ipython3",
   "version": "3.11.3"
  },
  "orig_nbformat": 4
 },
 "nbformat": 4,
 "nbformat_minor": 2
}
