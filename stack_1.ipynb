{
 "cells": [
  {
   "attachments": {},
   "cell_type": "markdown",
   "metadata": {},
   "source": [
    "Q.1) Given an array arr[ ] of size N having elements, the task is to find the next greater element for each element of the array in order of their appearance in the array.Next greater element of an element in the array is the nearest element on the right which is greater than the current element.If there does not exist next greater of current element, then next greater element for current element is -1. For example, next greater of the last element is always -1."
   ]
  },
  {
   "cell_type": "code",
   "execution_count": 4,
   "metadata": {},
   "outputs": [
    {
     "name": "stdout",
     "output_type": "stream",
     "text": [
      "3 4 4 -1 "
     ]
    }
   ],
   "source": [
    "arr = [1,3,2,4]\n",
    "N=4\n",
    "for i in range(N):\n",
    "    next = -1\n",
    "    for j in range(i + 1, N):\n",
    "        if arr[j] > arr[i]:\n",
    "            next = arr[j]\n",
    "            break\n",
    "\n",
    "    print(next, end=' ')"
   ]
  },
  {
   "attachments": {},
   "cell_type": "markdown",
   "metadata": {},
   "source": [
    "Q.2) Given an array a of integers of length n, find the nearest smaller number for every element such that the smaller element is on left side.If no small element present on the left print -1."
   ]
  },
  {
   "cell_type": "code",
   "execution_count": 14,
   "metadata": {},
   "outputs": [
    {
     "name": "stdout",
     "output_type": "stream",
     "text": [
      "-1 1 1 "
     ]
    }
   ],
   "source": [
    "from collections import deque\n",
    " \n",
    "def findPrevSmaller(arr):\n",
    " \n",
    "    if not arr:\n",
    "        return\n",
    "    s = deque()\n",
    "    \n",
    "    for i in range(len(arr)):\n",
    "        while s:\n",
    "\n",
    "            if s[-1] < arr[i]:\n",
    "                print(s[-1],end=\" \")\n",
    "                break\n",
    "\n",
    "            else:\n",
    "                s.pop()\n",
    "\n",
    "        if not s:\n",
    "            print(-1, end=' ')\n",
    "        s.append(arr[i])\n",
    " \n",
    " \n",
    "if __name__ == '__main__':\n",
    "    arr = [1,6,2]\n",
    "    findPrevSmaller(arr)"
   ]
  },
  {
   "attachments": {},
   "cell_type": "markdown",
   "metadata": {},
   "source": [
    "Q.3) Implement a Stack using two queues q1 and q2."
   ]
  },
  {
   "cell_type": "code",
   "execution_count": 43,
   "metadata": {},
   "outputs": [
    {
     "name": "stdout",
     "output_type": "stream",
     "text": [
      "3 4 "
     ]
    }
   ],
   "source": [
    "class Stacks():\n",
    "    def __init__(self):\n",
    "        self.q1=[]\n",
    "        self.q2=[]\n",
    "    def push(self,x):\n",
    "        if len(self.q1)==0:\n",
    "            self.q1.append(x)\n",
    "        else:\n",
    "            for i in range(len(self.q1)):\n",
    "                self.q2.append(self.q1.pop(0))\n",
    "            self.q1.append(x)\n",
    "            for j in range(len(self.q2)):\n",
    "                self.q1.append(self.q2.pop(0))\n",
    "        \n",
    "\n",
    "    def pop(self):\n",
    "        if len(self.q1) == 0:\n",
    "            print(-1,end=\" \")\n",
    "        else:\n",
    "            print(self.q1.pop(0),end=\" \")\n",
    "\n",
    "s1=Stacks()\n",
    "s1.push(2)\n",
    "s1.push(3)\n",
    "s1.pop()\n",
    "s1.push(4)\n",
    "s1.pop()\n",
    "\n",
    "\n"
   ]
  },
  {
   "attachments": {},
   "cell_type": "markdown",
   "metadata": {},
   "source": [
    "Q.4) You are given a stack St. You have to reverse the stack using recursion."
   ]
  },
  {
   "cell_type": "code",
   "execution_count": 24,
   "metadata": {},
   "outputs": [
    {
     "name": "stdout",
     "output_type": "stream",
     "text": [
      "[6, 7, 1, 2, 3]\n"
     ]
    }
   ],
   "source": [
    "from collections import deque\n",
    "def insertAtBottom(st, item):\n",
    " \n",
    "    if not st:\n",
    "        st.append(item)\n",
    "        return\n",
    "    top = st.pop()\n",
    "    insertAtBottom(st, item)\n",
    "\n",
    "    st.append(top)\n",
    " \n",
    "def reverseStack(st):\n",
    "\n",
    "    if not st:\n",
    "        return\n",
    "\n",
    "    item = st.pop()\n",
    "    reverseStack(st)\n",
    "    insertAtBottom(st, item)\n",
    " \n",
    " \n",
    "if __name__ == '__main__':\n",
    " \n",
    "    st = [3,2,1,7,6]\n",
    "    reverseStack(st)\n",
    "    print(st)\n"
   ]
  },
  {
   "attachments": {},
   "cell_type": "markdown",
   "metadata": {},
   "source": [
    "Q.5) You are given a string S, the task is to reverse the string using stack."
   ]
  },
  {
   "cell_type": "code",
   "execution_count": 25,
   "metadata": {},
   "outputs": [
    {
     "name": "stdout",
     "output_type": "stream",
     "text": [
      "norueni\n"
     ]
    }
   ],
   "source": [
    "\n",
    "def reversestring(s):\n",
    "\tstack = []\n",
    "\tfor i in s:\n",
    "\t\tstack.append(i)\n",
    "\ts = \"\"\n",
    "\twhile stack:\n",
    "\t\ts += stack.pop()\n",
    "\treturn s\n",
    "\n",
    "# main function\n",
    "if __name__ == \"__main__\":\n",
    "\n",
    "\tstr = \"ineuron\"\n",
    "\treversed_str = reversestring(str)\n",
    "\tprint(reversed_str)"
   ]
  },
  {
   "attachments": {},
   "cell_type": "markdown",
   "metadata": {},
   "source": [
    "Q.6) Given string S representing a postfix expression, the task is to evaluate the expression and find the final value. Operators will only include the basic arithmetic operators like *, /, + and -."
   ]
  },
  {
   "cell_type": "code",
   "execution_count": 52,
   "metadata": {},
   "outputs": [
    {
     "name": "stdout",
     "output_type": "stream",
     "text": [
      "-4\n"
     ]
    }
   ],
   "source": [
    "def postfixexpression(S):\n",
    "    stack = []\n",
    "    \n",
    "    for char in S:\n",
    "        if char.isdigit():\n",
    "            stack.append(int(char))\n",
    "        else:\n",
    "            operand2 = stack.pop()\n",
    "            operand1 = stack.pop()\n",
    "            \n",
    "            if char == '+':\n",
    "                result = operand1 + operand2\n",
    "            elif char == '-':\n",
    "                result = operand1 - operand2\n",
    "            elif char == '*':\n",
    "                result = operand1 * operand2\n",
    "            elif char == '/':\n",
    "                result = operand1 / operand2\n",
    "            \n",
    "            stack.append(result)\n",
    "    \n",
    "    return stack.pop()\n",
    "\n",
    "S = \"231*+9-\"\n",
    "result = postfixexpression(S)\n",
    "print(result)  "
   ]
  },
  {
   "attachments": {},
   "cell_type": "markdown",
   "metadata": {},
   "source": [
    "Q.7) Design a stack that supports push, pop, top, and retrieving the minimum element in constant time.\n",
    "\n",
    "Implement the `MinStack` class:\n",
    "\n",
    "- `MinStack()` initializes the stack object.\n",
    "- `void push(int val)` pushes the element `val` onto the stack.\n",
    "- `void pop()` removes the element on the top of the stack.\n",
    "- `int top()` gets the top element of the stack.\n",
    "- `int getMin()` retrieves the minimum element in the stack.\n",
    "\n",
    "You must implement a solution with `O(1)` time complexity for each function."
   ]
  },
  {
   "cell_type": "code",
   "execution_count": 51,
   "metadata": {},
   "outputs": [
    {
     "name": "stdout",
     "output_type": "stream",
     "text": [
      "-3\n",
      "0\n",
      "-2\n"
     ]
    }
   ],
   "source": [
    "class MinStack:\n",
    "\n",
    "    def __init__(self):\n",
    "        self.stack = []\n",
    "        self.minstack = []\n",
    "\n",
    "    def push(self, val):\n",
    "        if not self.stack:\n",
    "            self.stack.append(val)\n",
    "            self.minstack.append(val)\n",
    "        else:\n",
    "            if val < self.minstack[-1]:\n",
    "                self.minstack.append(val)\n",
    "                self.stack.append(val)\n",
    "            else:\n",
    "                self.stack.append(val)\n",
    "                self.minstack.append(self.minstack[-1])\n",
    "        return self.stack\n",
    "\n",
    "    def pop(self):\n",
    "        if len(self.stack) == 0 or len(self.minstack) ==0:\n",
    "            pass\n",
    "        else:\n",
    "            self.stack.pop()\n",
    "            self.minstack.pop()\n",
    "\n",
    "    def top(self):\n",
    "        if len(self.stack) ==0:\n",
    "            pass\n",
    "        else:\n",
    "            return self.stack[-1]\n",
    "\n",
    "    def getMin(self):\n",
    "        if len(self.minstack) ==0:\n",
    "            pass\n",
    "        else:\n",
    "            return self.minstack[-1]\n",
    "\n",
    "\n",
    "minStack = MinStack()\n",
    "minStack.push(-2)\n",
    "minStack.push(0)\n",
    "minStack.push(-3)\n",
    "print(minStack.getMin())  \n",
    "minStack.pop()\n",
    "print(minStack.top())    \n",
    "print(minStack.getMin())  "
   ]
  },
  {
   "attachments": {},
   "cell_type": "markdown",
   "metadata": {},
   "source": [
    "Q.8) Given n non-negative integers representing an elevation map where the width of each bar is 1, compute how much water it can trap after raining."
   ]
  },
  {
   "cell_type": "code",
   "execution_count": 33,
   "metadata": {},
   "outputs": [
    {
     "name": "stdout",
     "output_type": "stream",
     "text": [
      "6\n"
     ]
    }
   ],
   "source": [
    "def maxWater(arr, n):\n",
    "\tres = 0\n",
    "\tfor i in range(1, n - 1):\n",
    "\n",
    "\t\tleft = arr[i]\n",
    "\t\tfor j in range(i):\n",
    "\t\t\tleft = max(left, arr[j])\n",
    "\t\tright = arr[i]\n",
    "\n",
    "\t\tfor j in range(i + 1, n):\n",
    "\t\t\tright = max(right, arr[j])\n",
    "\t\tres = res + (min(left, right) - arr[i])\n",
    "\n",
    "\treturn res\n",
    "\n",
    "if __name__ == \"__main__\":\n",
    "\n",
    "\tarr = [0,1,0,2,1,0,1,3,2,1,2,1]\n",
    "\tn = len(arr)\n",
    "\n",
    "\tprint(maxWater(arr, n))"
   ]
  }
 ],
 "metadata": {
  "kernelspec": {
   "display_name": "Python 3",
   "language": "python",
   "name": "python3"
  },
  "language_info": {
   "codemirror_mode": {
    "name": "ipython",
    "version": 3
   },
   "file_extension": ".py",
   "mimetype": "text/x-python",
   "name": "python",
   "nbconvert_exporter": "python",
   "pygments_lexer": "ipython3",
   "version": "3.11.3"
  },
  "orig_nbformat": 4
 },
 "nbformat": 4,
 "nbformat_minor": 2
}
