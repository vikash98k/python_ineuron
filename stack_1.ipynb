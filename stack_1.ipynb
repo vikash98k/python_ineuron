{
 "cells": [
  {
   "attachments": {},
   "cell_type": "markdown",
   "metadata": {},
   "source": [
    "Q.1) Given an array arr[ ] of size N having elements, the task is to find the next greater element for each element of the array in order of their appearance in the array.Next greater element of an element in the array is the nearest element on the right which is greater than the current element.If there does not exist next greater of current element, then next greater element for current element is -1. For example, next greater of the last element is always -1."
   ]
  },
  {
   "cell_type": "code",
   "execution_count": 4,
   "metadata": {},
   "outputs": [
    {
     "name": "stdout",
     "output_type": "stream",
     "text": [
      "3 4 4 -1 "
     ]
    }
   ],
   "source": [
    "arr = [1,3,2,4]\n",
    "N=4\n",
    "for i in range(N):\n",
    "    next = -1\n",
    "    for j in range(i + 1, N):\n",
    "        if arr[j] > arr[i]:\n",
    "            next = arr[j]\n",
    "            break\n",
    "\n",
    "    print(next, end=' ')"
   ]
  },
  {
   "attachments": {},
   "cell_type": "markdown",
   "metadata": {},
   "source": [
    "Q.2) Given an array a of integers of length n, find the nearest smaller number for every element such that the smaller element is on left side.If no small element present on the left print -1."
   ]
  },
  {
   "cell_type": "code",
   "execution_count": 14,
   "metadata": {},
   "outputs": [
    {
     "name": "stdout",
     "output_type": "stream",
     "text": [
      "-1 1 1 "
     ]
    }
   ],
   "source": [
    "from collections import deque\n",
    " \n",
    "def findPrevSmaller(arr):\n",
    " \n",
    "    if not arr:\n",
    "        return\n",
    "    s = deque()\n",
    "    \n",
    "    for i in range(len(arr)):\n",
    "        while s:\n",
    "\n",
    "            if s[-1] < arr[i]:\n",
    "                print(s[-1],end=\" \")\n",
    "                break\n",
    "\n",
    "            else:\n",
    "                s.pop()\n",
    "\n",
    "        if not s:\n",
    "            print(-1, end=' ')\n",
    "        s.append(arr[i])\n",
    " \n",
    " \n",
    "if __name__ == '__main__':\n",
    "    arr = [1,6,2]\n",
    "    findPrevSmaller(arr)"
   ]
  },
  {
   "attachments": {},
   "cell_type": "markdown",
   "metadata": {},
   "source": [
    "Q.3) Implement a Stack using two queues q1 and q2."
   ]
  },
  {
   "cell_type": "code",
   "execution_count": 1,
   "metadata": {},
   "outputs": [
    {
     "ename": "ValueError",
     "evalue": "invalid literal for int() with base 10: 'enter'",
     "output_type": "error",
     "traceback": [
      "\u001b[1;31m---------------------------------------------------------------------------\u001b[0m",
      "\u001b[1;31mValueError\u001b[0m                                Traceback (most recent call last)",
      "Cell \u001b[1;32mIn[1], line 25\u001b[0m\n\u001b[0;32m     22\u001b[0m queue_2 \u001b[39m=\u001b[39m [] \n\u001b[0;32m     24\u001b[0m \u001b[39mif\u001b[39;00m \u001b[39m__name__\u001b[39m \u001b[39m==\u001b[39m \u001b[39m'\u001b[39m\u001b[39m__main__\u001b[39m\u001b[39m'\u001b[39m:\n\u001b[1;32m---> 25\u001b[0m     test_cases \u001b[39m=\u001b[39m \u001b[39mint\u001b[39;49m(\u001b[39minput\u001b[39;49m())\n\u001b[0;32m     26\u001b[0m     \u001b[39mfor\u001b[39;00m cases \u001b[39min\u001b[39;00m \u001b[39mrange\u001b[39m(test_cases) :\n\u001b[0;32m     27\u001b[0m         n \u001b[39m=\u001b[39m \u001b[39mint\u001b[39m(\u001b[39minput\u001b[39m())\n",
      "\u001b[1;31mValueError\u001b[0m: invalid literal for int() with base 10: 'enter'"
     ]
    }
   ],
   "source": [
    "import atexit\n",
    "import io\n",
    "import sys\n",
    "def push(x):\n",
    "    global queue_1\n",
    "    global queue_2\n",
    "    queue_1.append(x)\n",
    "    \n",
    "def pop():\n",
    "    ans=-1\n",
    "    global queue_1\n",
    "    global queue_2\n",
    "    if(len(queue_1)==0):\n",
    "        return ans\n",
    "    else:\n",
    "        ans=queue_1.pop()\n",
    "    while(len(queue_2)!=0):\n",
    "        queue_1.append(queue_2.pop(0))\n",
    "    return ans\n",
    "\n",
    "queue_1 = []\n",
    "queue_2 = [] \n"
   ]
  },
  {
   "attachments": {},
   "cell_type": "markdown",
   "metadata": {},
   "source": [
    "Q.4) You are given a stack St. You have to reverse the stack using recursion."
   ]
  },
  {
   "cell_type": "code",
   "execution_count": 24,
   "metadata": {},
   "outputs": [
    {
     "name": "stdout",
     "output_type": "stream",
     "text": [
      "[6, 7, 1, 2, 3]\n"
     ]
    }
   ],
   "source": [
    "from collections import deque\n",
    "def insertAtBottom(st, item):\n",
    " \n",
    "    if not st:\n",
    "        st.append(item)\n",
    "        return\n",
    "    top = st.pop()\n",
    "    insertAtBottom(st, item)\n",
    "\n",
    "    st.append(top)\n",
    " \n",
    "def reverseStack(st):\n",
    "\n",
    "    if not st:\n",
    "        return\n",
    "\n",
    "    item = st.pop()\n",
    "    reverseStack(st)\n",
    "    insertAtBottom(st, item)\n",
    " \n",
    " \n",
    "if __name__ == '__main__':\n",
    " \n",
    "    st = [3,2,1,7,6]\n",
    "    reverseStack(st)\n",
    "    print(st)\n"
   ]
  },
  {
   "attachments": {},
   "cell_type": "markdown",
   "metadata": {},
   "source": [
    "Q.5) You are given a string S, the task is to reverse the string using stack."
   ]
  },
  {
   "cell_type": "code",
   "execution_count": 25,
   "metadata": {},
   "outputs": [
    {
     "name": "stdout",
     "output_type": "stream",
     "text": [
      "norueni\n"
     ]
    }
   ],
   "source": [
    "\n",
    "def reversestring(s):\n",
    "\tstack = []\n",
    "\tfor i in s:\n",
    "\t\tstack.append(i)\n",
    "\ts = \"\"\n",
    "\twhile stack:\n",
    "\t\ts += stack.pop()\n",
    "\treturn s\n",
    "\n",
    "# main function\n",
    "if __name__ == \"__main__\":\n",
    "\n",
    "\tstr = \"ineuron\"\n",
    "\treversed_str = reversestring(str)\n",
    "\tprint(reversed_str)"
   ]
  },
  {
   "attachments": {},
   "cell_type": "markdown",
   "metadata": {},
   "source": [
    "Q.6) Given string S representing a postfix expression, the task is to evaluate the expression and find the final value. Operators will only include the basic arithmetic operators like *, /, + and -."
   ]
  },
  {
   "cell_type": "code",
   "execution_count": 30,
   "metadata": {},
   "outputs": [
    {
     "ename": "TypeError",
     "evalue": "unsupported operand type(s) for +: 'NoneType' and 'NoneType'",
     "output_type": "error",
     "traceback": [
      "\u001b[1;31m---------------------------------------------------------------------------\u001b[0m",
      "\u001b[1;31mValueError\u001b[0m                                Traceback (most recent call last)",
      "Cell \u001b[1;32mIn[30], line 20\u001b[0m, in \u001b[0;36mevalpostfix.centralfunc\u001b[1;34m(self, ab)\u001b[0m\n\u001b[0;32m     19\u001b[0m \u001b[39mtry\u001b[39;00m:\n\u001b[1;32m---> 20\u001b[0m \t\u001b[39mself\u001b[39m\u001b[39m.\u001b[39mpush(\u001b[39mint\u001b[39;49m(i))\n\u001b[0;32m     21\u001b[0m \u001b[39mexcept\u001b[39;00m \u001b[39mValueError\u001b[39;00m:\n",
      "\u001b[1;31mValueError\u001b[0m: invalid literal for int() with base 10: '231*+9-'",
      "\nDuring handling of the above exception, another exception occurred:\n",
      "\u001b[1;31mTypeError\u001b[0m                                 Traceback (most recent call last)",
      "Cell \u001b[1;32mIn[30], line 38\u001b[0m\n\u001b[0;32m     36\u001b[0m strconv \u001b[39m=\u001b[39m \u001b[39mstr\u001b[39m\u001b[39m.\u001b[39msplit(\u001b[39m'\u001b[39m\u001b[39m \u001b[39m\u001b[39m'\u001b[39m)\n\u001b[0;32m     37\u001b[0m obj \u001b[39m=\u001b[39m evalpostfix()\n\u001b[1;32m---> 38\u001b[0m \u001b[39mprint\u001b[39m(obj\u001b[39m.\u001b[39;49mcentralfunc(strconv))\n",
      "Cell \u001b[1;32mIn[30], line 27\u001b[0m, in \u001b[0;36mevalpostfix.centralfunc\u001b[1;34m(self, ab)\u001b[0m\n\u001b[0;32m     25\u001b[0m \t\t\t\u001b[39mself\u001b[39m\u001b[39m.\u001b[39mpush(val2 \u001b[39m/\u001b[39m val1)\n\u001b[0;32m     26\u001b[0m \t\t\u001b[39melse\u001b[39;00m:\n\u001b[1;32m---> 27\u001b[0m \t\t\tswitcher \u001b[39m=\u001b[39m {\u001b[39m'\u001b[39m\u001b[39m+\u001b[39m\u001b[39m'\u001b[39m: val2 \u001b[39m+\u001b[39;49m val1, \u001b[39m'\u001b[39m\u001b[39m-\u001b[39m\u001b[39m'\u001b[39m: val2 \u001b[39m-\u001b[39m\n\u001b[0;32m     28\u001b[0m \t\t\t\t\t\tval1, \u001b[39m'\u001b[39m\u001b[39m*\u001b[39m\u001b[39m'\u001b[39m: val2 \u001b[39m*\u001b[39m val1, \u001b[39m'\u001b[39m\u001b[39m^\u001b[39m\u001b[39m'\u001b[39m: val2\u001b[39m*\u001b[39m\u001b[39m*\u001b[39mval1}\n\u001b[0;32m     29\u001b[0m \t\t\t\u001b[39mself\u001b[39m\u001b[39m.\u001b[39mpush(switcher\u001b[39m.\u001b[39mget(i))\n\u001b[0;32m     30\u001b[0m \u001b[39mreturn\u001b[39;00m \u001b[39mint\u001b[39m(\u001b[39mself\u001b[39m\u001b[39m.\u001b[39mpop())\n",
      "\u001b[1;31mTypeError\u001b[0m: unsupported operand type(s) for +: 'NoneType' and 'NoneType'"
     ]
    }
   ],
   "source": [
    "class evalpostfix:\n",
    "\tdef __init__(self):\n",
    "\t\tself.stack = []\n",
    "\t\tself.top = -1\n",
    "\n",
    "\tdef pop(self):\n",
    "\t\tif self.top == -1:\n",
    "\t\t\treturn\n",
    "\t\telse:\n",
    "\t\t\tself.top -= 1\n",
    "\t\t\treturn self.stack.pop()\n",
    "\n",
    "\tdef push(self, i):\n",
    "\t\tself.top += 1\n",
    "\t\tself.stack.append(i)\n",
    "\n",
    "\tdef centralfunc(self, ab):\n",
    "\t\tfor i in ab:\n",
    "\t\t\ttry:\n",
    "\t\t\t\tself.push(int(i))\n",
    "\t\t\texcept ValueError:\n",
    "\t\t\t\tval1 = self.pop()\n",
    "\t\t\t\tval2 = self.pop()\n",
    "\t\t\t\tif i == '/':\n",
    "\t\t\t\t\tself.push(val2 / val1)\n",
    "\t\t\t\telse:\n",
    "\t\t\t\t\tswitcher = {'+': val2 + val1, '-': val2 -\n",
    "\t\t\t\t\t\t\t\tval1, '*': val2 * val1, '^': val2**val1}\n",
    "\t\t\t\t\tself.push(switcher.get(i))\n",
    "\t\treturn int(self.pop())\n",
    "\n",
    "\n",
    "\n",
    "if __name__ == '__main__':\n",
    "\tstr = \"231*+9-\"\n",
    "\tstrconv = str.split(' ')\n",
    "\tobj = evalpostfix()\n",
    "\tprint(obj.centralfunc(strconv))\n",
    "\n"
   ]
  },
  {
   "attachments": {},
   "cell_type": "markdown",
   "metadata": {},
   "source": [
    "Q.7) Design a stack that supports push, pop, top, and retrieving the minimum element in constant time.\n",
    "\n",
    "Implement the `MinStack` class:\n",
    "\n",
    "- `MinStack()` initializes the stack object.\n",
    "- `void push(int val)` pushes the element `val` onto the stack.\n",
    "- `void pop()` removes the element on the top of the stack.\n",
    "- `int top()` gets the top element of the stack.\n",
    "- `int getMin()` retrieves the minimum element in the stack.\n",
    "\n",
    "You must implement a solution with `O(1)` time complexity for each function."
   ]
  },
  {
   "cell_type": "code",
   "execution_count": 31,
   "metadata": {},
   "outputs": [
    {
     "ename": "IndexError",
     "evalue": "list index out of range",
     "output_type": "error",
     "traceback": [
      "\u001b[1;31m---------------------------------------------------------------------------\u001b[0m",
      "\u001b[1;31mIndexError\u001b[0m                                Traceback (most recent call last)",
      "Cell \u001b[1;32mIn[31], line 37\u001b[0m\n\u001b[0;32m     35\u001b[0m obj\u001b[39m.\u001b[39mpush(val)\n\u001b[0;32m     36\u001b[0m obj\u001b[39m.\u001b[39mpop()\n\u001b[1;32m---> 37\u001b[0m param_3 \u001b[39m=\u001b[39m obj\u001b[39m.\u001b[39;49mtop()\n\u001b[0;32m     38\u001b[0m param_4 \u001b[39m=\u001b[39m obj\u001b[39m.\u001b[39mgetMin()\n",
      "Cell \u001b[1;32mIn[31], line 25\u001b[0m, in \u001b[0;36mMinStack.top\u001b[1;34m(self)\u001b[0m\n\u001b[0;32m     24\u001b[0m \u001b[39mdef\u001b[39;00m \u001b[39mtop\u001b[39m(\u001b[39mself\u001b[39m) \u001b[39m-\u001b[39m\u001b[39m>\u001b[39m \u001b[39mint\u001b[39m:\n\u001b[1;32m---> 25\u001b[0m     \u001b[39mreturn\u001b[39;00m \u001b[39mself\u001b[39;49m\u001b[39m.\u001b[39;49mstack[\u001b[39m-\u001b[39;49m\u001b[39m1\u001b[39;49m]\n",
      "\u001b[1;31mIndexError\u001b[0m: list index out of range"
     ]
    }
   ],
   "source": [
    "class MinStack:\n",
    "\n",
    "    def __init__(self):\n",
    "        self.stack = []\n",
    "        self.minstack = []\n",
    "\n",
    "    def push(self, val: int) -> None:\n",
    "        if not self.stack:\n",
    "            self.stack.append(val)\n",
    "            self.minstack.append(val)\n",
    "        else:\n",
    "            if val < self.minstack[-1]:\n",
    "                self.minstack.append(val)\n",
    "                self.stack.append(val)\n",
    "            else:\n",
    "                self.stack.append(val)\n",
    "                self.minstack.append(self.minstack[-1])\n",
    "\n",
    "\n",
    "    def pop(self) -> None:\n",
    "        self.stack.pop()\n",
    "        self.minstack.pop()\n",
    "\n",
    "    def top(self) -> int:\n",
    "        return self.stack[-1]\n",
    "\n",
    "    def getMin(self) -> int:\n",
    "        return self.minstack[-1]\n",
    "\n",
    "\n",
    "# Your MinStack object will be instantiated and called as such:\n",
    "val = [\"MinStack\",\"push\",\"push\",\"push\",\"getMin\",\"pop\",\"top\",\"getMin\"]\n",
    "[[],[-2],[0],[-3],[],[],[],[]]\n",
    "obj = MinStack()\n",
    "obj.push(val)\n",
    "obj.pop()\n",
    "param_3 = obj.top()\n",
    "param_4 = obj.getMin()"
   ]
  },
  {
   "attachments": {},
   "cell_type": "markdown",
   "metadata": {},
   "source": [
    "Q.8) Given n non-negative integers representing an elevation map where the width of each bar is 1, compute how much water it can trap after raining."
   ]
  },
  {
   "cell_type": "code",
   "execution_count": 33,
   "metadata": {},
   "outputs": [
    {
     "name": "stdout",
     "output_type": "stream",
     "text": [
      "6\n"
     ]
    }
   ],
   "source": [
    "def maxWater(arr, n):\n",
    "\tres = 0\n",
    "\tfor i in range(1, n - 1):\n",
    "\n",
    "\t\tleft = arr[i]\n",
    "\t\tfor j in range(i):\n",
    "\t\t\tleft = max(left, arr[j])\n",
    "\t\tright = arr[i]\n",
    "\n",
    "\t\tfor j in range(i + 1, n):\n",
    "\t\t\tright = max(right, arr[j])\n",
    "\t\tres = res + (min(left, right) - arr[i])\n",
    "\n",
    "\treturn res\n",
    "\n",
    "if __name__ == \"__main__\":\n",
    "\n",
    "\tarr = [0,1,0,2,1,0,1,3,2,1,2,1]\n",
    "\tn = len(arr)\n",
    "\n",
    "\tprint(maxWater(arr, n))"
   ]
  },
  {
   "cell_type": "code",
   "execution_count": null,
   "metadata": {},
   "outputs": [],
   "source": [
    "class Node :\n",
    "     data = 0\n",
    "     next = None \n",
    "\n",
    "def solve(start):\n",
    "\n",
    "    if start is None:\n",
    "        return\n",
    "\n",
    "    print(start.data, end = \" \" )\n",
    "\n",
    "    if start.next is not None:\n",
    "        solve(start.next.next)\n",
    "\n",
    "    print(start.data, end=\" \")\n",
    "    "
   ]
  }
 ],
 "metadata": {
  "kernelspec": {
   "display_name": "Python 3",
   "language": "python",
   "name": "python3"
  },
  "language_info": {
   "codemirror_mode": {
    "name": "ipython",
    "version": 3
   },
   "file_extension": ".py",
   "mimetype": "text/x-python",
   "name": "python",
   "nbconvert_exporter": "python",
   "pygments_lexer": "ipython3",
   "version": "3.11.3"
  },
  "orig_nbformat": 4
 },
 "nbformat": 4,
 "nbformat_minor": 2
}
