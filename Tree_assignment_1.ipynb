{
 "cells": [
  {
   "attachments": {},
   "cell_type": "markdown",
   "metadata": {},
   "source": [
    "Q.1)Given a binary tree, your task is to find subtree with maximum sum in tree."
   ]
  },
  {
   "cell_type": "code",
   "execution_count": 1,
   "metadata": {},
   "outputs": [
    {
     "name": "stdout",
     "output_type": "stream",
     "text": [
      "7\n"
     ]
    }
   ],
   "source": [
    "class newNode:\n",
    "\tdef __init__(self, key):\n",
    "\t\tself.key = key\n",
    "\t\tself.left = self.right = None\n",
    "\n",
    "def findLargestSubtreeSumUtil(root, ans):\n",
    "\t\n",
    "\tif (root == None):\n",
    "\t\treturn 0\n",
    "\tcurrSum = (root.key +\n",
    "\t\t\tfindLargestSubtreeSumUtil(root.left, ans) +\n",
    "\t\t\tfindLargestSubtreeSumUtil(root.right, ans))\n",
    "\n",
    "\tans[0] = max(ans[0], currSum)\n",
    "\n",
    "\treturn currSum\n",
    "def findLargestSubtreeSum(root):\n",
    "\tif (root == None):\t\n",
    "\t\treturn 0\n",
    "\t\n",
    "\tans = [-999999999999]\n",
    "\n",
    "\tfindLargestSubtreeSumUtil(root, ans)\n",
    "\n",
    "\treturn ans[0]\n",
    "\n",
    "if __name__ == '__main__':\n",
    "\troot = newNode(1)\n",
    "\troot.left = newNode(-2)\n",
    "\troot.right = newNode(3)\n",
    "\troot.left.left = newNode(4)\n",
    "\troot.left.right = newNode(5)\n",
    "\troot.right.left = newNode(-6)\n",
    "\troot.right.right = newNode(2)\n",
    "\n",
    "\tprint(findLargestSubtreeSum(root))\n",
    "\n"
   ]
  },
  {
   "attachments": {},
   "cell_type": "markdown",
   "metadata": {},
   "source": [
    "Q.2) Construct the BST (Binary Search Tree) from its given level order traversal."
   ]
  },
  {
   "cell_type": "code",
   "execution_count": 2,
   "metadata": {},
   "outputs": [
    {
     "name": "stdout",
     "output_type": "stream",
     "text": [
      "1 3 4 5 6 7 8 10 12 "
     ]
    }
   ],
   "source": [
    "class Node:\n",
    "\tdef __init__(self, data):\n",
    "\t\tself.data = data\n",
    "\t\tself.left = None\n",
    "\t\tself.right = None\n",
    "\n",
    "\n",
    "def getNode(data):\n",
    "\n",
    "\tnewNode = Node(data)\n",
    "\n",
    "\n",
    "\tnewNode.data = data\n",
    "\tnewNode.left = None\n",
    "\tnewNode.right = None\n",
    "\treturn newNode\n",
    "\n",
    "def LevelOrder(root, data):\n",
    "\tif(root == None):\n",
    "\t\troot = getNode(data)\n",
    "\t\treturn root\n",
    "\n",
    "\tif(data <= root.data):\n",
    "\t\troot.left = LevelOrder(root.left, data)\n",
    "\telse:\n",
    "\t\troot.right = LevelOrder(root.right, data)\n",
    "\treturn root\n",
    "\n",
    "\n",
    "def constructBst(arr, n):\n",
    "\tif(n == 0):\n",
    "\t\treturn None\n",
    "\troot = None\n",
    "\n",
    "\tfor i in range(0, n):\n",
    "\t\troot = LevelOrder(root, arr[i])\n",
    "\n",
    "\treturn root\n",
    "\n",
    "def inorderTraversal(root):\n",
    "\tif (root == None):\n",
    "\t\treturn None\n",
    "\n",
    "\tinorderTraversal(root.left)\n",
    "\tprint(root.data, end=\" \")\n",
    "\tinorderTraversal(root.right)\n",
    "\n",
    "\n",
    "if __name__ == '__main__':\n",
    "\n",
    "\tarr = [7, 4, 12, 3, 6, 8, 1, 5, 10]\n",
    "\tn = len(arr)\n",
    "\n",
    "\troot = constructBst(arr, n)\n",
    "\troot = inorderTraversal(root)\n",
    "\n"
   ]
  },
  {
   "attachments": {},
   "cell_type": "markdown",
   "metadata": {},
   "source": [
    "Q.3) Given an array of size n. The problem is to check whether the given array can represent the level order traversal of a Binary Search Tree or not."
   ]
  },
  {
   "cell_type": "code",
   "execution_count": 3,
   "metadata": {},
   "outputs": [
    {
     "name": "stdout",
     "output_type": "stream",
     "text": [
      "Yes\n"
     ]
    }
   ],
   "source": [
    "INT_MIN, INT_MAX = float('-inf'), float('inf')\n",
    "class NodeDetails:\n",
    "\n",
    "\tdef __init__(self, data, min, max):\n",
    "\t\tself.data = data\n",
    "\t\tself.min = min\n",
    "\t\tself.max = max\n",
    "\n",
    "def levelOrderIsOfBST(arr, n):\n",
    "\tif n == 0:\n",
    "\t\treturn True\n",
    "\tq = []\n",
    "\ti = 0\n",
    "\tnewNode = NodeDetails(arr[i], INT_MIN, INT_MAX)\n",
    "\ti += 1\n",
    "\tq.append(newNode)\n",
    "\n",
    "\twhile i != n and len(q) != 0:\t\n",
    "\t\ttemp = q.pop(0)\n",
    "\t\tif i < n and (arr[i] < temp.data and\n",
    "\t\t\t\t\tarr[i] > temp.min):\n",
    "\t\t\tnewNode = NodeDetails(arr[i], temp.min, temp.data)\n",
    "\t\t\ti += 1\n",
    "\t\t\tq.append(newNode)\t\t\t\n",
    "\t\n",
    "\t\tif i < n and (arr[i] > temp.data and\n",
    "\t\t\t\t\tarr[i] < temp.max):\n",
    "\t\t\tnewNode = NodeDetails(arr[i], temp.data, temp.max)\n",
    "\t\t\ti += 1\n",
    "\t\t\tq.append(newNode)\t\t\n",
    "\t\t\t\n",
    "\tif i == n:\n",
    "\t\treturn True\n",
    "\treturn False\t\n",
    "\n",
    "if __name__ == \"__main__\":\n",
    "\n",
    "\tarr = [7, 4, 12, 3, 6, 8, 1, 5, 10]\n",
    "\tn = len(arr)\t\n",
    "\tif levelOrderIsOfBST(arr, n):\n",
    "\t\tprint(\"Yes\")\n",
    "\telse:\n",
    "\t\tprint(\"No\")\n"
   ]
  }
 ],
 "metadata": {
  "kernelspec": {
   "display_name": "Python 3",
   "language": "python",
   "name": "python3"
  },
  "language_info": {
   "codemirror_mode": {
    "name": "ipython",
    "version": 3
   },
   "file_extension": ".py",
   "mimetype": "text/x-python",
   "name": "python",
   "nbconvert_exporter": "python",
   "pygments_lexer": "ipython3",
   "version": "3.11.3"
  },
  "orig_nbformat": 4
 },
 "nbformat": 4,
 "nbformat_minor": 2
}
