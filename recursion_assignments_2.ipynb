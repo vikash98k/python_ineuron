{
 "cells": [
  {
   "attachments": {},
   "cell_type": "markdown",
   "metadata": {},
   "source": [
    "Q.1) Given an integer `n`, return *`true` if it is a power of three. Otherwise, return `false`*.\n",
    "\n",
    "An integer `n` is a power of three, if there exists an integer `x` such that `n == 3x`."
   ]
  },
  {
   "cell_type": "code",
   "execution_count": 7,
   "metadata": {},
   "outputs": [
    {
     "name": "stdout",
     "output_type": "stream",
     "text": [
      "True\n"
     ]
    }
   ],
   "source": [
    "def solution(n):\n",
    "    if (n <=0):\n",
    "        return False\n",
    "    if n==1:\n",
    "        return True\n",
    "    while (n != 1):\n",
    "        if (n % 3 != 0):\n",
    "            return False\n",
    "        n = n // 3\n",
    " \n",
    "    return True\n",
    "\n",
    "n = 3\n",
    "print(solution(n))"
   ]
  },
  {
   "attachments": {},
   "cell_type": "markdown",
   "metadata": {},
   "source": [
    "Q.2) You have a list `arr` of all integers in the range `[1, n]` sorted in a strictly increasing order. Apply the following algorithm on `arr`:\n",
    "\n",
    "- Starting from left to right, remove the first number and every other number afterward until you reach the end of the list.\n",
    "- Repeat the previous step again, but this time from right to left, remove the rightmost number and every other number from the remaining numbers.\n",
    "- Keep repeating the steps again, alternating left to right and right to left, until a single number remains.\n",
    "\n",
    "Given the integer `n`, return *the last number that remains in* `arr`."
   ]
  },
  {
   "cell_type": "code",
   "execution_count": 8,
   "metadata": {},
   "outputs": [
    {
     "name": "stdout",
     "output_type": "stream",
     "text": [
      "6\n"
     ]
    }
   ],
   "source": [
    "def solution(n):\n",
    "    left = True\n",
    "    remain = n\n",
    "    step = 1\n",
    "    track_head =1\n",
    "    while (remain>1):\n",
    "        if left or remain%2 ==1:\n",
    "            track_head+=step\n",
    "        step *=2\n",
    "        remain = remain//2\n",
    "        left = not left\n",
    "    return track_head\n",
    "n=9\n",
    "print(solution(n)) "
   ]
  },
  {
   "attachments": {},
   "cell_type": "markdown",
   "metadata": {},
   "source": [
    "Q.3) Given a set represented as a string, write a recursive code to print all subsets of it. The subsets can be printed in any order."
   ]
  },
  {
   "cell_type": "code",
   "execution_count": 10,
   "metadata": {},
   "outputs": [
    {
     "name": "stdout",
     "output_type": "stream",
     "text": [
      "abc ab ac a bc b c  "
     ]
    }
   ],
   "source": [
    "def powerSet(string, index, curr):\n",
    "\tif index == len(string):\n",
    "\t\n",
    "\t\treturn\n",
    "\n",
    "\tpowerSet(string, index + 1,\n",
    "\t\t\tcurr + string[index])\n",
    "\tpowerSet(string, index + 1, curr)\n",
    "\n",
    "string = \"abc\"\n",
    "index = 0\n",
    "curr = \"\"\n",
    "powerSet(string, index, curr)\n"
   ]
  },
  {
   "attachments": {},
   "cell_type": "markdown",
   "metadata": {},
   "source": [
    "Q.4) Given a string calculate length of the string using recursion."
   ]
  },
  {
   "cell_type": "code",
   "execution_count": 13,
   "metadata": {},
   "outputs": [
    {
     "name": "stdout",
     "output_type": "stream",
     "text": [
      "13\n"
     ]
    }
   ],
   "source": [
    "def solution(string):\n",
    "    if string == \"\":\n",
    "        return 0\n",
    "    else:\n",
    "        return 1+ solution(string[1:])\n",
    "\n",
    "string = \"GEEKSFORGEEKS\"\n",
    "print(solution(string))"
   ]
  },
  {
   "attachments": {},
   "cell_type": "markdown",
   "metadata": {},
   "source": [
    "Q.5) We are given a string S, we need to find count of all contiguous substrings starting and ending with same character."
   ]
  },
  {
   "cell_type": "code",
   "execution_count": 17,
   "metadata": {},
   "outputs": [
    {
     "name": "stdout",
     "output_type": "stream",
     "text": [
      "7\n"
     ]
    }
   ],
   "source": [
    "def solution(string):\n",
    "    result = 0\n",
    "    n = len(string)\n",
    "    for i in range(n):\n",
    "        for j in range(i, n):\n",
    "            if (string[i] == string[j]):\n",
    "                result = result + 1\n",
    " \n",
    "    return result\n",
    "string = \"abcab\"\n",
    "print(solution(string))"
   ]
  },
  {
   "attachments": {},
   "cell_type": "markdown",
   "metadata": {},
   "source": [
    "Q.6) The tower of Hanoi is a famous puzzle where we have three rods and N disks. The objective of the puzzle is to move the entire stack to another rod. You are given the number of discs N. Initially, these discs are in the rod 1. You need to print all the steps of discs movement so that all the discs reach the 3rd rod. Also, you need to find the total moves.Note: The discs are arranged such that the top disc is numbered 1 and the bottom-most disc is numbered N. Also, all the discs have different sizes and a bigger disc cannot be put on the top of a smaller disc. Refer the provided link to get a better clarity about the puzzle."
   ]
  },
  {
   "cell_type": "code",
   "execution_count": 22,
   "metadata": {},
   "outputs": [
    {
     "name": "stdout",
     "output_type": "stream",
     "text": [
      "move disk 1 from rod 1 to rod 2\n",
      "move disk 2 from rod 1 to rod 3\n",
      "move disk 1 from rod 2 to rod 3\n",
      "3\n"
     ]
    }
   ],
   "source": [
    "def solution(N, fromm, to, aux):\n",
    "        if(N == 1):\n",
    "            print(\"move disk \" + str(N) + \" from rod \" + str(fromm) + \" to rod \" + str(to))\n",
    "            return 1\n",
    "\n",
    "        moves = 0\n",
    "        moves += solution(N - 1, fromm, aux, to)\n",
    "        moves += 1\n",
    "        print(\"move disk \" + str(N) + \" from rod \" + str(fromm) + \" to rod \" + str(to))\n",
    "        moves += solution(N - 1, aux, to, fromm)\n",
    "        return moves\n",
    "N=2\n",
    "fromm,to,aux = 1,3,2\n",
    "print(solution(N, fromm, to, aux))"
   ]
  },
  {
   "attachments": {},
   "cell_type": "markdown",
   "metadata": {},
   "source": [
    "Q.7) Given a string str, the task is to print all the permutations of str. A permutation is an arrangement of all or part of a set of objects, with regard to the order of the arrangement. For instance, the words ‘bat’ and ‘tab’ represents two distinct permutation (or arrangements) of a similar three letter word."
   ]
  },
  {
   "cell_type": "code",
   "execution_count": 27,
   "metadata": {},
   "outputs": [
    {
     "name": "stdout",
     "output_type": "stream",
     "text": [
      "abb abb bab bba bba bab "
     ]
    }
   ],
   "source": [
    "def solution(string,start,end):  \n",
    "    current = 0 \n",
    "    if(start == end-1):  \n",
    "        print(string,end=\" \") \n",
    "    else:   \n",
    "        for current in range(start,end):   \n",
    "            x = list(string)\n",
    "            temp = x[start]  \n",
    "            x[start] = x[current]  \n",
    "            x[current] = temp  \n",
    "            solution(\"\".join(x),start+1,end)   \n",
    "            temp = x[start]\n",
    "            x[start] = x[current]  \n",
    "            x[current] = temp  \n",
    "  \n",
    "str = \"abb\"  \n",
    "n = len(str)\n",
    "solution(str,0,n)\n"
   ]
  },
  {
   "attachments": {},
   "cell_type": "markdown",
   "metadata": {},
   "source": [
    "Q.8)\n",
    "Given a string, count total number of consonants in it. A consonant is an English alphabet character that is not vowel (a, e, i, o and u). Examples of constants are b, c, d, f, and g.\n"
   ]
  },
  {
   "cell_type": "code",
   "execution_count": 18,
   "metadata": {},
   "outputs": [
    {
     "name": "stdout",
     "output_type": "stream",
     "text": [
      "3\n"
     ]
    }
   ],
   "source": [
    "def isConsonant(ch):\n",
    "\tch = ch.upper()\n",
    "\n",
    "\treturn not (ch == 'A' or ch == 'E' or\n",
    "\t\t\t\tch == 'I' or ch == 'O' or\n",
    "\t\t\t\tch == 'U') and ord(ch) >= 65 and ord(ch) <= 90\n",
    "\n",
    "def totalConsonants(string, n):\n",
    "\t\n",
    "\tif n == 1:\n",
    "\t\treturn isConsonant(string[0])\n",
    "\n",
    "\treturn totalConsonants(string, n - 1) + isConsonant(string[n-1])\n",
    "\n",
    "string = \"abc de\"\n",
    "print(totalConsonants(string, len(string)))\n"
   ]
  }
 ],
 "metadata": {
  "kernelspec": {
   "display_name": "Python 3",
   "language": "python",
   "name": "python3"
  },
  "language_info": {
   "codemirror_mode": {
    "name": "ipython",
    "version": 3
   },
   "file_extension": ".py",
   "mimetype": "text/x-python",
   "name": "python",
   "nbconvert_exporter": "python",
   "pygments_lexer": "ipython3",
   "version": "3.11.3"
  },
  "orig_nbformat": 4
 },
 "nbformat": 4,
 "nbformat_minor": 2
}
