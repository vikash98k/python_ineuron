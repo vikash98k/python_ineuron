{
 "cells": [
  {
   "attachments": {},
   "cell_type": "markdown",
   "metadata": {},
   "source": [
    "Q)Implement a stack using a list in Python. Include the necessary methods such as push, pop, and isEmpty."
   ]
  },
  {
   "cell_type": "code",
   "execution_count": 1,
   "metadata": {},
   "outputs": [
    {
     "name": "stdout",
     "output_type": "stream",
     "text": [
      "Stack: 109876543\n",
      "Pop: 10\n",
      "Pop: 9\n",
      "Pop: 8\n",
      "Pop: 7\n",
      "Pop: 6\n",
      "Stack: 543\n"
     ]
    }
   ],
   "source": [
    "\n",
    "class Node:\n",
    "\tdef __init__(self, value):\n",
    "\t\tself.value = value\n",
    "\t\tself.next = None\n",
    "\n",
    "\n",
    "class Stack:\n",
    "\n",
    "\tdef __init__(self):\n",
    "\t\tself.head = Node(\"head\")\n",
    "\t\tself.size = 0\n",
    "\n",
    "\n",
    "\tdef __str__(self):\n",
    "\t\tcur = self.head.next\n",
    "\t\tout = \"\"\n",
    "\t\twhile cur:\n",
    "\t\t\tout += str(cur.value)\n",
    "\t\t\tcur = cur.next\n",
    "\t\treturn out[:-2]\n",
    "\n",
    "\n",
    "\tdef getSize(self):\n",
    "\t\treturn self.size\n",
    "\n",
    "\n",
    "\tdef isEmpty(self):\n",
    "\t\treturn self.size == 0\n",
    "\n",
    "\n",
    "\tdef peek(self):\n",
    "\n",
    "\t\tif self.isEmpty():\n",
    "\t\t\tpass\n",
    "\t\treturn self.head.next.value\n",
    "\n",
    "\n",
    "\tdef push(self, value):\n",
    "\t\tnode = Node(value)\n",
    "\t\tnode.next = self.head.next\n",
    "\t\tself.head.next = node\n",
    "\t\tself.size += 1\n",
    "\n",
    "\n",
    "\tdef pop(self):\n",
    "\t\tif self.isEmpty():\n",
    "\t\t\tpass\n",
    "\t\tremove = self.head.next\n",
    "\t\tself.head.next = self.head.next.next\n",
    "\t\tself.size -= 1\n",
    "\t\treturn remove.value\n",
    "\n",
    "\n",
    "# Driver Code\n",
    "if __name__ == \"__main__\":\n",
    "\tstack = Stack()\n",
    "\tfor i in range(1, 10):\n",
    "\t\tstack.push(i)\n",
    "\tprint(f\"Stack: {stack}\")\n",
    "\n",
    "\tfor _ in range(1, 6):\n",
    "\t\tremove = stack.pop()\n",
    "\t\tprint(f\"Pop: {remove}\")\n",
    "\tprint(f\"Stack: {stack}\")\n"
   ]
  }
 ],
 "metadata": {
  "kernelspec": {
   "display_name": "Python 3",
   "language": "python",
   "name": "python3"
  },
  "language_info": {
   "codemirror_mode": {
    "name": "ipython",
    "version": 3
   },
   "file_extension": ".py",
   "mimetype": "text/x-python",
   "name": "python",
   "nbconvert_exporter": "python",
   "pygments_lexer": "ipython3",
   "version": "3.11.3"
  },
  "orig_nbformat": 4
 },
 "nbformat": 4,
 "nbformat_minor": 2
}
