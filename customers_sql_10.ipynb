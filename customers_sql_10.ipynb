{
 "cells": [
  {
   "cell_type": "code",
   "execution_count": 6,
   "metadata": {},
   "outputs": [],
   "source": [
    "import pymysql\n",
    "\n",
    "# Establish a connection to the database\n",
    "connection = pymysql.connect(\n",
    "    host='localhost',\n",
    "    user='root',\n",
    "    password='admin@123',\n",
    "    database='mysql'\n",
    ")\n",
    "cursor = connection.cursor()\n",
    "# sql_command = \"\"\"CREATE TABLE customers_data (\n",
    "#     customer_id INT PRIMARY KEY,\n",
    "#     customer_name VARCHAR(100)\n",
    "# )\n",
    "# \"\"\"\n",
    "# cursor.execute(sql_command)\n",
    "# connection.commit()\n",
    "# connection.close()\n",
    "sql_command = \"INSERT INTO customers_data (customer_id, customer_name) VALUES(%s,%s)\"\n",
    "data = [\n",
    "    (1, 'John'),\n",
    "    (2, 'Jane'),\n",
    "    (3, 'Michael'),\n",
    "    (4, 'Emily'),\n",
    "    (5, 'David')\n",
    "]\n",
    "cursor = connection.cursor()\n",
    "\n",
    "for row in data:\n",
    "    cursor.execute(sql_command, row)\n",
    "\n",
    "connection.commit()\n",
    "\n",
    "cursor.close()\n",
    "connection.close()"
   ]
  },
  {
   "cell_type": "code",
   "execution_count": 9,
   "metadata": {},
   "outputs": [],
   "source": [
    "import pymysql\n",
    "\n",
    "# Establish a connection to the database\n",
    "connection = pymysql.connect(\n",
    "    host='localhost',\n",
    "    user='root',\n",
    "    password='admin@123',\n",
    "    database='mysql'\n",
    ")\n",
    "cursor = connection.cursor()\n",
    "# sql_command = \"\"\"CREATE TABLE purchases (\n",
    "#     purchase_id INT PRIMARY KEY,\n",
    "#     customer_id INT,\n",
    "#     amount DECIMAL(10, 2)\n",
    "# )\n",
    "# \"\"\"\n",
    "# cursor.execute(sql_command)\n",
    "# connection.commit()\n",
    "# connection.close()\n",
    "sql_command = \"INSERT INTO purchases (purchase_id, customer_id,amount) VALUES(%s,%s,%s)\"\n",
    "data = [\n",
    "    (101,1,200.50),\n",
    "    (201,3,400.50),\n",
    "    (301,2,700.50),\n",
    "    (401,4,900.50),\n",
    "    (501,5,1000.00)\n",
    "]\n",
    "cursor = connection.cursor()\n",
    "\n",
    "for row in data:\n",
    "    cursor.execute(sql_command, row)\n",
    "\n",
    "connection.commit()\n",
    "\n",
    "cursor.close()\n",
    "connection.close()\n"
   ]
  },
  {
   "cell_type": "code",
   "execution_count": 10,
   "metadata": {},
   "outputs": [
    {
     "name": "stdout",
     "output_type": "stream",
     "text": [
      "(5, Decimal('1000.00'))\n",
      "(4, Decimal('900.50'))\n",
      "(2, Decimal('700.50'))\n",
      "(3, Decimal('400.50'))\n",
      "(1, Decimal('200.50'))\n"
     ]
    }
   ],
   "source": [
    "import pymysql\n",
    "\n",
    "# Establish a connection to the database\n",
    "connection = pymysql.connect(\n",
    "    host='localhost',\n",
    "    user='root',\n",
    "    password='admin@123',\n",
    "    database='mysql'\n",
    ")\n",
    "cursor = connection.cursor()\n",
    "sql_command = \"\"\"\n",
    "        SELECT customer_id, SUM(amount) AS total_amount\n",
    "        FROM purchases\n",
    "        GROUP BY customer_id\n",
    "        ORDER BY total_amount DESC\n",
    "        LIMIT 5\n",
    "\"\"\"\n",
    "cursor = connection.cursor()\n",
    "cursor.execute(sql_command)\n",
    "results = cursor.fetchall()\n",
    "for row in results:\n",
    "    print(row)\n",
    "\n"
   ]
  }
 ],
 "metadata": {
  "kernelspec": {
   "display_name": "Python 3",
   "language": "python",
   "name": "python3"
  },
  "language_info": {
   "codemirror_mode": {
    "name": "ipython",
    "version": 3
   },
   "file_extension": ".py",
   "mimetype": "text/x-python",
   "name": "python",
   "nbconvert_exporter": "python",
   "pygments_lexer": "ipython3",
   "version": "3.11.3"
  },
  "orig_nbformat": 4
 },
 "nbformat": 4,
 "nbformat_minor": 2
}
