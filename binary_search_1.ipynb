{
 "cells": [
  {
   "attachments": {},
   "cell_type": "markdown",
   "metadata": {},
   "source": [
    "Q.1) Given a non-negative integer `x`, return *the square root of* `x` *rounded down to the nearest integer*. The returned integer should be **non-negative** as well.\n",
    "\n",
    "You **must not use** any built-in exponent function or operator."
   ]
  },
  {
   "cell_type": "code",
   "execution_count": 15,
   "metadata": {},
   "outputs": [
    {
     "name": "stdout",
     "output_type": "stream",
     "text": [
      "2\n"
     ]
    }
   ],
   "source": [
    "def solution(n):\n",
    "    if n==0 or n==1:\n",
    "        return n\n",
    "    i=1\n",
    "    res=1\n",
    "    while(res<=n):\n",
    "        i+=1\n",
    "        res = i*i\n",
    "    return i-1        \n",
    "\n",
    "n = 4\n",
    "print(solution(n))"
   ]
  },
  {
   "attachments": {},
   "cell_type": "markdown",
   "metadata": {},
   "source": [
    "Q.2) A peak element is an element that is strictly greater than its neighbors.\n",
    "\n",
    "Given a **0-indexed** integer array `nums`, find a peak element, and return its index. If the array contains multiple peaks, return the index to **any of the peaks**.\n",
    "\n",
    "You may imagine that `nums[-1] = nums[n] = -∞`. In other words, an element is always considered to be strictly greater than a neighbor that is outside the array."
   ]
  },
  {
   "cell_type": "code",
   "execution_count": 17,
   "metadata": {},
   "outputs": [
    {
     "name": "stdout",
     "output_type": "stream",
     "text": [
      "2\n"
     ]
    }
   ],
   "source": [
    "def solution(nums):\n",
    "    n = len(nums)\n",
    "    l, r = 0, n - 1\n",
    "    while l < r:\n",
    "        mid = (l + r) >> 1\n",
    "        if nums[mid] < nums[mid + 1]:\n",
    "            l =  mid + 1\n",
    "        else:\n",
    "            r = mid \n",
    "    return l\n",
    "nums = [1,2,3,1]\n",
    "print(solution(nums))"
   ]
  },
  {
   "attachments": {},
   "cell_type": "markdown",
   "metadata": {},
   "source": [
    "Q.3) Given an array nums containing n distinct numbers in the range [0, n], return the only number in the range that is missing from the array."
   ]
  },
  {
   "cell_type": "code",
   "execution_count": 23,
   "metadata": {},
   "outputs": [
    {
     "name": "stdout",
     "output_type": "stream",
     "text": [
      "8\n"
     ]
    }
   ],
   "source": [
    "nums = [9,6,4,2,3,5,7,0,1]\n",
    "n = len(nums)\n",
    "for i in range(0,n+1):\n",
    "    if i in nums:\n",
    "        continue\n",
    "    else:\n",
    "        print(i)\n",
    "        break\n",
    "    "
   ]
  },
  {
   "attachments": {},
   "cell_type": "markdown",
   "metadata": {},
   "source": [
    "Q.4) Given an array of integers `nums` containing `n + 1` integers where each integer is in the range `[1, n]` inclusive.\n",
    "\n",
    "There is only **one repeated number** in `nums`, return *this repeated number*.\n",
    "\n",
    "You must solve the problem **without** modifying the array `nums` and uses only constant extra space."
   ]
  },
  {
   "cell_type": "code",
   "execution_count": 7,
   "metadata": {},
   "outputs": [
    {
     "name": "stdout",
     "output_type": "stream",
     "text": [
      "3\n"
     ]
    }
   ],
   "source": [
    "from collections import Counter\n",
    "nums = [1,3,4,3,2]\n",
    "count = Counter(nums)\n",
    "res = count.most_common()[0][0]\n",
    "print(res)"
   ]
  },
  {
   "attachments": {},
   "cell_type": "markdown",
   "metadata": {},
   "source": [
    "Q.5) Given two integer arrays nums1 and nums2, return an array of their intersection. Each element in the result must be unique and you may return the result in any order."
   ]
  },
  {
   "cell_type": "code",
   "execution_count": 54,
   "metadata": {},
   "outputs": [
    {
     "name": "stdout",
     "output_type": "stream",
     "text": [
      "[2]\n"
     ]
    }
   ],
   "source": [
    "def solution(nums1,nums2):\n",
    "    return list(set(nums1) & set(nums2))\n",
    "\n",
    "nums1 = [1,2,2,1]\n",
    "nums2 = [2,2]\n",
    "print(solution(nums1,nums2))"
   ]
  },
  {
   "attachments": {},
   "cell_type": "markdown",
   "metadata": {},
   "source": [
    "Q.6) Suppose an array of length `n` sorted in ascending order is **rotated** between `1` and `n` times. For example, the array `nums = [0,1,2,4,5,6,7]` might become:\n",
    "\n",
    "- `[4,5,6,7,0,1,2]` if it was rotated `4` times.\n",
    "- `[0,1,2,4,5,6,7]` if it was rotated `7` times.\n",
    "\n",
    "Notice that **rotating** an array `[a[0], a[1], a[2], ..., a[n-1]]` 1 time results in the array `[a[n-1], a[0], a[1], a[2], ..., a[n-2]]`.\n",
    "\n",
    "Given the sorted rotated array `nums` of **unique** elements, return *the minimum element of this array*.\n",
    "\n",
    "You must write an algorithm that runs in `O(log n) time.`"
   ]
  },
  {
   "cell_type": "code",
   "execution_count": 46,
   "metadata": {},
   "outputs": [
    {
     "name": "stdout",
     "output_type": "stream",
     "text": [
      "1\n"
     ]
    }
   ],
   "source": [
    "def solution(nums,l,h):\n",
    "    if h<l:\n",
    "        return nums[0]\n",
    "    if h ==l:\n",
    "        return nums[l]\n",
    "    mid = (l+h)//2\n",
    "\n",
    "    if mid<h and nums[mid+1]<nums[mid]:\n",
    "        return nums[mid+1]\n",
    "    if mid>l and nums[mid-1]>nums[mid]:\n",
    "        return nums[mid]\n",
    "    if nums[h]>nums[mid]:\n",
    "        return solution(nums,l,mid-1)\n",
    "    return solution(nums,mid+1,h)\n",
    "nums = [3,4,5,1,2]\n",
    "l = 0\n",
    "h = len(nums)-1\n",
    "print(solution(nums,l,h))"
   ]
  },
  {
   "attachments": {},
   "cell_type": "markdown",
   "metadata": {},
   "source": [
    "Q.7) Given an array of integers `nums` sorted in non-decreasing order, find the starting and ending position of a given `target` value.\n",
    "\n",
    "If `target` is not found in the array, return `[-1, -1]`.\n",
    "\n",
    "You must write an algorithm with `O(log n)` runtime complexity"
   ]
  },
  {
   "cell_type": "code",
   "execution_count": 56,
   "metadata": {},
   "outputs": [
    {
     "name": "stdout",
     "output_type": "stream",
     "text": [
      "[3, 4]\n"
     ]
    }
   ],
   "source": [
    "def searchRange(nums,target):        \n",
    "\tdef binarySearch (nums, target):\n",
    "\t\tif not nums:\n",
    "\t\t\treturn -1\n",
    "\t\tstart, end = 0, len(nums) - 1\n",
    "\n",
    "\t\twhile start + 1 < end:\n",
    "\t\t\tmid = (start + end) // 2\n",
    "\t\t\tif nums[mid] < target:\n",
    "\t\t\t\tstart = mid\n",
    "\t\t\telse: \n",
    "\t\t\t\tend = mid\n",
    "\t\t\n",
    "\t\tif nums[start] == target:\n",
    "\t\t\treturn start\n",
    "\t\t\n",
    "\t\tif nums[end] == target:\n",
    "\t\t\treturn end\n",
    "\t\treturn -1\n",
    "\t\t\n",
    "\tpos = binarySearch (nums, target)\n",
    "\n",
    "\tif pos != -1:\n",
    "\t\tstart = end = pos\n",
    "\n",
    "\t\twhile end < len(nums) - 1 and nums[end] == target:\n",
    "\t\t\tif nums[end + 1] == target:\n",
    "\t\t\t\tend += 1\n",
    "\t\t\telse:\n",
    "\t\t\t\tbreak\n",
    "\t\t\t\n",
    "\t\treturn [start, end]\n",
    "\telse:\n",
    "\t\treturn [-1,-1]\n",
    "nums = [5,7,7,8,8,10]\n",
    "target = 8\n",
    "print(searchRange(nums,target))\n"
   ]
  },
  {
   "attachments": {},
   "cell_type": "markdown",
   "metadata": {},
   "source": [
    "Q.8) Given two integer arrays nums1 and nums2, return an array of their intersection. Each element in the result must appear as many times as it shows in both arrays and you may return the result in any order."
   ]
  },
  {
   "cell_type": "code",
   "execution_count": 55,
   "metadata": {},
   "outputs": [
    {
     "name": "stdout",
     "output_type": "stream",
     "text": [
      "[2, 2]\n"
     ]
    }
   ],
   "source": [
    "def solution(nums1,nums2):\n",
    "    count1 = {}\n",
    "    count2 = {}\n",
    "    for num in nums1:\n",
    "        count1[num] = count1.get(num, 0) + 1\n",
    "    for num in nums2:\n",
    "        count2[num] = count2.get(num, 0) + 1\n",
    "    \n",
    "    arr = []\n",
    "    for num in count1:\n",
    "        if num in count2:\n",
    "            count = min(count1[num], count2[num])\n",
    "            arr.extend([num] * count)\n",
    "    \n",
    "    return arr\n",
    "\n",
    "nums1 = [1,2,2,1]\n",
    "nums2 = [2,2]\n",
    "print(solution(nums1,nums2))"
   ]
  }
 ],
 "metadata": {
  "kernelspec": {
   "display_name": "Python 3",
   "language": "python",
   "name": "python3"
  },
  "language_info": {
   "codemirror_mode": {
    "name": "ipython",
    "version": 3
   },
   "file_extension": ".py",
   "mimetype": "text/x-python",
   "name": "python",
   "nbconvert_exporter": "python",
   "pygments_lexer": "ipython3",
   "version": "3.11.3"
  },
  "orig_nbformat": 4
 },
 "nbformat": 4,
 "nbformat_minor": 2
}
