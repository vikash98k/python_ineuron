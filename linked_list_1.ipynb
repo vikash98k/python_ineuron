{
 "cells": [
  {
   "attachments": {},
   "cell_type": "markdown",
   "metadata": {},
   "source": [
    "Q.1)Given a singly linked list, delete middle of the linked list. For example, if given linked list is 1->2->3->4->5 then linked list should be modified to 1->2->4->5.If there are even nodes, then there would be two middle nodes, we need to delete the second middle element. For example, if given linked list is 1->2->3->4->5->6 then it should be modified to 1->2->3->5->6.If the input linked list is NULL or has 1 node, then it should return NULL"
   ]
  },
  {
   "cell_type": "code",
   "execution_count": 7,
   "metadata": {},
   "outputs": [
    {
     "name": "stdout",
     "output_type": "stream",
     "text": [
      "1 2 4 5\n"
     ]
    }
   ],
   "source": [
    "class Node:\n",
    "\t\n",
    "\tdef __init__(self, data):\n",
    "\t\t\n",
    "\t\tself.data = data\n",
    "\t\tself.next = None\n",
    "class LinkedList:\n",
    "\t\n",
    "\tdef __init__(self):\n",
    "\t\tself.head = None\n",
    "\tdef addToList(self, data):\n",
    "\t\t\n",
    "\t\tnewNode = Node(data)\n",
    "\t\tif self.head is None:\n",
    "\t\t\tself.head = newNode\n",
    "\t\t\treturn\n",
    "\t\t\t\n",
    "\t\tlast = self.head\n",
    "\t\t\n",
    "\t\twhile last.next:\n",
    "\t\t\tlast = last.next\n",
    "\t\t\t\n",
    "\t\tlast.next = newNode\n",
    "\tdef __str__(self):\n",
    "\t\t\n",
    "\t\tlinkedListStr = \"\"\n",
    "\t\ttemp = self.head\n",
    "\t\t\n",
    "\t\twhile temp:\n",
    "\t\t\tlinkedListStr += str(temp.data)\n",
    "\t\t\ttemp = temp.next\n",
    "\t\t\t\n",
    "\t\treturn \" \".join(linkedListStr)\n",
    "\tdef deleteMid(self):\n",
    "\t\tif (self.head is None or\n",
    "\t\t\tself.head.next is None):\n",
    "\t\t\treturn\n",
    "\t\tslow_Ptr = self.head\n",
    "\t\tfast_Ptr = self.head\n",
    "\t\tprev = None\n",
    "\t\twhile (fast_Ptr is not None and\n",
    "\t\t\tfast_Ptr.next is not None):\n",
    "\t\t\tfast_Ptr = fast_Ptr.next.next\n",
    "\t\t\tprev = slow_Ptr\n",
    "\t\t\tslow_Ptr = slow_Ptr.next\n",
    "\t\tprev.next = slow_Ptr.next\n",
    "linkedList = LinkedList()\n",
    "\n",
    "linkedList.addToList(1)\n",
    "linkedList.addToList(2)\n",
    "linkedList.addToList(3)\n",
    "linkedList.addToList(4)\n",
    "linkedList.addToList(5)\n",
    "\n",
    "linkedList.deleteMid()\n",
    "print(linkedList)\n",
    "\n"
   ]
  },
  {
   "attachments": {},
   "cell_type": "markdown",
   "metadata": {},
   "source": [
    "Q.2) Given a linked list of N nodes. The task is to check if the linked list has a loop. Linked list can contain self loop."
   ]
  },
  {
   "cell_type": "code",
   "execution_count": 9,
   "metadata": {},
   "outputs": [
    {
     "name": "stdout",
     "output_type": "stream",
     "text": [
      "True\n"
     ]
    }
   ],
   "source": [
    "class Node:\n",
    "\tdef __init__(self, data):\n",
    "\t\tself.data = data\n",
    "\t\tself.next = None\n",
    "\n",
    "class LinkedList:\n",
    "\tdef __init__(self):\n",
    "\t\tself.head = None\n",
    "\n",
    "\tdef push(self, new_data):\n",
    "\t\tnew_node = Node(new_data)\n",
    "\t\tnew_node.next = self.head\n",
    "\t\tself.head = new_node\n",
    "\n",
    "\tdef printList(self):\n",
    "\t\ttemp = self.head\n",
    "\t\twhile(temp):\n",
    "\t\t\tprint(temp.data, end=\" \")\n",
    "\t\t\ttemp = temp.next\n",
    "\n",
    "\tdef detectLoop(self):\n",
    "\t\ts = set()\n",
    "\t\ttemp = self.head\n",
    "\t\twhile (temp):\n",
    "\t\t\tif (temp in s):\n",
    "\t\t\t\treturn True\n",
    "\t\t\ts.add(temp)\n",
    "\t\t\ttemp = temp.next\n",
    "\n",
    "\t\treturn False\n",
    "\n",
    "llist = LinkedList()\n",
    "llist.push(20)\n",
    "llist.push(4)\n",
    "llist.push(15)\n",
    "llist.push(10)\n",
    "\n",
    "llist.head.next.next.next.next = llist.head\n",
    "\n",
    "print(llist.detectLoop())\n"
   ]
  },
  {
   "attachments": {},
   "cell_type": "markdown",
   "metadata": {},
   "source": [
    "Q.3) Given a linked list consisting of L nodes and given a number N. The task is to find the Nth node from the end of the linked list."
   ]
  },
  {
   "cell_type": "code",
   "execution_count": 29,
   "metadata": {},
   "outputs": [
    {
     "name": "stdout",
     "output_type": "stream",
     "text": [
      "-1\n"
     ]
    }
   ],
   "source": [
    "class Node:\n",
    "\tdef __init__(self, new_data):\n",
    "\t\tself.data = new_data\n",
    "\t\tself.next = None\n",
    "\n",
    "class LinkedList:\n",
    "\tdef __init__(self):\n",
    "\t\tself.head = None\n",
    "\n",
    "\tdef push(self, new_data):\n",
    "\t\tnew_node = Node(new_data)\n",
    "\t\tnew_node.next = self.head\n",
    "\t\tself.head = new_node\n",
    "\n",
    "\n",
    "\tdef printNthFromLast(self, n):\n",
    "\t\ttemp = self.head \n",
    "\n",
    "\t\tlength = 0\n",
    "\t\twhile temp is not None:\n",
    "\t\t\ttemp = temp.next\n",
    "\t\t\tlength += 1\n",
    "\n",
    "\n",
    "\t\tif n > length:\n",
    "\t\t\treturn -1\n",
    "\t\ttemp = self.head\n",
    "\t\tfor i in range(0,n-1):\n",
    "\t\t\ttemp = temp.next\n",
    "\t\t\t\n",
    "\t\treturn temp.data\n",
    "if __name__ == \"__main__\":\n",
    "\tllist = LinkedList()\n",
    "\tllist.push(10)\n",
    "\tllist.push(5)\n",
    "\tllist.push(100)\n",
    "\tllist.push(5)\n",
    "\n",
    "\t\n",
    "\tprint(llist.printNthFromLast(5))\n"
   ]
  },
  {
   "attachments": {},
   "cell_type": "markdown",
   "metadata": {},
   "source": [
    "Q.4) Given a singly linked list of characters, write a function that returns true if the given list is a palindrome, else false."
   ]
  },
  {
   "cell_type": "code",
   "execution_count": 56,
   "metadata": {},
   "outputs": [
    {
     "name": "stdout",
     "output_type": "stream",
     "text": [
      "True\n"
     ]
    }
   ],
   "source": [
    "class Node:\n",
    "\tdef __init__(self, data):\n",
    "\n",
    "\t\tself.data = data\n",
    "\t\tself.ptr = None\n",
    "def ispalindrome(head):\n",
    "\tslow = head\n",
    "\tstack = []\n",
    "\n",
    "\tispalin = True\n",
    "\n",
    "\twhile slow != None:\n",
    "\t\tstack.append(slow.data)\n",
    "\t\tslow = slow.ptr\n",
    "\twhile head != None:\n",
    "\t\ti = stack.pop()\n",
    "\t\tif head.data == i:\n",
    "\t\t\tispalin = True\n",
    "\t\telse:\n",
    "\t\t\tispalin = False\n",
    "\t\t\tbreak\n",
    "\t\thead = head.ptr\n",
    "\n",
    "\treturn ispalin\n",
    "\n",
    "one = Node(1)\n",
    "two = Node(2)\n",
    "three = Node(3)\n",
    "four = Node(4)\n",
    "five = Node(3)\n",
    "six = Node(2)\n",
    "seven = Node(1)\n",
    "\n",
    "one.ptr = two\n",
    "two.ptr = three\n",
    "three.ptr = four\n",
    "four.ptr = five\n",
    "five.ptr = six\n",
    "six.ptr = seven\n",
    "seven.ptr = None\n",
    "\n",
    "result = ispalindrome(one)\n",
    "print(result)"
   ]
  },
  {
   "attachments": {},
   "cell_type": "markdown",
   "metadata": {},
   "source": [
    "Q.5) Given a linked list of **N** nodes such that it may contain a loop.\n",
    "\n",
    "A loop here means that the last node of the link list is connected to the node at position X(1-based index). If the link list does not have any loop, X=0.\n",
    "\n",
    "Remove the loop from the linked list, if it is present, i.e. unlink the last node which is forming the loop."
   ]
  },
  {
   "cell_type": "code",
   "execution_count": 40,
   "metadata": {},
   "outputs": [
    {
     "data": {
      "text/plain": [
       "0"
      ]
     },
     "execution_count": 40,
     "metadata": {},
     "output_type": "execute_result"
    }
   ],
   "source": [
    "class Node:\n",
    "\tdef __init__(self, data):\n",
    "\t\tself.data = data\n",
    "\t\tself.next = None\n",
    "\n",
    "class LinkedList:\n",
    "\tdef __init__(self):\n",
    "\t\tself.head = None\n",
    "\n",
    "\tdef detectAndRemoveLoop(self):\n",
    "\t\tslow_p = fast_p = self.head\n",
    "\t\t\n",
    "\t\twhile(slow_p and fast_p and fast_p.next):\n",
    "\t\t\tslow_p = slow_p.next\n",
    "\t\t\tfast_p = fast_p.next.next\n",
    "\t\t\tif slow_p == fast_p:\n",
    "\t\t\t\tself.removeLoop(slow_p)\n",
    "\t\t\t\treturn 1\n",
    "\t\treturn 0\n",
    "\n",
    "\tdef removeLoop(self, loop_node):\n",
    "\t\tptr1 = loop_node\n",
    "\t\tptr2 = loop_node\n",
    "\t\tk = 1\n",
    "\t\twhile(ptr1.next != ptr2):\n",
    "\t\t\tptr1 = ptr1.next\n",
    "\t\t\tk += 1\n",
    "\t\tptr1 = self.head\n",
    "\t\tptr2 = self.head\n",
    "\t\tfor i in range(k):\n",
    "\t\t\tptr2 = ptr2.next\n",
    "\t\twhile(ptr2 != ptr1):\n",
    "\t\t\tptr1 = ptr1.next\n",
    "\t\t\tptr2 = ptr2.next\n",
    "\t\twhile(ptr2.next != ptr1):\n",
    "\t\t\tptr2 = ptr2.next\n",
    "\t\tptr2.next = None\n",
    "\tdef push(self, new_data):\n",
    "\t\tnew_node = Node(new_data)\n",
    "\t\tnew_node.next = self.head\n",
    "\t\tself.head = new_node\n",
    "\n",
    "\t\n",
    "\n",
    "llist = LinkedList()\n",
    "llist.push(1)\n",
    "llist.push(2)\n",
    "llist.push(3)\n",
    "# llist.push(4)\n",
    "# llist.push(50)\n",
    "\n",
    "# llist.head.next.next.next.next= llist.head.next\n",
    "\n",
    "llist.detectAndRemoveLoop()\n",
    "\n"
   ]
  },
  {
   "attachments": {},
   "cell_type": "markdown",
   "metadata": {},
   "source": [
    "Q.6) Given a linked list and two integers M and N. Traverse the linked list such that you retain M nodes then delete next N nodes, continue the same till end of the linked list.\n"
   ]
  },
  {
   "cell_type": "code",
   "execution_count": 45,
   "metadata": {},
   "outputs": [
    {
     "name": "stdout",
     "output_type": "stream",
     "text": [
      "1 2 5 6 "
     ]
    }
   ],
   "source": [
    "class Node:\n",
    "\tdef __init__(self, data):\n",
    "\t\tself.data = data\n",
    "\t\tself.next = None\n",
    "class LinkedList:\n",
    "\tdef __init__(self):\n",
    "\t\tself.head = None\n",
    "\tdef push(self, new_data):\n",
    "\t\tnew_node = Node(new_data)\n",
    "\t\tnew_node.next = self.head\n",
    "\t\tself.head = new_node\n",
    "\n",
    "\tdef printList(self):\n",
    "\t\ttemp = self.head\n",
    "\t\twhile(temp):\n",
    "\t\t\tprint (temp.data,end=\" \")\n",
    "\t\t\ttemp = temp.next\n",
    "\n",
    "\tdef skipMdeleteN(self, M, N):\n",
    "\t\tcurr = self.head\n",
    "\t\twhile(curr):\n",
    "\t\t\tfor count in range(1, M):\n",
    "\t\t\t\tif curr is None:\n",
    "\t\t\t\t\treturn\n",
    "\t\t\t\tcurr = curr.next\n",
    "\t\t\t\t\t\n",
    "\t\t\tif curr is None :\n",
    "\t\t\t\treturn\n",
    "\t\t\tt = curr.next\n",
    "\t\t\tfor count in range(1, N+1):\n",
    "\t\t\t\tif t is None:\n",
    "\t\t\t\t\tbreak\n",
    "\t\t\t\tt = t.next\n",
    "\t\t\tcurr.next = t\n",
    "\t\t\tcurr = t\n",
    "llist = LinkedList()\n",
    "M = 2\n",
    "N = 2\n",
    "\n",
    "llist.push(8)\n",
    "llist.push(7)\n",
    "llist.push(6)\n",
    "llist.push(5)\n",
    "llist.push(4)\n",
    "llist.push(3)\n",
    "llist.push(2)\n",
    "llist.push(1)\n",
    "\n",
    "\n",
    "\n",
    "llist.skipMdeleteN(M, N)\n",
    "\n",
    "llist.printList()\n",
    "\n"
   ]
  },
  {
   "attachments": {},
   "cell_type": "markdown",
   "metadata": {},
   "source": [
    "Q.7) Given two linked lists, insert nodes of second list into first list at alternate positions of first list.\n",
    "For example, if first list is 5->7->17->13->11 and second is 12->10->2->4->6, the first list should become 5->12->7->10->17->2->13->4->11->6 and second list should become empty. The nodes of second list should only be inserted when there are positions available. For example, if the first list is 1->2->3 and second list is 4->5->6->7->8, then first list should become 1->4->2->5->3->6 and second list to 7->8.\n",
    "\n",
    "Use of extra space is not allowed (Not allowed to create additional nodes), i.e., insertion must be done in-place. Expected time complexity is O(n) where n is number of nodes in first list."
   ]
  },
  {
   "cell_type": "code",
   "execution_count": 49,
   "metadata": {},
   "outputs": [
    {
     "name": "stdout",
     "output_type": "stream",
     "text": [
      "1 4 2 5 3 6 \n",
      "7 8 "
     ]
    }
   ],
   "source": [
    "class Node(object):\n",
    "\tdef __init__(self, data:int):\n",
    "\t\tself.data = data\n",
    "\t\tself.next = None\n",
    "\n",
    "\n",
    "class LinkedList(object):\n",
    "\tdef __init__(self):\n",
    "\t\tself.head = None\n",
    "\t\t\n",
    "\tdef push(self, new_data:int):\n",
    "\t\tnew_node = Node(new_data)\n",
    "\t\tnew_node.next = self.head\n",
    "\n",
    "\t\tself.head = new_node\n",
    "\n",
    "\tdef printList(self):\n",
    "\t\ttemp = self.head\n",
    "\t\twhile temp != None:\n",
    "\t\t\tprint(temp.data,end=\" \")\n",
    "\t\t\ttemp = temp.next\n",
    "\tdef merge(self, p, q):\n",
    "\t\tp_curr = p.head\n",
    "\t\tq_curr = q.head\n",
    "\t\twhile p_curr != None and q_curr != None:\n",
    "\t\t\tp_next = p_curr.next\n",
    "\t\t\tq_next = q_curr.next\n",
    "\n",
    "\t\t\tq_curr.next = p_next \n",
    "\t\t\tp_curr.next = q_curr \n",
    "\t\t\tp_curr = p_next\n",
    "\t\t\tq_curr = q_next\n",
    "\t\t\tq.head = q_curr\n",
    "\n",
    "llist1 = LinkedList()\n",
    "llist2 = LinkedList()\n",
    "\n",
    "llist1.push(3)\n",
    "llist1.push(2)\n",
    "llist1.push(1)\n",
    "\n",
    "llist2.push(8)\n",
    "llist2.push(7)\n",
    "llist2.push(6)\n",
    "llist2.push(5)\n",
    "llist2.push(4)\n",
    "\n",
    "\n",
    "llist1.merge(p=llist1, q=llist2)\n",
    "\n",
    "llist1.printList()\n",
    "print()\n",
    "llist2.printList()\n",
    "\n"
   ]
  },
  {
   "attachments": {},
   "cell_type": "markdown",
   "metadata": {},
   "source": [
    "Q.8)Given a singly linked list, find if the linked list is [circular](https://www.geeksforgeeks.org/circular-linked-list/amp/) or not.\n",
    "\n",
    "> A linked list is called circular if it is not NULL-terminated and all nodes are connected in the form of a cycle. Below is an example of a circular linked list.\n",
    ">"
   ]
  },
  {
   "cell_type": "code",
   "execution_count": 51,
   "metadata": {},
   "outputs": [
    {
     "name": "stdout",
     "output_type": "stream",
     "text": [
      "False\n"
     ]
    }
   ],
   "source": [
    "class Node:\n",
    "\tdef __init__(self, data):\n",
    "\t\tself.data = data\n",
    "\t\tself.next = None\n",
    "\n",
    "class LinkedList:\n",
    "\tdef __init__(self):\n",
    "\t\tself.head = None\n",
    "\n",
    "\tdef add_to_front(self, data):\n",
    "\t\tnew_node = Node(data)\n",
    "\t\tnew_node.next = self.head\n",
    "\t\tself.head = new_node\n",
    "\n",
    "\tdef is_circular(self):\n",
    "\t\tif self.head is None:\n",
    "\t\t\treturn False\n",
    "\t\tslow = self.head\n",
    "\t\tfast = self.head.next\n",
    "\t\twhile fast is not None and fast.next is not None:\n",
    "\t\t\tif slow == fast:\n",
    "\t\t\t\treturn True\n",
    "\t\t\tslow = slow.next\n",
    "\t\t\tfast = fast.next.next\n",
    "\t\treturn False\n",
    "\n",
    "list = LinkedList()\n",
    "list.add_to_front(10)\n",
    "list.add_to_front(12)\n",
    "list.add_to_front(14)\n",
    "list.add_to_front(16)\n",
    "print(list.is_circular())"
   ]
  },
  {
   "cell_type": "code",
   "execution_count": 5,
   "metadata": {},
   "outputs": [
    {
     "name": "stdout",
     "output_type": "stream",
     "text": [
      "{'id': 2, 'first_name': 'vikash', 'last_name': 'saini', 'roll_no': 2, 'gender': 'Male'}\n",
      "{'id': 3, 'first_name': 'vikash', 'last_name': 'saini', 'roll_no': 3, 'gender': 'Male'}\n",
      "{'id': 4, 'first_name': 'monit', 'last_name': 'shop', 'roll_no': 1, 'gender': 'Male'}\n",
      "{'id': 5, 'first_name': 'vikash', 'last_name': 'shop', 'roll_no': 2, 'gender': 'Male'}\n",
      "{'id': 6, 'first_name': 'saiini', 'last_name': 'shop', 'roll_no': 4, 'gender': 'Male'}\n",
      "{'id': 7, 'first_name': 'saiini', 'last_name': 'shop', 'roll_no': 4, 'gender': 'Male'}\n",
      "{'id': 8, 'first_name': 'saiini', 'last_name': 'shop', 'roll_no': 4, 'gender': 'Male'}\n",
      "{'id': 9, 'first_name': 'saiini', 'last_name': 'shop', 'roll_no': 4, 'gender': 'Male'}\n",
      "{'id': 10, 'first_name': 'manish', 'last_name': 'saini', 'roll_no': 2, 'gender': 'Male'}\n",
      "{'id': 1, 'first_name': 'vikash', 'last_name': 'saini', 'roll_no': 1, 'gender': 'Female'}\n"
     ]
    }
   ],
   "source": [
    "import json\n",
    "res = open(r'C:\\Users\\V\\Desktop\\response.json')\n",
    "ans = json.load(res)\n",
    "for key in ans:\n",
    "    print(key[\"id\"])"
   ]
  }
 ],
 "metadata": {
  "kernelspec": {
   "display_name": "Python 3",
   "language": "python",
   "name": "python3"
  },
  "language_info": {
   "codemirror_mode": {
    "name": "ipython",
    "version": 3
   },
   "file_extension": ".py",
   "mimetype": "text/x-python",
   "name": "python",
   "nbconvert_exporter": "python",
   "pygments_lexer": "ipython3",
   "version": "3.11.3"
  },
  "orig_nbformat": 4
 },
 "nbformat": 4,
 "nbformat_minor": 2
}
