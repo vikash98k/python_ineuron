{
 "cells": [
  {
   "attachments": {},
   "cell_type": "markdown",
   "metadata": {},
   "source": [
    "Q.1)Given a roman numeral, convert it to an integer."
   ]
  },
  {
   "cell_type": "code",
   "execution_count": 13,
   "metadata": {},
   "outputs": [
    {
     "data": {
      "text/plain": [
       "3"
      ]
     },
     "execution_count": 13,
     "metadata": {},
     "output_type": "execute_result"
    }
   ],
   "source": [
    "def romanToInt(string):\n",
    "        m = {\n",
    "            'I': 1,\n",
    "            'V': 5,\n",
    "            'X': 10,\n",
    "            'L': 50,\n",
    "            'C': 100,\n",
    "            'D': 500,\n",
    "            'M': 1000\n",
    "        }\n",
    "        \n",
    "        ans = 0\n",
    "        \n",
    "        for i in range(len(string)):\n",
    "            if i < len(string) - 1 and m[string[i]] < m[string[i+1]]:\n",
    "                ans -= m[string[i]]\n",
    "            else:\n",
    "                ans += m[string[i]]\n",
    "        \n",
    "        return ans\n",
    "string = 'III'\n",
    "romanToInt(string)"
   ]
  },
  {
   "attachments": {},
   "cell_type": "markdown",
   "metadata": {},
   "source": [
    "Q.2) Longest Substring Without Repeating Characters"
   ]
  },
  {
   "cell_type": "code",
   "execution_count": 14,
   "metadata": {},
   "outputs": [
    {
     "data": {
      "text/plain": [
       "3"
      ]
     },
     "execution_count": 14,
     "metadata": {},
     "output_type": "execute_result"
    }
   ],
   "source": [
    "def lengthOfLongestSubstring(s,n):\n",
    "    maxLength = 0\n",
    "    charSet = set()\n",
    "    left = 0\n",
    "    \n",
    "    for right in range(n):\n",
    "        if s[right] not in charSet:\n",
    "            charSet.add(s[right])\n",
    "            maxLength = max(maxLength, right - left + 1)\n",
    "        else:\n",
    "            while s[right] in charSet:\n",
    "                charSet.remove(s[left])\n",
    "                left += 1\n",
    "            charSet.add(s[right])\n",
    "    \n",
    "    return maxLength\n",
    "string = \"abcabcbb\"\n",
    "n = len(string)\n",
    "lengthOfLongestSubstring(string,n)"
   ]
  },
  {
   "attachments": {},
   "cell_type": "markdown",
   "metadata": {},
   "source": [
    "Q.3) Given an array `nums` of size `n`, return *the majority element*.\n",
    "\n",
    "The majority element is the element that appears more than `⌊n / 2⌋` times. You may assume that the majority element always exists in the array."
   ]
  },
  {
   "cell_type": "code",
   "execution_count": 15,
   "metadata": {},
   "outputs": [
    {
     "name": "stdout",
     "output_type": "stream",
     "text": [
      "3\n"
     ]
    }
   ],
   "source": [
    "def findMajority(arr, n):\n",
    "\n",
    "\tmaxCount = 0\n",
    "\tindex = -1 \n",
    "\tfor i in range(n):\n",
    "\n",
    "\t\tcount = 1\n",
    "\t\tfor j in range(i+1, n):\n",
    "\n",
    "\t\t\tif(arr[i] == arr[j]):\n",
    "\t\t\t\tcount += 1\n",
    "\n",
    "\t\tif(count > maxCount):\n",
    "\n",
    "\t\t\tmaxCount = count\n",
    "\t\t\tindex = i\n",
    "\n",
    "\n",
    "\tif (maxCount > n//2):\n",
    "\t\tprint(arr[index])\n",
    "\n",
    "\telse:\n",
    "\t\tprint(\"No Majority Element\")\n",
    "\n",
    "arr = [3,2,3]\n",
    "n = len(arr)\n",
    "findMajority(arr, n)\n",
    "\n"
   ]
  },
  {
   "attachments": {},
   "cell_type": "markdown",
   "metadata": {},
   "source": [
    "Q.4)Group Anagram"
   ]
  },
  {
   "cell_type": "code",
   "execution_count": 16,
   "metadata": {},
   "outputs": [
    {
     "data": {
      "text/plain": [
       "[['eat', 'tea', 'ate'], ['tan', 'nat'], ['bat']]"
      ]
     },
     "execution_count": 16,
     "metadata": {},
     "output_type": "execute_result"
    }
   ],
   "source": [
    "from collections import defaultdict\n",
    "def groupAnagrams(strs):\n",
    "    anagram_map = defaultdict(list)\n",
    "    \n",
    "    for word in strs:\n",
    "        sorted_word = ''.join(sorted(word))\n",
    "        anagram_map[sorted_word].append(word)\n",
    "    \n",
    "    return list(anagram_map.values())\n",
    "\n",
    "strs = [\"eat\",\"tea\",\"tan\",\"ate\",\"nat\",\"bat\"]\n",
    "groupAnagrams(strs)"
   ]
  },
  {
   "attachments": {},
   "cell_type": "markdown",
   "metadata": {},
   "source": [
    "Q.5) Ugly Numbers"
   ]
  },
  {
   "cell_type": "code",
   "execution_count": 17,
   "metadata": {},
   "outputs": [
    {
     "name": "stdout",
     "output_type": "stream",
     "text": [
      "12\n"
     ]
    }
   ],
   "source": [
    "def maxDivide(a, b):\n",
    "\twhile a % b == 0:\n",
    "\t\ta = a / b\n",
    "\treturn a\n",
    "\n",
    "\n",
    "def isUgly(no):\n",
    "\tno = maxDivide(no, 2)\n",
    "\tno = maxDivide(no, 3)\n",
    "\tno = maxDivide(no, 5)\n",
    "\treturn 1 if no == 1 else 0\n",
    "\n",
    "def getNthUglyNo(n):\n",
    "\ti = 1\n",
    "\tcount = 1\n",
    "\twhile n > count:\n",
    "\t\ti += 1\n",
    "\t\tif isUgly(i):\n",
    "\t\t\tcount += 1\n",
    "\treturn i\n",
    "\n",
    "no = getNthUglyNo(10)\n",
    "print(no)\n"
   ]
  },
  {
   "attachments": {},
   "cell_type": "markdown",
   "metadata": {},
   "source": [
    "Q.6) Top K Frequent Words"
   ]
  },
  {
   "cell_type": "code",
   "execution_count": 18,
   "metadata": {},
   "outputs": [
    {
     "data": {
      "text/plain": [
       "['i', 'love']"
      ]
     },
     "execution_count": 18,
     "metadata": {},
     "output_type": "execute_result"
    }
   ],
   "source": [
    "from collections import Counter\n",
    "def topKwords(words,k):\n",
    "    c = Counter(words)\n",
    "    return sorted(Counter(words), key=lambda x: (-c[x],x))[:k]\n",
    "\n",
    "words = [\"i\",\"love\",\"leetcode\",\"i\",\"love\",\"coding\"]\n",
    "k = 2\n",
    "topKwords(words,k)"
   ]
  },
  {
   "attachments": {},
   "cell_type": "markdown",
   "metadata": {},
   "source": [
    "Q.7) Sliding Window Maximum"
   ]
  },
  {
   "cell_type": "code",
   "execution_count": 19,
   "metadata": {},
   "outputs": [
    {
     "data": {
      "text/plain": [
       "[3, 3, 5, 5, 6, 7]"
      ]
     },
     "execution_count": 19,
     "metadata": {},
     "output_type": "execute_result"
    }
   ],
   "source": [
    "from queue import deque\n",
    "def maxSlidingWindow(nums,k):\n",
    "    i=0\n",
    "    j=0\n",
    "    d=deque()\n",
    "    res=[]\n",
    "    while j<len(nums):\n",
    "        while  len(d)>0 and d[-1]<nums[j]:\n",
    "            d.pop()\n",
    "        d.append(nums[j])\n",
    "        if j-i+1<k:\n",
    "            j+=1\n",
    "        elif j-i+1==k:\n",
    "            res.append(d[0])\n",
    "            if d[0]==nums[i]:\n",
    "                d.popleft()\n",
    "            i+=1\n",
    "            j+=1\n",
    "    return res\n",
    "nums = [1,3,-1,-3,5,3,6,7]\n",
    "k = 3\n",
    "maxSlidingWindow(nums,k)\n"
   ]
  },
  {
   "attachments": {},
   "cell_type": "markdown",
   "metadata": {},
   "source": [
    "Q.8) Find K Closest Elements"
   ]
  },
  {
   "cell_type": "code",
   "execution_count": 20,
   "metadata": {},
   "outputs": [
    {
     "data": {
      "text/plain": [
       "[1, 2, 3, 4]"
      ]
     },
     "execution_count": 20,
     "metadata": {},
     "output_type": "execute_result"
    }
   ],
   "source": [
    "from bisect import bisect_left\n",
    "def findClosestElements(arr,k,x):\n",
    "    right = bisect_left(arr,x)\n",
    "    left = right-1\n",
    "    for _ in range(k):\n",
    "        if left < 0: right += 1\n",
    "        elif right >= len(arr): left -= 1\n",
    "        else:\n",
    "            if x-arr[left] <= arr[right]-x: left -= 1\n",
    "            else: right += 1\n",
    "    return arr[left+1:right]\n",
    "\n",
    "arr = [1,2,3,4,5]\n",
    "k = 4\n",
    "x = 3\n",
    "findClosestElements(arr,k,x)"
   ]
  }
 ],
 "metadata": {
  "kernelspec": {
   "display_name": "Python 3",
   "language": "python",
   "name": "python3"
  },
  "language_info": {
   "codemirror_mode": {
    "name": "ipython",
    "version": 3
   },
   "file_extension": ".py",
   "mimetype": "text/x-python",
   "name": "python",
   "nbconvert_exporter": "python",
   "pygments_lexer": "ipython3",
   "version": "3.11.3"
  },
  "orig_nbformat": 4
 },
 "nbformat": 4,
 "nbformat_minor": 2
}
