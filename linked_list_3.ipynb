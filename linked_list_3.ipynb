{
 "cells": [
  {
   "attachments": {},
   "cell_type": "markdown",
   "metadata": {},
   "source": [
    "Q.1) Given a linked list of **N** nodes such that it may contain a loop.\n",
    "\n",
    "A loop here means that the last node of the link list is connected to the node at position X(1-based index). If the link list does not have any loop, X=0.\n",
    "\n",
    "Remove the loop from the linked list, if it is present, i.e. unlink the last node which is forming the loop."
   ]
  },
  {
   "cell_type": "code",
   "execution_count": 3,
   "metadata": {},
   "outputs": [
    {
     "data": {
      "text/plain": [
       "1"
      ]
     },
     "execution_count": 3,
     "metadata": {},
     "output_type": "execute_result"
    }
   ],
   "source": [
    "class Node:\n",
    "\tdef __init__(self, data):\n",
    "\t\tself.data = data\n",
    "\t\tself.next = None\n",
    "\n",
    "class LinkedList:\n",
    "\tdef __init__(self):\n",
    "\t\tself.head = None\n",
    "\n",
    "\tdef detectAndRemoveLoop(self):\n",
    "\t\tslow_p = fast_p = self.head\n",
    "\t\t\n",
    "\t\twhile(slow_p and fast_p and fast_p.next):\n",
    "\t\t\tslow_p = slow_p.next\n",
    "\t\t\tfast_p = fast_p.next.next\n",
    "\t\t\tif slow_p == fast_p:\n",
    "\t\t\t\tself.removeLoop(slow_p)\n",
    "\t\t\t\treturn 1\n",
    "\t\treturn 0\n",
    "\n",
    "\tdef removeLoop(self, loop_node):\n",
    "\t\tptr1 = loop_node\n",
    "\t\tptr2 = loop_node\n",
    "\t\tk = 1\n",
    "\t\twhile(ptr1.next != ptr2):\n",
    "\t\t\tptr1 = ptr1.next\n",
    "\t\t\tk += 1\n",
    "\t\tptr1 = self.head\n",
    "\t\tptr2 = self.head\n",
    "\t\tfor i in range(k):\n",
    "\t\t\tptr2 = ptr2.next\n",
    "\t\twhile(ptr2 != ptr1):\n",
    "\t\t\tptr1 = ptr1.next\n",
    "\t\t\tptr2 = ptr2.next\n",
    "\t\twhile(ptr2.next != ptr1):\n",
    "\t\t\tptr2 = ptr2.next\n",
    "\t\tptr2.next = None\n",
    "\tdef push(self, new_data):\n",
    "\t\tnew_node = Node(new_data)\n",
    "\t\tnew_node.next = self.head\n",
    "\t\tself.head = new_node\n",
    "\n",
    "\t\n",
    "\n",
    "llist = LinkedList()\n",
    "llist.push(1)\n",
    "llist.push(3)\n",
    "llist.push(4)\n",
    "\n",
    "\n",
    "llist.head.next.next.next= llist.head.next\n",
    "\n",
    "llist.detectAndRemoveLoop()\n",
    "\n"
   ]
  },
  {
   "attachments": {},
   "cell_type": "markdown",
   "metadata": {},
   "source": [
    "Q.2) A number N is represented in Linked List such that each digit corresponds to a node in linked list. You need to add 1 to it."
   ]
  },
  {
   "cell_type": "code",
   "execution_count": 5,
   "metadata": {},
   "outputs": [
    {
     "name": "stdout",
     "output_type": "stream",
     "text": [
      "457\n",
      "\n"
     ]
    }
   ],
   "source": [
    "class Node:\n",
    "\tdef __init__(self, data):\n",
    "\t\tself.data = data\n",
    "\t\tself.next = None\n",
    "\n",
    "\n",
    "def newNode(data):\n",
    "\n",
    "\tnew_node = Node(0)\n",
    "\tnew_node.data = data\n",
    "\tnew_node.next = None\n",
    "\treturn new_node\n",
    "\n",
    "def addWithCarry(head):\n",
    "\n",
    "\tif (head == None):\n",
    "\t\treturn 1\n",
    "\n",
    "\tres = head.data + addWithCarry(head.next)\n",
    "\thead.data = int((res) % 10)\n",
    "\treturn int((res) / 10)\n",
    "\n",
    "def addOne(head):\n",
    "\tcarry = addWithCarry(head)\n",
    "\tif (carry != 0):\n",
    "\t\n",
    "\t\tnewNode = Node(0)\n",
    "\t\tnewNode.data = carry\n",
    "\t\tnewNode.next = head\n",
    "\t\treturn newNode \n",
    "\treturn head\n",
    "def printList(node):\n",
    "\n",
    "\twhile (node != None):\n",
    "\t\n",
    "\t\tprint( node.data,end = \"\")\n",
    "\t\tnode = node.next\n",
    "\tprint(\"\\n\")\n",
    "head = newNode(4)\n",
    "head.next = newNode(5)\n",
    "head.next.next = newNode(6)\n",
    "\n",
    "\n",
    "head = addOne(head)\n",
    "\n",
    "printList(head)\n"
   ]
  },
  {
   "attachments": {},
   "cell_type": "markdown",
   "metadata": {},
   "source": [
    "Q.3) Given a Linked List of size N, where every node represents a sub-linked-list and contains two pointers:(i) a next pointer to the next node,(ii) a bottom pointer to a linked list where this node is head.Each of the sub-linked-list is in sorted order.Flatten the Link List such that all the nodes appear in a single level while maintaining the sorted order. Note: The flattened list will be printed using the bottom pointer instead of next pointer."
   ]
  },
  {
   "cell_type": "code",
   "execution_count": 6,
   "metadata": {},
   "outputs": [
    {
     "name": "stdout",
     "output_type": "stream",
     "text": [
      "5 7 8 10 19 20 20 22 30 35 40 45 50 \n"
     ]
    }
   ],
   "source": [
    "class Node():\n",
    "\tdef __init__(self, data):\n",
    "\t\tself.data = data\n",
    "\t\tself.right = None\n",
    "\t\tself.down = None\n",
    "\n",
    "\n",
    "class LinkedList():\n",
    "\tdef __init__(self):\n",
    "\t\tself.head = None\n",
    "\n",
    "\tdef push(self, head_ref, data):\n",
    "\t\tnew_node = Node(data)\n",
    "\t\tnew_node.down = head_ref\n",
    "\t\thead_ref = new_node\n",
    "\t\treturn head_ref\n",
    "\n",
    "\tdef printList(self):\n",
    "\n",
    "\t\ttemp = self.head\n",
    "\t\twhile(temp != None):\n",
    "\t\t\tprint(temp.data, end=\" \")\n",
    "\t\t\ttemp = temp.down\n",
    "\n",
    "\t\tprint()\n",
    "\tdef merge(self, a, b):\n",
    "\t\tif(a == None):\n",
    "\t\t\treturn b\n",
    "\t\tif(b == None):\n",
    "\t\t\treturn a\n",
    "\t\tresult = None\n",
    "\n",
    "\t\tif (a.data < b.data):\n",
    "\t\t\tresult = a\n",
    "\t\t\tresult.down = self.merge(a.down, b)\n",
    "\t\telse:\n",
    "\t\t\tresult = b\n",
    "\t\t\tresult.down = self.merge(a, b.down)\n",
    "\n",
    "\t\tresult.right = None\n",
    "\t\treturn result\n",
    "\n",
    "\tdef flatten(self, root):\n",
    "\t\tif(root == None or root.right == None):\n",
    "\t\t\treturn root\n",
    "\n",
    "\t\troot.right = self.flatten(root.right)\n",
    "\t\troot = self.merge(root, root.right)\n",
    "\t\treturn root\n",
    "\n",
    "if __name__ == '__main__':\n",
    "\tL = LinkedList()\n",
    "\tL.head = L.push(L.head, 30)\n",
    "\tL.head = L.push(L.head, 8)\n",
    "\tL.head = L.push(L.head, 7)\n",
    "\tL.head = L.push(L.head, 5)\n",
    "\n",
    "\tL.head.right = L.push(L.head.right, 20)\n",
    "\tL.head.right = L.push(L.head.right, 10)\n",
    "\n",
    "\tL.head.right.right = L.push(L.head.right.right, 50)\n",
    "\tL.head.right.right = L.push(L.head.right.right, 22)\n",
    "\tL.head.right.right = L.push(L.head.right.right, 19)\n",
    "\n",
    "\tL.head.right.right.right = L.push(L.head.right.right.right, 45)\n",
    "\tL.head.right.right.right = L.push(L.head.right.right.right, 40)\n",
    "\tL.head.right.right.right = L.push(L.head.right.right.right, 35)\n",
    "\tL.head.right.right.right = L.push(L.head.right.right.right, 20)\n",
    "\n",
    "\tL.head = L.flatten(L.head)\n",
    "\n",
    "\tL.printList()\n"
   ]
  },
  {
   "attachments": {},
   "cell_type": "markdown",
   "metadata": {},
   "source": [
    "Q.4) You are given a special linked list with **N** nodes where each node has a next pointer pointing to its next node. You are also given **M** random pointers, where you will be given **M** number of pairs denoting two nodes **a** and **b**  **i.e. a->arb = b** (arb is pointer to random node)**.**\n",
    "\n",
    "Construct a copy of the given list. The copy should consist of exactly **N** new nodes, where each new node has its value set to the value of its corresponding original node. Both the next and random pointer of the new nodes should point to new nodes in the copied list such that the pointers in the original list and copied list represent the same list state. None of the pointers in the new list should point to nodes in the original list.\n",
    "\n",
    "For example, if there are two nodes **X** and **Y** in the original list, where **X.arb** **-->** **Y**, then for the corresponding two nodes **x** and **y** in the copied list, **x.arb --> y.**"
   ]
  },
  {
   "cell_type": "code",
   "execution_count": 45,
   "metadata": {},
   "outputs": [
    {
     "name": "stdout",
     "output_type": "stream",
     "text": [
      "<__main__.Node object at 0x000001971CF8B9D0>\n",
      "None\n"
     ]
    }
   ],
   "source": [
    "class Node:\n",
    "\tdef __init__(self, val):\n",
    "\t\tself.val = val\n",
    "\t\tself.next = None\n",
    "\t\tself.arbit = None\n",
    "\n",
    "def cloneLinkedList(head):\n",
    "\tmp = {}\n",
    "\ttemp = head\n",
    "\tnhead = Node(temp.val)\n",
    "\tmp[temp] = nhead\n",
    "\n",
    "\twhile temp.next:\n",
    "\t\tnhead.next = Node(temp.next.val)\n",
    "\t\ttemp = temp.next\n",
    "\t\tnhead = nhead.next\n",
    "\t\tmp[temp] = nhead\n",
    "\n",
    "\ttemp = head\n",
    "\twhile temp:\n",
    "\t\tmp[temp].arbit = mp[temp.arbit]\n",
    "\t\ttemp = temp.next\n",
    "\tprint(mp[head])\n",
    "\n",
    "\n",
    "head = Node(1)\n",
    "head.next = Node(2)\n",
    "head.next.next = Node(3)\n",
    "head.next.next.next = Node(4)\n",
    "head.next.next.next.next = Node(5)\n",
    "head.arbit = head.next.next\n",
    "head.next.arbit = head\n",
    "head.next.next.arbit = head.next.next.next.next\n",
    "head.next.next.next.arbit = head.next.next\n",
    "head.next.next.next.next.arbit = head.next\n",
    "sol = cloneLinkedList(head)\n"
   ]
  },
  {
   "attachments": {},
   "cell_type": "markdown",
   "metadata": {},
   "source": [
    "Q.5) Given the `head` of a singly linked list, group all the nodes with odd indices together followed by the nodes with even indices, and return *the reordered list*.\n",
    "\n",
    "The **first** node is considered **odd**, and the **second** node is **even**, and so on.\n",
    "\n",
    "Note that the relative order inside both the even and odd groups should remain as it was in the input."
   ]
  },
  {
   "cell_type": "code",
   "execution_count": 11,
   "metadata": {},
   "outputs": [
    {
     "name": "stdout",
     "output_type": "stream",
     "text": [
      "1 3 5 2 4 "
     ]
    }
   ],
   "source": [
    "class ListNode:\n",
    "\tdef __init__(self, val=0, next=None):\n",
    "\t\tself.val = val\n",
    "\t\tself.next = next\n",
    "\n",
    "def rearrange_linked_list(head):\n",
    "\todd_head = odd = ListNode(0)\n",
    "\teven_head = even = ListNode(0)\n",
    "\tcurr = head\n",
    "\tcounter = 1\n",
    "\twhile curr:\n",
    "\t\tif counter % 2 == 1:\n",
    "\t\t\todd.next = curr\n",
    "\t\t\todd = odd.next\n",
    "\t\telse:\n",
    "\t\t\teven.next = curr\n",
    "\t\t\teven = even.next\n",
    "\t\tcurr = curr.next\n",
    "\t\tcounter += 1\n",
    "\n",
    "\todd.next = even_head.next\n",
    "\teven.next = None\n",
    "\t\n",
    "\treturn odd_head.next\n",
    "\n",
    "head = ListNode(1, ListNode(2, ListNode(3, ListNode(4,ListNode(5)))))\n",
    "\n",
    "new_head = rearrange_linked_list(head)\n",
    "\n",
    "while new_head:\n",
    "\tprint(new_head.val, end=\" \")\n",
    "\tnew_head = new_head.next\n"
   ]
  },
  {
   "attachments": {},
   "cell_type": "markdown",
   "metadata": {},
   "source": [
    "Q.6) Given a singly linked list of size N. The task is to left-shift the linked list by k nodes, where k is a given positive integer smaller than or equal to length of the linked list. "
   ]
  },
  {
   "cell_type": "code",
   "execution_count": 3,
   "metadata": {},
   "outputs": [
    {
     "name": "stdout",
     "output_type": "stream",
     "text": [
      "8 9 2 4 7 "
     ]
    }
   ],
   "source": [
    "class Node:\n",
    "\tdef __init__(self,data):\n",
    "\t\tself.data = data\n",
    "\t\tself.next = None\n",
    "\t\t\n",
    "class LinkedList:\n",
    "\tdef __init__(self):\n",
    "\t\tself.head = None\n",
    "\t\n",
    "\n",
    "\tdef rotate(self,k):\n",
    "\n",
    "\t\tlast = self.head\n",
    "\t\ttemp = self.head\n",
    "\n",
    "\t\tif self.head == None or k == 0:\n",
    "\t\t\treturn self.head\n",
    "\t\twhile last.next != None:\n",
    "\t\t\tlast = last.next\n",
    "\t\t\n",
    "\t\twhile k:\n",
    "\n",
    "\t\t\tself.head = self.head.next\n",
    "\t\t\t\n",
    "\t\t\ttemp.next = None\n",
    "\t\t\t\n",
    "\t\t\tlast.next = temp\n",
    "\t\t\tlast = temp\n",
    "\t\t\n",
    "\t\t\ttemp = self.head\n",
    "\t\t\tk -= 1\n",
    "\t\treturn self.head\n",
    "\tdef push(self, new_data):\n",
    "\t\tnew_node = Node(new_data)\n",
    "\t\tnew_node.next = self.head\n",
    "\t\tself.head = new_node\n",
    "\n",
    "\tdef printList(self):\n",
    "\t\ttemp = self.head\n",
    "\t\twhile(temp):\n",
    "\t\t\tprint (temp.data,end=\" \")\n",
    "\t\t\ttemp = temp.next\n",
    "\t\t\n",
    "\t\n",
    "\t\n",
    "\n",
    "llist = LinkedList()\n",
    "llist.push(9)\n",
    "llist.push(8)\n",
    "llist.push(7)\n",
    "llist.push(4)\n",
    "llist.push(2)\n",
    "llist.rotate(3)\n",
    "llist.printList()\n",
    "\n"
   ]
  },
  {
   "attachments": {},
   "cell_type": "markdown",
   "metadata": {},
   "source": [
    "Q.7) You are given the `head` of a linked list with `n` nodes.\n",
    "\n",
    "For each node in the list, find the value of the **next greater node**. That is, for each node, find the value of the first node that is next to it and has a **strictly larger** value than it.\n",
    "\n",
    "Return an integer array `answer` where `answer[i]` is the value of the next greater node of the `ith` node (**1-indexed**). If the `ith` node does not have a next greater node, set `answer[i] = 0`."
   ]
  },
  {
   "cell_type": "code",
   "execution_count": 6,
   "metadata": {},
   "outputs": [
    {
     "name": "stdout",
     "output_type": "stream",
     "text": [
      "[5, 5, 0]\n"
     ]
    }
   ],
   "source": [
    "head = None\n",
    "class ListNode:\n",
    "\tdef __init__(self, val):\n",
    "\t\tself.val = val\n",
    "\t\tself.next = None\n",
    "\n",
    "def sizeOfLL(head):\n",
    "\tcount = 0\n",
    "\twhile (head != None):\n",
    "\t\tcount = count + 1\n",
    "\t\thead = head.next\n",
    "\n",
    "\treturn count\n",
    "\n",
    "\n",
    "def nextLargerLL(head):\n",
    "\tcount = sizeOfLL(head)\n",
    "\tans = [None]*count\n",
    "\tk = 0\n",
    "\tj = None\n",
    "\ttemp = 0\n",
    "\n",
    "\twhile (head != None):\n",
    "\t\tif (head.next == None):\n",
    "\t\t\tans[k] = 0\n",
    "\t\t\tbreak\n",
    "\t\tj = head.next\n",
    "\t\tif (head.val < j.val):\n",
    "\t\t\tans[k] = j.val\n",
    "\t\t\tk += 1\n",
    "\n",
    "\t\telif (head.val >= j.val):\n",
    "\t\t\twhile (\n",
    "\t\t\t\t\tj != None and head.val >= j.val):\n",
    "\t\t\t\tj = j.next\n",
    "\t\t\tif (j != None):\n",
    "\t\t\t\tans[k] = j.val\n",
    "\t\t\t\tk += 1\n",
    "\n",
    "\t\t\telse:\n",
    "\t\t\t\tans[k] = 0\n",
    "\t\t\t\tk += 1\n",
    "\n",
    "\t\telse:\n",
    "\t\t\tans[k] = 0\n",
    "\t\t\tk += 1\n",
    "\n",
    "\t\thead = head.next\n",
    "\n",
    "\treturn ans\n",
    "\n",
    "\n",
    "def push(new_data):\n",
    "\tglobal head\n",
    "\tnew_node = ListNode(new_data)\n",
    "\tnew_node.next = head\n",
    "\thead = new_node\n",
    "def printList():\n",
    "\tprint(nextLargerLL(head))\n",
    "\n",
    "if __name__ == '__main__':\n",
    "\tpush(5)\n",
    "\tpush(1)\n",
    "\tpush(2)\n",
    "\n",
    "\tnextLargerLL(head)\n",
    "\tprintList()\n"
   ]
  },
  {
   "attachments": {},
   "cell_type": "markdown",
   "metadata": {},
   "source": [
    "Q.8) Given the `head` of a linked list, we repeatedly delete consecutive sequences of nodes that sum to `0` until there are no such sequences.\n",
    "\n",
    "After doing so, return the head of the final linked list.  You may return any such answer.\n",
    "\n",
    "(Note that in the examples below, all sequences are serializations of `ListNode` objects.)"
   ]
  },
  {
   "cell_type": "code",
   "execution_count": 21,
   "metadata": {},
   "outputs": [
    {
     "name": "stdout",
     "output_type": "stream",
     "text": [
      "1 2 -3 3 1"
     ]
    }
   ],
   "source": [
    "class ListNode:\n",
    "\tdef __init__(self, val):\n",
    "\t\tself.val = val\n",
    "\t\tself.next = None\n",
    "\n",
    "def getNode(data):\n",
    "\ttemp = ListNode(data)\n",
    "\ttemp.next = None\n",
    "\treturn temp\n",
    "\n",
    "\n",
    "def removeZeroSum(head, K):\n",
    "\troot = ListNode(0)\n",
    "\troot.next = head\n",
    "\tumap = dict()\n",
    "\n",
    "\tumap[0] = root\n",
    "\tsum = 0\n",
    "\twhile (head != None):\n",
    "\t\tsum += head.val\n",
    "\t\tif ((sum - K) in umap):\n",
    "\n",
    "\t\t\tprev = umap[sum - K]\n",
    "\t\t\tstart = prev\n",
    "\t\t\taux = sum\n",
    "\t\t\tsum = sum - K\n",
    "\t\t\twhile (prev != head):\n",
    "\t\t\t\tprev = prev.next\n",
    "\t\t\t\taux += prev.val\n",
    "\t\t\t\tif (prev != head):\n",
    "\t\t\t\t\tumap.remove(aux)\n",
    "\t\t\tstart.next = head.next\n",
    "\t\telse:\n",
    "\t\t\tumap[sum] = head\n",
    "\n",
    "\t\thead = head.next\n",
    "\treturn root.next\n",
    "\n",
    "def printList(head):\n",
    "\twhile (head.next):\n",
    "\t\tprint(head.val, end=' ')\n",
    "\t\thead = head.next\n",
    "\tprint(head.val, end='')\n",
    "\n",
    "if __name__ == '__main__':\n",
    "\thead = getNode(1)\n",
    "\thead.next = getNode(2)\n",
    "\thead.next.next = getNode(-3)\n",
    "\thead.next.next.next = getNode(3)\n",
    "\thead.next.next.next.next = getNode(1)\n",
    "\tK = 5\n",
    "\thead = removeZeroSum(head, K)\n",
    "\n",
    "\tif(head != None):\n",
    "\t\tprintList(head)\n"
   ]
  },
  {
   "cell_type": "code",
   "execution_count": 1,
   "metadata": {},
   "outputs": [
    {
     "name": "stdout",
     "output_type": "stream",
     "text": [
      "0\n"
     ]
    }
   ],
   "source": []
  }
 ],
 "metadata": {
  "kernelspec": {
   "display_name": "Python 3",
   "language": "python",
   "name": "python3"
  },
  "language_info": {
   "codemirror_mode": {
    "name": "ipython",
    "version": 3
   },
   "file_extension": ".py",
   "mimetype": "text/x-python",
   "name": "python",
   "nbconvert_exporter": "python",
   "pygments_lexer": "ipython3",
   "version": "3.11.3"
  },
  "orig_nbformat": 4
 },
 "nbformat": 4,
 "nbformat_minor": 2
}
