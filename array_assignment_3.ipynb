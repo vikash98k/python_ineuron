{
 "cells": [
  {
   "attachments": {},
   "cell_type": "markdown",
   "metadata": {},
   "source": [
    "Question 1\n",
    "Given an integer array nums of length n and an integer target, find three integers\n",
    "in nums such that the sum is closest to the target.\n",
    "Return the sum of the three integers.\n",
    "\n",
    "sol."
   ]
  },
  {
   "cell_type": "code",
   "execution_count": 2,
   "metadata": {},
   "outputs": [
    {
     "name": "stdout",
     "output_type": "stream",
     "text": [
      "2\n"
     ]
    }
   ],
   "source": [
    "def solution(nums,target):\n",
    "    nums=sorted(nums)\n",
    "    diff=float('inf')\n",
    "    ans = 0\n",
    "    for i in range(len(nums)-1):\n",
    "        start=i+1\n",
    "        end=len(nums)-1\n",
    "        while(start<end):\n",
    "            sum=nums[i]+nums[start]+nums[end]\n",
    "            if sum==target:\n",
    "                return target\n",
    "            elif abs(target-sum)<diff:\n",
    "                diff=abs(target-sum)\n",
    "                ans=sum\n",
    "            if sum>target:\n",
    "                end-=1\n",
    "            else:\n",
    "                start+=1\n",
    "    return ans\n",
    "nums = [-1,2,1,-4]\n",
    "target = 1\n",
    "print(solution(nums,target))"
   ]
  },
  {
   "attachments": {},
   "cell_type": "markdown",
   "metadata": {},
   "source": [
    "Q.2 Given an array nums of n integers, return an array of all the unique quadruplets\n",
    "[nums[a], nums[b], nums[c], nums[d]] such that:\n",
    "\n",
    "sol."
   ]
  },
  {
   "cell_type": "code",
   "execution_count": null,
   "metadata": {},
   "outputs": [],
   "source": [
    "def solution(nums,target):\n",
    "    ans = set()\n",
    "    nums.sort()\n",
    "    for i in range(len(nums)):\n",
    "        for j in range(i+1,len(nums)):\n",
    "            k,l = j+1,len(nums)-1\n",
    "            while k<l:\n",
    "                s = nums[i]+nums[j]+nums[k]+nums[l]\n",
    "                if s == target:\n",
    "                    ans.add((nums[i],nums[j],nums[k],nums[l]))\n",
    "                    l-=1\n",
    "                    k+=1\n",
    "                elif s > target:\n",
    "                    l-=1\n",
    "                else:\n",
    "                    k+=1\n",
    "                \n",
    "    return ans\n",
    "nums = [1,0,-1,0,-2,2]\n",
    "target = 0\n",
    "print(solution(nums,target))"
   ]
  }
 ],
 "metadata": {
  "kernelspec": {
   "display_name": "Python 3",
   "language": "python",
   "name": "python3"
  },
  "language_info": {
   "codemirror_mode": {
    "name": "ipython",
    "version": 3
   },
   "file_extension": ".py",
   "mimetype": "text/x-python",
   "name": "python",
   "nbconvert_exporter": "python",
   "pygments_lexer": "ipython3",
   "version": "3.11.3"
  },
  "orig_nbformat": 4
 },
 "nbformat": 4,
 "nbformat_minor": 2
}
