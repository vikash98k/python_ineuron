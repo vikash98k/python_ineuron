{
 "cells": [
  {
   "attachments": {},
   "cell_type": "markdown",
   "metadata": {},
   "source": [
    "Question 1\n",
    "Given an integer array nums of length n and an integer target, find three integers\n",
    "in nums such that the sum is closest to the target.\n",
    "Return the sum of the three integers.\n",
    "\n",
    "sol."
   ]
  },
  {
   "cell_type": "code",
   "execution_count": 2,
   "metadata": {},
   "outputs": [
    {
     "name": "stdout",
     "output_type": "stream",
     "text": [
      "2\n"
     ]
    }
   ],
   "source": [
    "def solution(nums,target):\n",
    "    nums=sorted(nums)\n",
    "    diff=float('inf')\n",
    "    ans = 0\n",
    "    for i in range(len(nums)-1):\n",
    "        start=i+1\n",
    "        end=len(nums)-1\n",
    "        while(start<end):\n",
    "            sum=nums[i]+nums[start]+nums[end]\n",
    "            if sum==target:\n",
    "                return target\n",
    "            elif abs(target-sum)<diff:\n",
    "                diff=abs(target-sum)\n",
    "                ans=sum\n",
    "            if sum>target:\n",
    "                end-=1\n",
    "            else:\n",
    "                start+=1\n",
    "    return ans\n",
    "nums = [-1,2,1,-4]\n",
    "target = 1\n",
    "print(solution(nums,target))"
   ]
  },
  {
   "attachments": {},
   "cell_type": "markdown",
   "metadata": {},
   "source": [
    "Q.2 Given an array nums of n integers, return an array of all the unique quadruplets\n",
    "[nums[a], nums[b], nums[c], nums[d]] such that:\n",
    "\n",
    "sol."
   ]
  },
  {
   "cell_type": "code",
   "execution_count": 5,
   "metadata": {},
   "outputs": [
    {
     "name": "stdout",
     "output_type": "stream",
     "text": [
      "[(-2, -1, 1, 2), (-2, 0, 0, 2), (-1, 0, 0, 1)]\n"
     ]
    }
   ],
   "source": [
    "def solution(nums,target):\n",
    "    ans = set()\n",
    "    nums.sort()\n",
    "    for i in range(len(nums)):\n",
    "        for j in range(i+1,len(nums)):\n",
    "            k,l = j+1,len(nums)-1\n",
    "            while k<l:\n",
    "                s = nums[i]+nums[j]+nums[k]+nums[l]\n",
    "                if s == target:\n",
    "                    ans.add((nums[i],nums[j],nums[k],nums[l]))\n",
    "                    l-=1\n",
    "                    k+=1\n",
    "                elif s > target:\n",
    "                    l-=1\n",
    "                else:\n",
    "                    k+=1\n",
    "                \n",
    "    return ans\n",
    "nums = [1,0,-1,0,-2,2]\n",
    "target = 0\n",
    "print(solution(nums,target))"
   ]
  },
  {
   "attachments": {},
   "cell_type": "markdown",
   "metadata": {},
   "source": [
    "Q.3 A permutation of an array of integers is an arrangement of its members into a\n",
    "sequence or linear order.\n",
    "For example, for arr = [1,2,3], the following are all the permutations of arr:\n",
    "[1,2,3], [1,3,2], [2, 1, 3], [2, 3, 1], [3,1,2], [3,2,1].\n",
    "\n",
    "The next permutation of an array of integers is the next lexicographically greater\n",
    "permutation of its integer. More formally, if all the permutations of the array are\n",
    "sorted in one container according to their lexicographical order, then the next\n",
    "permutation of that array is the permutation that follows it in the sorted container.\n",
    "\n",
    "If such an arrangement is not possible, the array must be rearranged as the\n",
    "lowest possible order (i.e., sorted in ascending order)."
   ]
  },
  {
   "cell_type": "code",
   "execution_count": 7,
   "metadata": {},
   "outputs": [
    {
     "name": "stdout",
     "output_type": "stream",
     "text": [
      "[1, 3, 2]\n"
     ]
    }
   ],
   "source": [
    "def solution(nums):\n",
    "    i = j = len(nums)-1\n",
    "    while i > 0 and nums[i-1] >= nums[i]:\n",
    "        i -= 1\n",
    "    if i == 0:\n",
    "        nums.reverse()\n",
    "        return \n",
    "    while nums[j] <= nums[i-1]:\n",
    "        j -= 1\n",
    "    nums[i-1], nums[j] = nums[j], nums[i-1]\n",
    "    nums[i:]= nums[len(nums)-1:i-1:-1]\n",
    "    return nums\n",
    "\n",
    "nums = [1,2,3]\n",
    "print(solution(nums))"
   ]
  },
  {
   "attachments": {},
   "cell_type": "markdown",
   "metadata": {},
   "source": [
    "Q.4 Given a sorted array of distinct integers and a target value, return the index if the\n",
    "target is found. If not, return the index where it would be if it were inserted in\n",
    "order.\n",
    "\n",
    "sol."
   ]
  },
  {
   "cell_type": "code",
   "execution_count": 8,
   "metadata": {},
   "outputs": [
    {
     "name": "stdout",
     "output_type": "stream",
     "text": [
      "2\n"
     ]
    }
   ],
   "source": [
    "def element_search(nums,l,h,target):\n",
    "    if h>=l:\n",
    "        mid = (h+l)//2\n",
    "        if nums[mid] == target:\n",
    "            return mid\n",
    "        \n",
    "        elif nums[mid]>target:\n",
    "            return element_search(nums,l,mid-1,target)\n",
    "        elif nums[mid]<target:\n",
    "            return element_search(nums,mid+1,h,target)\n",
    "    else:\n",
    "        return l\n",
    "\n",
    "nums = [1,3,5,6]\n",
    "target = 5\n",
    "l = 0\n",
    "h = len(nums)-1\n",
    "print(element_search(nums,l,h,target))\n"
   ]
  },
  {
   "attachments": {},
   "cell_type": "markdown",
   "metadata": {},
   "source": [
    "Q.5 You are given a large integer represented as an integer array digits, where each\n",
    "digits[i] is the ith digit of the integer. The digits are ordered from most significant\n",
    "to least significant in left-to-right order. The large integer does not contain any\n",
    "leading 0's.\n",
    "\n",
    "sol."
   ]
  },
  {
   "cell_type": "code",
   "execution_count": 13,
   "metadata": {},
   "outputs": [
    {
     "name": "stdout",
     "output_type": "stream",
     "text": [
      "[1, 2, 4]\n"
     ]
    }
   ],
   "source": [
    "digits = [1,2,3]\n",
    "string = \"\".join(str(i) for i in digits)\n",
    "solution = int(string) +1\n",
    "result = [int(x) for x in str(solution)]\n",
    "print(result)"
   ]
  },
  {
   "attachments": {},
   "cell_type": "markdown",
   "metadata": {},
   "source": [
    "Q.6 Given a non-empty array of integers nums, every element appears twice except\n",
    "for one. Find that single one.\n",
    "You must implement a solution with a linear runtime complexity and use only\n",
    "constant extra space.\n",
    "\n",
    "sol."
   ]
  },
  {
   "cell_type": "code",
   "execution_count": 21,
   "metadata": {},
   "outputs": [
    {
     "name": "stdout",
     "output_type": "stream",
     "text": [
      "1\n"
     ]
    }
   ],
   "source": [
    "def solution(nums):\n",
    "    ans = nums[0]\n",
    "    for i in range(1,len(nums)):\n",
    "        ans = ans^nums[i]\n",
    "    return ans\n",
    "nums = [2,2,1]\n",
    "print(solution(nums))\n"
   ]
  },
  {
   "attachments": {},
   "cell_type": "markdown",
   "metadata": {},
   "source": [
    "Q.7 You are given an inclusive range [lower, upper] and a sorted unique integer array\n",
    "nums, where all elements are within the inclusive range.\n",
    "A number x is considered missing if x is in the range [lower, upper] and x is not in\n",
    "nums.\n",
    "Return the shortest sorted list of ranges that exactly covers all the missing\n",
    "numbers. That is, no element of nums is included in any of the ranges, and each\n",
    "missing number is covered by one of the ranges."
   ]
  },
  {
   "cell_type": "code",
   "execution_count": 29,
   "metadata": {},
   "outputs": [
    {
     "ename": "TypeError",
     "evalue": "findMissingRanges() missing 1 required positional argument: 'upper'",
     "output_type": "error",
     "traceback": [
      "\u001b[1;31m---------------------------------------------------------------------------\u001b[0m",
      "\u001b[1;31mTypeError\u001b[0m                                 Traceback (most recent call last)",
      "Cell \u001b[1;32mIn[29], line 14\u001b[0m\n\u001b[0;32m     12\u001b[0m lower \u001b[39m=\u001b[39m \u001b[39m0\u001b[39m\n\u001b[0;32m     13\u001b[0m upper \u001b[39m=\u001b[39m \u001b[39m99\u001b[39m\n\u001b[1;32m---> 14\u001b[0m \u001b[39mprint\u001b[39m(findMissingRanges(nums,lower,upper))\n",
      "\u001b[1;31mTypeError\u001b[0m: findMissingRanges() missing 1 required positional argument: 'upper'"
     ]
    }
   ],
   "source": [
    "\n",
    "def findMissingRanges(nums, lower, upper):\n",
    "    ans = []\n",
    "    nums = [lower - 1] + nums + [upper + 1]\n",
    "    for i in range(0, len(nums) - 1):\n",
    "        if nums[i] + 2 == nums[i + 1]:\n",
    "            ans.append(str(nums[i] + 1))\n",
    "        if nums[i + 1] > nums[i] + 2:\n",
    "            ans.append(str(nums[i] + 1) + \"->\" + str(nums[i + 1] - 1))\n",
    "    return ans\n",
    "\n",
    "nums = [0,1,3,50,75]\n",
    "lower = 0\n",
    "upper = 99\n",
    "print(findMissingRanges(nums,lower,upper))"
   ]
  },
  {
   "attachments": {},
   "cell_type": "markdown",
   "metadata": {},
   "source": [
    "Q.8 Given an array of meeting time intervals where intervals[i] = [starti, endi],\n",
    "determine if a person could attend all meetings.\n",
    "\n",
    "sol. \n"
   ]
  },
  {
   "cell_type": "code",
   "execution_count": 28,
   "metadata": {},
   "outputs": [
    {
     "name": "stdout",
     "output_type": "stream",
     "text": [
      "[0, 30]\n",
      "False\n"
     ]
    }
   ],
   "source": [
    "def solution(intervals):\n",
    "    new_intervals = sorted(intervals, key=lambda x: x[0])\n",
    "    for i in range(1,len(new_intervals)):\n",
    "        print(new_intervals[i-1])\n",
    "        if new_intervals[i-1][1] > new_intervals[i][0]:\n",
    "            return False\n",
    "    return True\n",
    "\n",
    "intervals = [[0,30],[5,10],[15,20]]\n",
    "print(solution(intervals))"
   ]
  }
 ],
 "metadata": {
  "kernelspec": {
   "display_name": "Python 3",
   "language": "python",
   "name": "python3"
  },
  "language_info": {
   "codemirror_mode": {
    "name": "ipython",
    "version": 3
   },
   "file_extension": ".py",
   "mimetype": "text/x-python",
   "name": "python",
   "nbconvert_exporter": "python",
   "pygments_lexer": "ipython3",
   "version": "3.11.3"
  },
  "orig_nbformat": 4
 },
 "nbformat": 4,
 "nbformat_minor": 2
}
