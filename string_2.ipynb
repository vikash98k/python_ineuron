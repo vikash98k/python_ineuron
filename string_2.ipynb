{
 "cells": [
  {
   "attachments": {},
   "cell_type": "markdown",
   "metadata": {},
   "source": [
    "Question 1\n",
    "\n",
    "Given two strings s1 and s2, return *the lowest **ASCII** sum of deleted characters to make two strings equal."
   ]
  },
  {
   "cell_type": "code",
   "execution_count": 2,
   "metadata": {},
   "outputs": [
    {
     "name": "stdout",
     "output_type": "stream",
     "text": [
      "231\n"
     ]
    }
   ],
   "source": [
    "def solution(s1,s2):\n",
    "    m,n = len(s1),len(s2)\n",
    "    dp = [[0] * (m + 1) for _ in range(n + 1)]\n",
    "    for i in range(1, m + 1):\n",
    "        for j in range(1, n + 1):\n",
    "            if s1[i - 1] == s2[j - 1]:\n",
    "                dp[j][i] = dp[j - 1][i - 1] + ord(s1[i - 1])\n",
    "            else:\n",
    "                dp[j][i] = max(dp[j - 1][i], dp[j][i - 1])\n",
    "    return sum(map(ord, s1 + s2)) - dp[-1][-1] * 2\n",
    "\n",
    "s1 = \"sea\"\n",
    "s2 = \"eat\"\n",
    "print(solution(s1,s2))"
   ]
  },
  {
   "attachments": {},
   "cell_type": "markdown",
   "metadata": {},
   "source": [
    "Q.2) Given a string s containing only three types of characters: '(', ')' and '*', return true *if* s *is **valid***.\n",
    "\n",
    "The following rules define a **valid** string:\n",
    "\n",
    "- Any left parenthesis '(' must have a corresponding right parenthesis ')'.\n",
    "- Any right parenthesis ')' must have a corresponding left parenthesis '('.\n",
    "- Left parenthesis '(' must go before the corresponding right parenthesis ')'.\n",
    "- '*' could be treated as a single right parenthesis ')' or a single left parenthesis '(' or an empty string \"\"."
   ]
  },
  {
   "cell_type": "code",
   "execution_count": 3,
   "metadata": {},
   "outputs": [
    {
     "name": "stdout",
     "output_type": "stream",
     "text": [
      "True\n"
     ]
    }
   ],
   "source": [
    "\n",
    "def solution(s):\n",
    "    stk = []\n",
    "    star = []\n",
    "    for idx, char in enumerate(s):\n",
    "        \n",
    "        if char == '(':\n",
    "            stk.append( idx )\n",
    "            \n",
    "        elif char == ')':\n",
    "            \n",
    "            if stk:\n",
    "                stk.pop()\n",
    "            elif star:\n",
    "                star.pop()\n",
    "            else:\n",
    "                return False\n",
    "        \n",
    "        else:\n",
    "            star.append( idx )\n",
    "    while stk and star:\n",
    "        if stk[-1] > star[-1]:\n",
    "            return False\n",
    "    \n",
    "        stk.pop()\n",
    "        star.pop()\n",
    "    return len(stk) == 0\n",
    "\n",
    "s = \"()\"\n",
    "print(solution(s))"
   ]
  },
  {
   "attachments": {},
   "cell_type": "markdown",
   "metadata": {},
   "source": [
    "Q.3) Given two strings word1 and word2, return *the minimum number of **steps** required to make* word1 *and* word2 *the same*.\n",
    "\n",
    "In one **step**, you can delete exactly one character in either string."
   ]
  },
  {
   "cell_type": "code",
   "execution_count": 4,
   "metadata": {},
   "outputs": [
    {
     "name": "stdout",
     "output_type": "stream",
     "text": [
      "2\n"
     ]
    }
   ],
   "source": [
    "def solution(w1,w2):\n",
    "    dp = [[0 for j in range(len(w2)+1)] for i in range(len(w1)+1)]\n",
    "    for i in range(len(w1)-1,-1,-1):\n",
    "        for j in range(len(w2)-1,-1,-1):\n",
    "            if w1[i] == w2[j]:\n",
    "                dp[i][j] = 1 + dp[i+1][j+1]\n",
    "            else:\n",
    "                dp[i][j] = max(dp[i+1][j],dp[i][j+1])\n",
    "    return len(w1)-dp[0][0] + len(w2)-dp[0][0]\n",
    "\n",
    "w1 = \"sea\"\n",
    "w2 = \"eat\"\n",
    "print(solution(w1,w2))"
   ]
  },
  {
   "attachments": {},
   "cell_type": "markdown",
   "metadata": {},
   "source": [
    "Q.4)You need to construct a binary tree from a string consisting of parenthesis and integers.\n",
    "\n",
    "The whole input represents a binary tree. It contains an integer followed by zero, one or two pairs of parenthesis. The integer represents the root's value and a pair of parenthesis contains a child binary tree with the same structure.\n",
    "You always start to construct the **left** child node of the parent first if it exists."
   ]
  },
  {
   "cell_type": "code",
   "execution_count": 18,
   "metadata": {},
   "outputs": [
    {
     "ename": "AttributeError",
     "evalue": "'str' object has no attribute 'val'",
     "output_type": "error",
     "traceback": [
      "\u001b[1;31m---------------------------------------------------------------------------\u001b[0m",
      "\u001b[1;31mAttributeError\u001b[0m                            Traceback (most recent call last)",
      "Cell \u001b[1;32mIn[18], line 29\u001b[0m\n\u001b[0;32m     27\u001b[0m s \u001b[39m=\u001b[39m \u001b[39m\"\u001b[39m\u001b[39m4(2(3)(1))(6(5))\u001b[39m\u001b[39m\"\u001b[39m\n\u001b[0;32m     28\u001b[0m obj \u001b[39m=\u001b[39m Solution()\n\u001b[1;32m---> 29\u001b[0m \u001b[39mprint\u001b[39m(obj\u001b[39m.\u001b[39;49mtree2str(s))\n",
      "Cell \u001b[1;32mIn[18], line 24\u001b[0m, in \u001b[0;36mSolution.tree2str\u001b[1;34m(self, root)\u001b[0m\n\u001b[0;32m     22\u001b[0m         ans\u001b[39m.\u001b[39mappend(\u001b[39m'\u001b[39m\u001b[39m)\u001b[39m\u001b[39m'\u001b[39m)\n\u001b[0;32m     23\u001b[0m     \u001b[39mreturn\u001b[39;00m ans\n\u001b[1;32m---> 24\u001b[0m h(root)\n\u001b[0;32m     25\u001b[0m \u001b[39mreturn\u001b[39;00m \u001b[39m\"\u001b[39m\u001b[39m\"\u001b[39m\u001b[39m.\u001b[39mjoin(ans)\n",
      "Cell \u001b[1;32mIn[18], line 12\u001b[0m, in \u001b[0;36mSolution.tree2str.<locals>.h\u001b[1;34m(node)\u001b[0m\n\u001b[0;32m     10\u001b[0m \u001b[39mif\u001b[39;00m(node \u001b[39mis\u001b[39;00m \u001b[39mNone\u001b[39;00m):\n\u001b[0;32m     11\u001b[0m     \u001b[39mreturn\u001b[39;00m ans\n\u001b[1;32m---> 12\u001b[0m ans\u001b[39m.\u001b[39mappend(\u001b[39mstr\u001b[39m(node\u001b[39m.\u001b[39;49mval))\n\u001b[0;32m     13\u001b[0m \u001b[39mif\u001b[39;00m(node\u001b[39m.\u001b[39mleft \u001b[39mis\u001b[39;00m \u001b[39mNone\u001b[39;00m \u001b[39mand\u001b[39;00m node\u001b[39m.\u001b[39mright \u001b[39mis\u001b[39;00m \u001b[39mnot\u001b[39;00m \u001b[39mNone\u001b[39;00m):\n\u001b[0;32m     14\u001b[0m     ans\u001b[39m.\u001b[39mappend(\u001b[39m'\u001b[39m\u001b[39m()\u001b[39m\u001b[39m'\u001b[39m)\n",
      "\u001b[1;31mAttributeError\u001b[0m: 'str' object has no attribute 'val'"
     ]
    }
   ],
   "source": [
    "\n",
    "class TreeNode:\n",
    "    def __init__(self, val=0, left=None, right=None):\n",
    "        self.val = val\n",
    "        self.left = left\n",
    "        self.right = right\n",
    "class Solution:\n",
    "    def tree2str(self, root: TreeNode) -> str:\n",
    "        ans=[]\n",
    "        def h(node):\n",
    "            if(node is None):\n",
    "                return ans\n",
    "            ans.append(str(node.val))\n",
    "            if(node.left is None and node.right is not None):\n",
    "                ans.append('()')\n",
    "            if(node.left):\n",
    "                ans.append('(')\n",
    "                h(node.left)\n",
    "                ans.append(')')\n",
    "            if(node.right):\n",
    "                ans.append('(')\n",
    "                h(node.right)\n",
    "                ans.append(')')\n",
    "            return ans\n",
    "        h(root)\n",
    "        return \"\".join(ans)\n",
    "\n",
    "s = \"4(2(3)(1))(6(5))\"\n",
    "obj = Solution()\n",
    "print(obj.tree2str(s))"
   ]
  },
  {
   "attachments": {},
   "cell_type": "markdown",
   "metadata": {},
   "source": [
    "Q.5) Given an array of characters chars, compress it using the following algorithm:\n",
    "\n",
    "Begin with an empty string s. For each group of **consecutive repeating characters** in chars:\n",
    "\n",
    "- If the group's length is 1, append the character to s.\n",
    "- Otherwise, append the character followed by the group's length.\n",
    "\n",
    "The compressed string s **should not be returned separately**, but instead, be stored **in the input character array chars**. Note that group lengths that are 10 or longer will be split into multiple characters in chars.\n",
    "\n",
    "After you are done **modifying the input array,** return *the new length of the array*.\n",
    "\n",
    "You must write an algorithm that uses only constant extra space."
   ]
  },
  {
   "cell_type": "code",
   "execution_count": 7,
   "metadata": {},
   "outputs": [
    {
     "name": "stdout",
     "output_type": "stream",
     "text": [
      "6\n"
     ]
    }
   ],
   "source": [
    "def solution(chars):\n",
    "    ans = 0\n",
    "    i = 0\n",
    "\n",
    "    while i < len(chars):\n",
    "      letter = chars[i]\n",
    "      count = 0\n",
    "      while i < len(chars) and chars[i] == letter:\n",
    "        count += 1\n",
    "        i += 1\n",
    "      chars[ans] = letter\n",
    "      ans += 1\n",
    "      if count > 1:\n",
    "        for c in str(count):\n",
    "          chars[ans] = c\n",
    "          ans += 1\n",
    "    return ans\n",
    "chars = [\"a\",\"a\",\"b\",\"b\",\"c\",\"c\",\"c\"]\n",
    "print(solution(chars))"
   ]
  },
  {
   "attachments": {},
   "cell_type": "markdown",
   "metadata": {},
   "source": [
    "Q.6) Given two strings s and p, return *an array of all the start indices of* p*'s anagrams in* s. You may return the answer in **any order**.\n",
    "\n",
    "An **Anagram** is a word or phrase formed by rearranging the letters of a different word or phrase, typically using all the original letters exactly once."
   ]
  },
  {
   "cell_type": "code",
   "execution_count": 8,
   "metadata": {},
   "outputs": [
    {
     "name": "stdout",
     "output_type": "stream",
     "text": [
      "[0, 6]\n"
     ]
    }
   ],
   "source": [
    "def solution(s,p):\n",
    "    ans=[]\n",
    "    q=\"\".join(sorted(p))\n",
    "    for i in range(0,len(s)-len(p)+1):\n",
    "        p=\"\".join(sorted(s[i:i+len(p)]))\n",
    "        if p==q:\n",
    "            ans.append(i)\n",
    "    return ans\n",
    "s = \"cbaebabacd\"\n",
    "p = \"abc\"\n",
    "print(solution(s,p))"
   ]
  },
  {
   "attachments": {},
   "cell_type": "markdown",
   "metadata": {},
   "source": [
    "Q.7)Given an encoded string, return its decoded string.\n",
    "\n",
    "The encoding rule is: k[encoded_string], where the encoded_string inside the square brackets is being repeated exactly k times. Note that k is guaranteed to be a positive integer.\n",
    "\n",
    "You may assume that the input string is always valid; there are no extra white spaces, square brackets are well-formed, etc. Furthermore, you may assume that the original data does not contain any digits and that digits are only for those repeat numbers, k. For example, there will not be input like 3a or 2[4].\n",
    "\n",
    "The test cases are generated so that the length of the output will never exceed 105."
   ]
  },
  {
   "cell_type": "code",
   "execution_count": 9,
   "metadata": {},
   "outputs": [
    {
     "name": "stdout",
     "output_type": "stream",
     "text": [
      "aaabcbc\n"
     ]
    }
   ],
   "source": [
    "def solution(s):\n",
    "    stack = []\n",
    "    curNum = 0\n",
    "    curString = ''\n",
    "    for c in s:\n",
    "        if c == '[':\n",
    "            stack.append(curString)\n",
    "            stack.append(curNum)\n",
    "            curString = ''\n",
    "            curNum = 0\n",
    "        elif c == ']':\n",
    "            num = stack.pop()\n",
    "            prevString = stack.pop()\n",
    "            curString = prevString + num*curString\n",
    "        elif c.isdigit():   \n",
    "            curNum = curNum*10 + int(c)\n",
    "        else:\n",
    "            curString += c\n",
    "    return curString\n",
    "\n",
    "s = \"3[a]2[bc]\"\n",
    "print(solution(s))"
   ]
  },
  {
   "attachments": {},
   "cell_type": "markdown",
   "metadata": {},
   "source": [
    "Q.8)Given two strings s and goal, return true *if you can swap two letters in* s *so the result is equal to* goal*, otherwise, return* false*.*\n",
    "\n",
    "Swapping letters is defined as taking two indices i and j (0-indexed) such that i != j and swapping the characters at s[i] and s[j]."
   ]
  },
  {
   "cell_type": "code",
   "execution_count": 10,
   "metadata": {},
   "outputs": [
    {
     "name": "stdout",
     "output_type": "stream",
     "text": [
      "True\n"
     ]
    }
   ],
   "source": [
    "def solution(s,goal):\n",
    "    if len(s) != len(goal):\n",
    "        return False\n",
    "    \n",
    "    if s==goal:\n",
    "        return True if len(s) - len(set(goal)) >= 1 else False\n",
    "\n",
    "    diff = []\n",
    "    for i in range(len(s)):\n",
    "        if s[i] != goal[i]:\n",
    "            diff.append(i)\n",
    "            if len(diff) > 2: return False\n",
    "            \n",
    "    # not exactly two differences\n",
    "    if len(diff) != 2: return False\n",
    "\n",
    "    if s[diff[0]] == goal[diff[1]] and s[diff[1]] == goal[diff[0]]:\n",
    "        return True\n",
    "    return False\n",
    "\n",
    "s = \"ab\"\n",
    "goal = \"ba\"\n",
    "print(solution(s,goal))"
   ]
  }
 ],
 "metadata": {
  "kernelspec": {
   "display_name": "Python 3",
   "language": "python",
   "name": "python3"
  },
  "language_info": {
   "codemirror_mode": {
    "name": "ipython",
    "version": 3
   },
   "file_extension": ".py",
   "mimetype": "text/x-python",
   "name": "python",
   "nbconvert_exporter": "python",
   "pygments_lexer": "ipython3",
   "version": "3.11.3"
  },
  "orig_nbformat": 4
 },
 "nbformat": 4,
 "nbformat_minor": 2
}
