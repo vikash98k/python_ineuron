{
 "cells": [
  {
   "attachments": {},
   "cell_type": "markdown",
   "metadata": {},
   "source": [
    "creating a numpy array ->\n",
    "1) various numbers of ranks \n",
    "2) defining size of the array\n",
    "3) various data types (list,tuple)\n",
    "\n"
   ]
  },
  {
   "cell_type": "code",
   "execution_count": 11,
   "metadata": {},
   "outputs": [
    {
     "name": "stdout",
     "output_type": "stream",
     "text": [
      "[1 2 3]\n",
      "[1 2 3]\n",
      "[[1 2 3]\n",
      " [4 5 6]]\n",
      "###############################s\n",
      "[[-1.  0.]\n",
      " [ 4.  6.]]\n",
      "[0. 6. 2. 3.]\n"
     ]
    }
   ],
   "source": [
    "import numpy as np\n",
    "# using tuple\n",
    "arr = np.array((1,2,3))\n",
    "print(arr)\n",
    "# using list\n",
    "arr2 = np.array([1,2,3])\n",
    "print(arr2)\n",
    "# using by rank \n",
    "arr3 = np.array([[1,2,3],[4,5,6]])\n",
    "print(arr3)\n",
    "print(\"###############################s\")\n",
    "arr = np.array([[-1, 2, 0, 4],\n",
    "                [4, -0.5, 6, 0],\n",
    "                [2.6, 0, 7, 8],\n",
    "                [3, -7, 4, 2.0]])\n",
    "# row and column ::2 alternative column for row :2 we used\n",
    "sliced_arr = arr[:2,::2]\n",
    "print(sliced_arr)\n",
    "# index of arr (1,3),(1,2),(0,1),(3,0)\n",
    "Index_arr = arr[[1, 1, 0, 3], \n",
    "                [3, 2, 1, 0]]\n",
    "print(Index_arr)"
   ]
  },
  {
   "attachments": {},
   "cell_type": "markdown",
   "metadata": {},
   "source": [
    "Basic Array Operations"
   ]
  },
  {
   "cell_type": "code",
   "execution_count": 18,
   "metadata": {},
   "outputs": [
    {
     "name": "stdout",
     "output_type": "stream",
     "text": [
      "[[1 2]\n",
      " [3 4]]\n",
      "[[2 3]\n",
      " [4 5]]\n",
      "10\n",
      "[[5 5]\n",
      " [5 5]]\n"
     ]
    }
   ],
   "source": [
    "import numpy as np\n",
    "a = np.array([[1, 2],\n",
    "              [3, 4]])\n",
    "b = np.array([[4, 3],\n",
    "              [2, 1]])\n",
    "print(a)\n",
    "# for adding in every element\n",
    "print(a+1)\n",
    "# sum of every elements \n",
    "print(a.sum())\n",
    "# sum of two array \n",
    "print(a+b)"
   ]
  },
  {
   "attachments": {},
   "cell_type": "markdown",
   "metadata": {},
   "source": [
    "Data types in numpy-->\n",
    "1) Every Numpy array is a table of elements (usually numbers), all of the same type.\n",
    "2) indexed by a tuple of positive integers.\n",
    "3)  Every ndarray has an associated data type (dtype) object.\n",
    "4) "
   ]
  },
  {
   "cell_type": "code",
   "execution_count": 29,
   "metadata": {},
   "outputs": [
    {
     "name": "stdout",
     "output_type": "stream",
     "text": [
      "int32\n",
      "38.0\n"
     ]
    }
   ],
   "source": [
    "import numpy as np\n",
    "res = np.array([1,2,3])\n",
    "print(res.dtype)\n",
    "\n",
    "arr1 = np.array([[4, 7], [2, 6]], \n",
    "                 dtype = np.float64)\n",
    "arr2 = np.array([[3, 6], [2, 8]], \n",
    "                 dtype = np.float64)\n",
    "# adding two arrays\n",
    "res = np.add(arr1,arr2)\n",
    "res = sum(res)\n",
    "print(sum(res))"
   ]
  },
  {
   "attachments": {},
   "cell_type": "markdown",
   "metadata": {},
   "source": [
    "Methods in Numpy"
   ]
  },
  {
   "cell_type": "code",
   "execution_count": 81,
   "metadata": {},
   "outputs": [
    {
     "name": "stdout",
     "output_type": "stream",
     "text": [
      "[[0 1]\n",
      " [2 3]]\n",
      "[1.  1.1 1.2 1.3 1.4 1.5 1.6 1.7 1.8 1.9]\n",
      "(14+23j)\n",
      "[[ 0  1  2  3]\n",
      " [ 4  5  6  7]\n",
      " [ 8  9 10 11]]\n",
      "[[ 0  1  2  3]\n",
      " [ 4  5  6  7]\n",
      " [ 8  9 10 15]]\n",
      "[[ 0  1  2  3]\n",
      " [ 4  5  6  7]\n",
      " [ 8  9 10 15]]\n",
      "###########\n",
      "[[ 0  1  1  2  3]\n",
      " [ 4  2  5  6  7]\n",
      " [ 8  3  9 10 11]]\n",
      "[[ 4  2  5  6  7]\n",
      " [ 8  3  9 10 11]]\n",
      "[1717986922 1073636966]\n",
      "[1 2 3 4]\n",
      "<class 'numpy.ndarray'>\n"
     ]
    }
   ],
   "source": [
    "import numpy as np\n",
    "# arange \n",
    "print(np.arange(4).reshape(2,2))\n",
    "print(np.arange(1,2,0.1))\n",
    "\n",
    "# dot \n",
    "print(np.dot(5+2j,4+3j))\n",
    "\n",
    "# place function\n",
    "ar = np.arange(12).reshape(3,4)\n",
    "print(ar)\n",
    "# place \n",
    "np.place(ar, ar > 10, [15, 25, 35])\n",
    "print(ar)\n",
    "\n",
    "# absolute\n",
    "print(np.absolute(ar))\n",
    "\n",
    "# insert \n",
    "arr = np.arange(12).reshape(3,4)\n",
    "# print(arr)\n",
    "# np.insert(arr,1,9,axis=1)\n",
    "print(\"###########\")\n",
    "a = np.insert(arr, [1],[[1],[2],[3]], axis = 1)\n",
    "print(a)\n",
    "\n",
    "# deletion\n",
    "\n",
    "new_array= np.delete(a,0,0)\n",
    "print(new_array)\n",
    "\n",
    "new = np.empty(2,dtype=int)\n",
    "print(new)\n",
    "new_array_2 =  np.array([[1,2],[3,4]])\n",
    "# convert 2d into 1d array\n",
    "print(new_array_2.flatten())\n",
    "print(type(new_array_2))"
   ]
  },
  {
   "attachments": {},
   "cell_type": "markdown",
   "metadata": {},
   "source": [
    "make array with zeros\n"
   ]
  },
  {
   "cell_type": "code",
   "execution_count": 83,
   "metadata": {},
   "outputs": [
    {
     "name": "stdout",
     "output_type": "stream",
     "text": [
      "[0 0 0 0 0 0 0 0 0]\n"
     ]
    }
   ],
   "source": [
    "import numpy as np\n",
    "\n",
    "a = np.zeros(9,dtype=int)\n",
    "print(a)"
   ]
  }
 ],
 "metadata": {
  "kernelspec": {
   "display_name": "Python 3",
   "language": "python",
   "name": "python3"
  },
  "language_info": {
   "codemirror_mode": {
    "name": "ipython",
    "version": 3
   },
   "file_extension": ".py",
   "mimetype": "text/x-python",
   "name": "python",
   "nbconvert_exporter": "python",
   "pygments_lexer": "ipython3",
   "version": "3.11.3"
  },
  "orig_nbformat": 4
 },
 "nbformat": 4,
 "nbformat_minor": 2
}
