{
 "cells": [
  {
   "attachments": {},
   "cell_type": "markdown",
   "metadata": {},
   "source": [
    "Q.1) Write a Python program to check if a given string is an anagram."
   ]
  },
  {
   "cell_type": "code",
   "execution_count": 1,
   "metadata": {},
   "outputs": [
    {
     "data": {
      "text/plain": [
       "True"
      ]
     },
     "execution_count": 1,
     "metadata": {},
     "output_type": "execute_result"
    }
   ],
   "source": [
    "# anagram string means both string have same character\n",
    "def Anagram(string1,string2):\n",
    "    # check both sorted string are same or not Time Complexity (nlogn)\n",
    "    if sorted(string1) == sorted(string2):\n",
    "        return True\n",
    "    else:\n",
    "        return False\n",
    "string1 = \"ineuron\"\n",
    "string2 = \"uronine\"\n",
    "Anagram(string1,string2)"
   ]
  },
  {
   "attachments": {},
   "cell_type": "markdown",
   "metadata": {},
   "source": [
    "Q.2) Write a Python program to find the maximum and minimum values in a\n",
    "dictionary."
   ]
  },
  {
   "cell_type": "code",
   "execution_count": 2,
   "metadata": {},
   "outputs": [
    {
     "name": "stdout",
     "output_type": "stream",
     "text": [
      "Maximum Value:  5874\n",
      "Minimum Value:  500\n"
     ]
    }
   ],
   "source": [
    "my_dict = {'x':500, 'y':5874, 'z': 560}\n",
    "my_dict = my_dict.values()\n",
    "print('Maximum Value: ',max(my_dict))\n",
    "print('Minimum Value: ',min(my_dict))\n"
   ]
  },
  {
   "attachments": {},
   "cell_type": "markdown",
   "metadata": {},
   "source": [
    "Q.3) Write a Python program to find the average of a list of numbers."
   ]
  },
  {
   "cell_type": "code",
   "execution_count": 3,
   "metadata": {},
   "outputs": [
    {
     "data": {
      "text/plain": [
       "35.0"
      ]
     },
     "execution_count": 3,
     "metadata": {},
     "output_type": "execute_result"
    }
   ],
   "source": [
    "# average is equal to total sum / by count of number\n",
    "def Average(lst):\n",
    "\tsum_of_list = 0\n",
    "\tfor i in range(len(lst)):\n",
    "\t\tsum_of_list += lst[i]\n",
    "\taverage = sum_of_list/len(lst)\n",
    "\treturn average\n",
    "\n",
    "lst = [15, 9, 55, 35, 20, 62, 49]\n",
    "Average(lst)\n"
   ]
  },
  {
   "attachments": {},
   "cell_type": "markdown",
   "metadata": {},
   "source": [
    "Q.4) Write a Python program to remove all vowels from a string."
   ]
  },
  {
   "cell_type": "code",
   "execution_count": 4,
   "metadata": {},
   "outputs": [
    {
     "data": {
      "text/plain": [
       "'nrn'"
      ]
     },
     "execution_count": 4,
     "metadata": {},
     "output_type": "execute_result"
    }
   ],
   "source": [
    "def removeVowel(string):\n",
    "    vowels = [\"a\",\"e\",\"i\",\"o\",\"u\",\"A\",\"E\",\"I\",\"O\",\"U\"]\n",
    "    result = \"\"\n",
    "    for i in range(len(string)):\n",
    "        if string[i] not in vowels:\n",
    "            result += \"\".join(string[i])\n",
    "        else:\n",
    "            continue\n",
    "    return result\n",
    "string =\"ineuron\"\n",
    "removeVowel(string)"
   ]
  },
  {
   "attachments": {},
   "cell_type": "markdown",
   "metadata": {},
   "source": [
    "Q.5) Write a Python function to calculate the factorial of a number using recursion."
   ]
  },
  {
   "cell_type": "code",
   "execution_count": 5,
   "metadata": {},
   "outputs": [
    {
     "data": {
      "text/plain": [
       "24"
      ]
     },
     "execution_count": 5,
     "metadata": {},
     "output_type": "execute_result"
    }
   ],
   "source": [
    "def factorial(number):\n",
    "    if number<=1:\n",
    "        return number\n",
    "    else:\n",
    "        return number * factorial(number-1)\n",
    "    return number\n",
    "number = 4\n",
    "factorial(number)"
   ]
  },
  {
   "attachments": {},
   "cell_type": "markdown",
   "metadata": {},
   "source": [
    "Q.6) Write a Python program to merge two unsorted lists into a single sorted list\n",
    "using the merge sort algorithm."
   ]
  },
  {
   "cell_type": "code",
   "execution_count": 6,
   "metadata": {},
   "outputs": [
    {
     "data": {
      "text/plain": [
       "[2, 3, 5, 10, 12, 15, 20]"
      ]
     },
     "execution_count": 6,
     "metadata": {},
     "output_type": "execute_result"
    }
   ],
   "source": [
    "def sortedMerge(a, b,n, m):\n",
    "    res = [0]*(n+m)\n",
    "    i, j, k = 0, 0, 0\n",
    "    while (i < n):\n",
    "        res[k] = a[i]\n",
    "        i += 1\n",
    "        k += 1\n",
    "    while (j < m):\n",
    "        res[k] = b[j]\n",
    "        j += 1\n",
    "        k += 1\n",
    "    res.sort()\n",
    "    return res\n",
    "  \n",
    "a = [ 10, 5, 15 ]\n",
    "b = [ 20, 3, 2, 12 ]\n",
    "n = len(a)\n",
    "m = len(b)\n",
    "sortedMerge(a,b,n,m)"
   ]
  },
  {
   "attachments": {},
   "cell_type": "markdown",
   "metadata": {},
   "source": [
    "Q.7)Write a Python program to find the GCD (Greatest Common Divisor) of two\n",
    "numbers. "
   ]
  },
  {
   "cell_type": "code",
   "execution_count": 7,
   "metadata": {},
   "outputs": [
    {
     "data": {
      "text/plain": [
       "12"
      ]
     },
     "execution_count": 7,
     "metadata": {},
     "output_type": "execute_result"
    }
   ],
   "source": [
    "def gcd(a, b):\n",
    "\tif(b == 0):\n",
    "\t\treturn a\n",
    "\telse:\n",
    "\t\treturn gcd(b, a % b)\n",
    "\n",
    "a = 60\n",
    "b = 48\n",
    "gcd(a,b)"
   ]
  },
  {
   "attachments": {},
   "cell_type": "markdown",
   "metadata": {},
   "source": [
    "Q.8) Write a Python program to find the second-largest element in a list."
   ]
  },
  {
   "cell_type": "code",
   "execution_count": 8,
   "metadata": {},
   "outputs": [
    {
     "data": {
      "text/plain": [
       "45"
      ]
     },
     "execution_count": 8,
     "metadata": {},
     "output_type": "execute_result"
    }
   ],
   "source": [
    "def findLargest(arr):\n",
    "\tsecondLargest = 0\n",
    "\tlargest = min(arr)\n",
    "\n",
    "\tfor i in range(len(arr)):\n",
    "\t\tif arr[i] > largest:\n",
    "\t\t\tsecondLargest = largest\n",
    "\t\t\tlargest = arr[i]\n",
    "\t\telse:\n",
    "\t\t\tsecondLargest = max(secondLargest, arr[i])\n",
    "\treturn secondLargest\n",
    "\n",
    "arr = [10, 20, 4, 45, 99]\n",
    "findLargest(arr)\n"
   ]
  },
  {
   "attachments": {},
   "cell_type": "markdown",
   "metadata": {},
   "source": [
    "Q.9) Write a Python program to find the longest common subsequence between two\n",
    "strings using dynamic programming."
   ]
  },
  {
   "cell_type": "code",
   "execution_count": 9,
   "metadata": {},
   "outputs": [
    {
     "name": "stdout",
     "output_type": "stream",
     "text": [
      "Length of LCS is  4\n"
     ]
    }
   ],
   "source": [
    "def lcs(string1, string2):\n",
    "    m = len(string1)\n",
    "    n = len(string2)\n",
    " \n",
    "    # declaring the array for storing the dp values\n",
    "    L = [[None]*(n + 1) for i in range(m + 1)]\n",
    "\n",
    "    for i in range(m + 1):\n",
    "        for j in range(n + 1):\n",
    "            if i == 0 or j == 0 :\n",
    "                L[i][j] = 0\n",
    "\n",
    "            elif string1[i-1] == string2[j-1]:\n",
    "                L[i][j] = L[i-1][j-1]+1\n",
    "                \n",
    "            else:\n",
    "                L[i][j] = max(L[i-1][j], L[i][j-1])\n",
    "                \n",
    "\n",
    "    return L[m][n]\n",
    " \n",
    " \n",
    "string1 = \"AGGTAB\"\n",
    "string2 = \"GXTXAYB\"\n",
    "print(\"Length of LCS is \", lcs(string1, string2))\n"
   ]
  }
 ],
 "metadata": {
  "kernelspec": {
   "display_name": "Python 3",
   "language": "python",
   "name": "python3"
  },
  "language_info": {
   "codemirror_mode": {
    "name": "ipython",
    "version": 3
   },
   "file_extension": ".py",
   "mimetype": "text/x-python",
   "name": "python",
   "nbconvert_exporter": "python",
   "pygments_lexer": "ipython3",
   "version": "3.11.3"
  },
  "orig_nbformat": 4
 },
 "nbformat": 4,
 "nbformat_minor": 2
}
