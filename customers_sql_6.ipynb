{
 "cells": [
  {
   "cell_type": "code",
   "execution_count": 1,
   "metadata": {},
   "outputs": [
    {
     "name": "stdout",
     "output_type": "stream",
     "text": [
      "(2, 'Jane Smith', 30, 5, 3)\n",
      "(3, 'Mark Johnson', 35, 2, 7)\n"
     ]
    }
   ],
   "source": [
    "import pymysql\n",
    "\n",
    "# Establish a connection to the database\n",
    "connection = pymysql.connect(\n",
    "    host='localhost',\n",
    "    user='root',\n",
    "    password='admin@123',\n",
    "    database='mysql'\n",
    ")\n",
    "# insert data into customer table\n",
    "# sql_command = \"INSERT INTO customers (customer_id, name, age, num_purchases) VALUES (%s, %s, %s, %s)\"\n",
    "# data = [\n",
    "#     (1, 'John Doe', 25, 3),\n",
    "#     (2, 'Jane Smith', 30, 5),\n",
    "#     (3, 'Mark Johnson', 35, 2),\n",
    "# ]\n",
    "# cursor = connection.cursor()\n",
    "\n",
    "# for row in data:\n",
    "#     cursor.execute(sql_command, row)\n",
    "\n",
    "# connection.commit()\n",
    "\n",
    "# cursor.close()\n",
    "# connection.close()\n",
    "\n",
    "# Retrieve all the customers from the \"Customers\" table whose age is greater than 25 and have made at least one purchase.\n",
    "\n",
    "sql_command = \"select * from customers where age>25 and num_purchases>=1\"\n",
    "cursor = connection.cursor()\n",
    "cursor.execute(sql_command)\n",
    "results = cursor.fetchall()\n",
    "for row in results:\n",
    "    print(row)\n",
    "\n",
    "\n",
    "\n",
    "\n",
    "\n"
   ]
  }
 ],
 "metadata": {
  "kernelspec": {
   "display_name": "Python 3",
   "language": "python",
   "name": "python3"
  },
  "language_info": {
   "codemirror_mode": {
    "name": "ipython",
    "version": 3
   },
   "file_extension": ".py",
   "mimetype": "text/x-python",
   "name": "python",
   "nbconvert_exporter": "python",
   "pygments_lexer": "ipython3",
   "version": "3.11.3"
  },
  "orig_nbformat": 4
 },
 "nbformat": 4,
 "nbformat_minor": 2
}
